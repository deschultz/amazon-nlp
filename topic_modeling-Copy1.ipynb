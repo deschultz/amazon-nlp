{
 "cells": [
  {
   "cell_type": "code",
   "execution_count": 1,
   "metadata": {},
   "outputs": [],
   "source": [
    "import boto3\n",
    "import pandas as pd\n",
    "import sagemaker\n",
    "from sagemaker import get_execution_role\n",
    "from sagemaker.amazon.amazon_estimator import get_image_uri\n",
    "\n",
    "sess = sagemaker.Session()\n",
    "role = get_execution_role()\n",
    "region_name = boto3.Session().region_name\n",
    "\n",
    "s3 = boto3.client('s3')"
   ]
  },
  {
   "cell_type": "code",
   "execution_count": 2,
   "metadata": {},
   "outputs": [
    {
     "data": {
      "text/plain": [
       "(3600000, 3)"
      ]
     },
     "execution_count": 2,
     "metadata": {},
     "output_type": "execute_result"
    }
   ],
   "source": [
    "container = get_image_uri(region_name, 'ntm')\n",
    "\n",
    "bucket_name = 'e15-nlp-amazon-review-polarity'\n",
    "train_data_key = 'train.csv'\n",
    "test_data_key = 'test.csv'\n",
    "\n",
    "train_data = pd.read_csv(s3.get_object(Bucket = bucket_name,\n",
    "                                Key = train_data_key)['Body'], \n",
    "                                header = None, \n",
    "                                names = ['class_label','review_title',\n",
    "                                        'review_text'])\n",
    "train_data.shape"
   ]
  },
  {
   "cell_type": "code",
   "execution_count": 18,
   "metadata": {},
   "outputs": [],
   "source": [
    "test_data = pd.read_csv(s3.get_object(Bucket=bucket_name,\n",
    "                                        Key=test_data_key)['Body'],\n",
    "                                        header=None,\n",
    "                                        names=['class_label','review_title',\n",
    "                                        'review_text'])"
   ]
  },
  {
   "cell_type": "code",
   "execution_count": 3,
   "metadata": {},
   "outputs": [],
   "source": [
    "#common_spanish_words = ['libro','que','el','la','una','para','bien','eso',\n",
    "                      # 'aquí','todo','vamos','muey','estoy','tengo','cuando'\n",
    "                      # 'lo','pero','para','esta','los']\n",
    "#common_spanish_words = '|'.join(common_spanish_words)\n",
    "\n",
    "train_data_neg = train_data[train_data['class_label']==1]\n",
    "comprehend = boto3.client('comprehend')"
   ]
  },
  {
   "cell_type": "code",
   "execution_count": 23,
   "metadata": {},
   "outputs": [],
   "source": [
    "#import re\n",
    "#train_data = train_data[train_data['class_label'] == 1]\n",
    "##train_data_en = train_data[~mask]\n",
    "#train_data_esp = train_data[mask]"
   ]
  },
  {
   "cell_type": "code",
   "execution_count": 4,
   "metadata": {},
   "outputs": [],
   "source": [
    "train_data.reset_index(inplace = True, drop = True)\n",
    "def try_and_find_lan(text):\n",
    "    try:\n",
    "        result = comprehend.detect_dominant_language(Text = text)\n",
    "        return result['Languages'][0]['LanguageCode']\n",
    "    except Exception as e:\n",
    "        print(e)\n",
    "        return 'N/A'\n",
    "\n",
    "#train_data['language'] = train_data['review_text'].apply(lambda x: try_and_find_lan(x))\n"
   ]
  },
  {
   "cell_type": "code",
   "execution_count": 4,
   "metadata": {},
   "outputs": [],
   "source": [
    "def batch_detect_language(text_column):\n",
    "    import math\n",
    "    \n",
    "    textList = text_column.tolist()\n",
    "    \n",
    "    batch_size = 25\n",
    "    \n",
    "    num_batches = math.ceil(len(textList) / batch_size)\n",
    "    \n",
    "    langs = [''] * len(textList)\n",
    "    \n",
    "    for batch in range(num_batches):\n",
    "        \n",
    "        start = batch * batch_size\n",
    "        end = batch_size * (batch + 1)\n",
    "        \n",
    "        try:\n",
    "            textBatch = textList[start:end]\n",
    "            \n",
    "        except IndexError:\n",
    "            textBatch = textList[start:]\n",
    "    \n",
    "        results = comprehend.batch_detect_dominant_language(TextList=textBatch)\n",
    "    \n",
    "        for result in results['ResultList']:\n",
    "\n",
    "            index = result['Index'] + start\n",
    "\n",
    "            lang = result['Languages']\n",
    "\n",
    "            if len(lang) == 1:\n",
    "                lang = lang[0]['LanguageCode']\n",
    "            else:\n",
    "                lang = 'multi'\n",
    "\n",
    "            langs[index] = lang\n",
    "    \n",
    "    return langs"
   ]
  },
  {
   "cell_type": "code",
   "execution_count": 8,
   "metadata": {},
   "outputs": [
    {
     "name": "stdout",
     "output_type": "stream",
     "text": [
      "CPU times: user 2 µs, sys: 0 ns, total: 2 µs\n",
      "Wall time: 6.68 µs\n"
     ]
    }
   ],
   "source": [
    "train_sample = train_data_neg.sample(n=100000)\n",
    "\n",
    "textList = train_sample['review_text']\n",
    "\n",
    "train_sample['lang'] = batch_detect_language(textList)"
   ]
  },
  {
   "cell_type": "code",
   "execution_count": 16,
   "metadata": {},
   "outputs": [],
   "source": [
    "train_set = train_sample[train_sample['lang'] == 'en']\n",
    "\n",
    "train_set_idx = train_set.index"
   ]
  },
  {
   "cell_type": "code",
   "execution_count": 12,
   "metadata": {},
   "outputs": [
    {
     "name": "stdout",
     "output_type": "stream",
     "text": [
      "[nltk_data] Downloading package wordnet to /home/ec2-user/nltk_data...\n",
      "[nltk_data]   Package wordnet is already up-to-date!\n"
     ]
    }
   ],
   "source": [
    "import nltk\n",
    "nltk.download('wordnet')\n",
    "from nltk.stem import WordNetLemmatizer\n",
    "import re\n",
    "token_pattern = re.compile(r\"(?u)\\b\\w\\w+\\b\")\n",
    "\n",
    "class LemmaTokenizer(object):\n",
    "    def __init__(self):\n",
    "        self.wnl = WordNetLemmatizer()\n",
    "    def __call__(self, doc):\n",
    "        return [self.wnl.lemmatize(t) for t in doc.split() if len(t) >= 2 and re.match(\"[a-z].*\",t) \n",
    "                and re.match(token_pattern, t)]"
   ]
  },
  {
   "cell_type": "code",
   "execution_count": 40,
   "metadata": {},
   "outputs": [
    {
     "name": "stdout",
     "output_type": "stream",
     "text": [
      "99826 1700174 400000\n"
     ]
    }
   ],
   "source": [
    "import time\n",
    "import numpy as np\n",
    "from sklearn.feature_extraction.text import CountVectorizer\n",
    "from sklearn.model_selection import train_test_split\n",
    "import gc\n",
    "\n",
    "train_doc_list_dirty = train_set['review_text'].tolist()\n",
    "val_doc_list_dirty = train_data_neg.drop(train_set_idx, axis=0)['review_text'].tolist()\n",
    "test_doc_list_dirty = test_data['review_text'].tolist()\n",
    "\n",
    "print(len(train_doc_list_dirty), len(val_doc_list_dirty), len(test_doc_list_dirty))\n",
    "#train_doc_list, test_doc_list = train_test_split(train_data)\n",
    "#test_doc_list, val_doc_list = train_test_split(test_doc_list)\n",
    "#del train_data\n",
    "#gc.collect()"
   ]
  },
  {
   "cell_type": "code",
   "execution_count": 41,
   "metadata": {},
   "outputs": [],
   "source": [
    "#Get rid of all punctuation\n",
    "\n",
    "import re\n",
    "\n",
    "s = re.sub(r'[^\\w\\s]','',s)\n",
    "\n",
    "train_doc_list = [re.sub(r'[^\\w\\s]','',s) for s in train_doc_list_dirty]\n",
    "val_doc_list = [re.sub(r'[^\\w\\s]','',s) for s in val_doc_list_dirty]\n",
    "test_doc_list = [re.sub(r'[^\\w\\s]','',s) for s in test_doc_list_dirty]"
   ]
  },
  {
   "cell_type": "code",
   "execution_count": 42,
   "metadata": {},
   "outputs": [
    {
     "name": "stdout",
     "output_type": "stream",
     "text": [
      "Lemmatizing and counting, this may take a few minutes...\n"
     ]
    },
    {
     "name": "stderr",
     "output_type": "stream",
     "text": [
      "/home/ec2-user/anaconda3/envs/python3/lib/python3.6/site-packages/sklearn/feature_extraction/text.py:301: UserWarning: Your stop_words may be inconsistent with your preprocessing. Tokenizing the stop words generated tokens ['ha', 'le', 'u', 'wa'] not in stop_words.\n",
      "  'stop_words.' % sorted(inconsistent))\n"
     ]
    },
    {
     "name": "stdout",
     "output_type": "stream",
     "text": [
      "done_with_train\n",
      "vocab size: 35654\n",
      "Done. Time elapsed: 973.57s\n"
     ]
    }
   ],
   "source": [
    "print('Lemmatizing and counting, this may take a few minutes...')\n",
    "start_time = time.time()\n",
    "vectorizer = CountVectorizer(input='content', analyzer='word', stop_words='english',\n",
    "                             tokenizer=LemmaTokenizer(), max_df=0.9, min_df=3)\n",
    "\n",
    "train_vectors = vectorizer.fit_transform(train_doc_list)\n",
    "print('done_with_train')\n",
    "val_vectors = vectorizer.transform(val_doc_list)\n",
    "test_vectors = vectorizer.transform(test_doc_list)\n",
    "\n",
    "vocab_list = vectorizer.get_feature_names()\n",
    "vocab_size = len(vocab_list)\n",
    "print('vocab size:', vocab_size)\n",
    "print('Done. Time elapsed: {:.2f}s'.format(time.time() - start_time))"
   ]
  },
  {
   "cell_type": "code",
   "execution_count": 43,
   "metadata": {},
   "outputs": [
    {
     "name": "stdout",
     "output_type": "stream",
     "text": [
      "<class 'scipy.sparse.csr.csr_matrix'> float32\n",
      "<class 'scipy.sparse.csr.csr_matrix'> float32\n",
      "<class 'scipy.sparse.csr.csr_matrix'> float32\n"
     ]
    }
   ],
   "source": [
    "import scipy.sparse as sparse\n",
    "\n",
    "def shuffle_and_dtype(vectors):\n",
    "    idx = np.arange(vectors.shape[0])\n",
    "    np.random.shuffle(idx)\n",
    "    vectors = vectors[idx]\n",
    "    vectors = sparse.csr_matrix(vectors, dtype=np.float32)\n",
    "    print(type(vectors), vectors.dtype)\n",
    "    return vectors\n",
    "\n",
    "train_vectors = shuffle_and_dtype(train_vectors)\n",
    "val_vectors = shuffle_and_dtype(val_vectors)\n",
    "test_vectors = shuffle_and_dtype(test_vectors)"
   ]
  },
  {
   "cell_type": "code",
   "execution_count": 44,
   "metadata": {},
   "outputs": [
    {
     "name": "stdout",
     "output_type": "stream",
     "text": [
      "Current directory:  /home/ec2-user/SageMaker/amazon-nlp\n"
     ]
    }
   ],
   "source": [
    "import os\n",
    "import shutil\n",
    "\n",
    "def check_create_dir(dir):\n",
    "    if os.path.exists(dir):    # cleanup existing data folder\n",
    "        shutil.rmtree(dir)\n",
    "    os.mkdir(dir)\n",
    "\n",
    "data_dir = os.getcwd()\n",
    "check_create_dir(data_dir)\n",
    "os.chdir(data_dir)\n",
    "print('Current directory: ', os.getcwd())"
   ]
  },
  {
   "cell_type": "code",
   "execution_count": 45,
   "metadata": {},
   "outputs": [
    {
     "name": "stdout",
     "output_type": "stream",
     "text": [
      "Saved data to /home/ec2-user/SageMaker/amazon-nlp/train/train_part0.pbr\n",
      "Saved data to /home/ec2-user/SageMaker/amazon-nlp/validation/val_part0.pbr\n",
      "Saved data to /home/ec2-user/SageMaker/amazon-nlp/validation/val_part1.pbr\n",
      "Saved data to /home/ec2-user/SageMaker/amazon-nlp/validation/val_part2.pbr\n",
      "Saved data to /home/ec2-user/SageMaker/amazon-nlp/validation/val_part3.pbr\n",
      "Saved data to /home/ec2-user/SageMaker/amazon-nlp/validation/val_part4.pbr\n",
      "Saved data to /home/ec2-user/SageMaker/amazon-nlp/validation/val_part5.pbr\n",
      "Saved data to /home/ec2-user/SageMaker/amazon-nlp/validation/val_part6.pbr\n",
      "Saved data to /home/ec2-user/SageMaker/amazon-nlp/validation/val_part7.pbr\n",
      "Saved data to /home/ec2-user/SageMaker/amazon-nlp/validation/val_part8.pbr\n",
      "Saved data to /home/ec2-user/SageMaker/amazon-nlp/validation/val_part9.pbr\n",
      "Saved data to /home/ec2-user/SageMaker/amazon-nlp/test/test_part0.pbr\n"
     ]
    }
   ],
   "source": [
    "def split_convert(sparray, prefix, fname_template='data_part{}.pbr', n_parts=2):\n",
    "    import io\n",
    "    import sagemaker.amazon.common as smac\n",
    "\n",
    "    chunk_size = sparray.shape[0] // n_parts\n",
    "    for i in range(n_parts):\n",
    "\n",
    "        # Calculate start and end indices\n",
    "        start = i * chunk_size\n",
    "        end = (i + 1) * chunk_size\n",
    "        if i + 1 == n_parts:\n",
    "            end = sparray.shape[0]\n",
    "\n",
    "        # Convert to record protobuf\n",
    "        buf = io.BytesIO()\n",
    "        smac.write_spmatrix_to_sparse_tensor(array=sparray[start:end], file=buf, labels=None)\n",
    "        buf.seek(0)\n",
    "\n",
    "        fname = os.path.join(prefix, fname_template.format(i))\n",
    "        with open(fname, 'wb') as f:\n",
    "            f.write(buf.getvalue())\n",
    "        print('Saved data to {}'.format(fname))\n",
    "        \n",
    "train_data_dir = os.path.join(data_dir, 'train')\n",
    "val_data_dir = os.path.join(data_dir, 'validation')\n",
    "test_data_dir = os.path.join(data_dir, 'test')\n",
    "\n",
    "check_create_dir(train_data_dir)\n",
    "check_create_dir(val_data_dir)\n",
    "check_create_dir(test_data_dir)\n",
    "\n",
    "split_convert(train_vectors, prefix=train_data_dir, fname_template='train_part{}.pbr', n_parts=1)\n",
    "split_convert(val_vectors, prefix=val_data_dir, fname_template='val_part{}.pbr', n_parts=10)\n",
    "split_convert(test_vectors, prefix=test_data_dir, fname_template='test_part{}.pbr', n_parts=1)"
   ]
  },
  {
   "cell_type": "code",
   "execution_count": 46,
   "metadata": {},
   "outputs": [],
   "source": [
    "aux_data_dir = os.path.join(data_dir,'auxiliary')\n",
    "check_create_dir(aux_data_dir)\n",
    "with open(os.path.join(aux_data_dir,'vocab.txt'),'w',encoding = 'utf-8') as f:\n",
    "    for item in vocab_list:\n",
    "        f.write(item+'\\n')"
   ]
  },
  {
   "cell_type": "code",
   "execution_count": 47,
   "metadata": {},
   "outputs": [
    {
     "name": "stdout",
     "output_type": "stream",
     "text": [
      "Training set location s3://e15-nlp-amazon-review-polarity/ntm/amazon_review/train\n",
      "Validation set location s3://e15-nlp-amazon-review-polarity/ntm/amazon_review/val\n",
      "Auxiliary data location s3://e15-nlp-amazon-review-polarity/ntm/amazon_review/auxiliary\n",
      "Test data location s3://e15-nlp-amazon-review-polarity/ntm/amazon_review/test\n",
      "Trained model will be saved at s3://e15-nlp-amazon-review-polarity/ntm/amazon_review/output\n"
     ]
    }
   ],
   "source": [
    "import os\n",
    "import sagemaker\n",
    "role = sagemaker.get_execution_role()\n",
    "bucket = bucket_name\n",
    "prefix = 'ntm/' + 'amazon_review'\n",
    "train_prefix = os.path.join(prefix, 'train')\n",
    "val_prefix = os.path.join(prefix, 'val')\n",
    "aux_prefix = os.path.join(prefix, 'auxiliary')\n",
    "test_prefix = os.path.join(prefix, 'test')\n",
    "output_prefix = os.path.join(prefix, 'output')\n",
    "s3_train_data = os.path.join('s3://', bucket, train_prefix)\n",
    "s3_val_data = os.path.join('s3://', bucket, val_prefix)\n",
    "s3_aux_data = os.path.join('s3://', bucket, aux_prefix)\n",
    "s3_test_data = os.path.join('s3://', bucket, test_prefix)\n",
    "output_path = os.path.join('s3://', bucket, output_prefix)\n",
    "print('Training set location', s3_train_data)\n",
    "print('Validation set location', s3_val_data)\n",
    "print('Auxiliary data location', s3_aux_data)\n",
    "print('Test data location', s3_test_data)\n",
    "print('Trained model will be saved at', output_path)"
   ]
  },
  {
   "cell_type": "code",
   "execution_count": 48,
   "metadata": {},
   "outputs": [
    {
     "data": {
      "text/plain": [
       "(b'Completed 256.0 KiB/21.2 MiB (2.2 MiB/s) with 1 file(s) remaining\\rCompleted 512.0 KiB/21.2 MiB (4.4 MiB/s) with 1 file(s) remaining\\rCompleted 768.0 KiB/21.2 MiB (6.5 MiB/s) with 1 file(s) remaining\\rCompleted 1.0 MiB/21.2 MiB (8.6 MiB/s) with 1 file(s) remaining  \\rCompleted 1.2 MiB/21.2 MiB (10.6 MiB/s) with 1 file(s) remaining \\rCompleted 1.5 MiB/21.2 MiB (12.7 MiB/s) with 1 file(s) remaining \\rCompleted 1.8 MiB/21.2 MiB (14.7 MiB/s) with 1 file(s) remaining \\rCompleted 2.0 MiB/21.2 MiB (16.6 MiB/s) with 1 file(s) remaining \\rCompleted 2.2 MiB/21.2 MiB (18.6 MiB/s) with 1 file(s) remaining \\rCompleted 2.5 MiB/21.2 MiB (20.4 MiB/s) with 1 file(s) remaining \\rCompleted 2.8 MiB/21.2 MiB (22.3 MiB/s) with 1 file(s) remaining \\rCompleted 3.0 MiB/21.2 MiB (24.2 MiB/s) with 1 file(s) remaining \\rCompleted 3.2 MiB/21.2 MiB (25.9 MiB/s) with 1 file(s) remaining \\rCompleted 3.5 MiB/21.2 MiB (27.6 MiB/s) with 1 file(s) remaining \\rCompleted 3.8 MiB/21.2 MiB (29.3 MiB/s) with 1 file(s) remaining \\rCompleted 4.0 MiB/21.2 MiB (30.7 MiB/s) with 1 file(s) remaining \\rCompleted 4.2 MiB/21.2 MiB (32.4 MiB/s) with 1 file(s) remaining \\rCompleted 4.5 MiB/21.2 MiB (34.1 MiB/s) with 1 file(s) remaining \\rCompleted 4.8 MiB/21.2 MiB (35.6 MiB/s) with 1 file(s) remaining \\rCompleted 5.0 MiB/21.2 MiB (37.4 MiB/s) with 1 file(s) remaining \\rCompleted 5.2 MiB/21.2 MiB (39.0 MiB/s) with 1 file(s) remaining \\rCompleted 5.5 MiB/21.2 MiB (40.5 MiB/s) with 1 file(s) remaining \\rCompleted 5.8 MiB/21.2 MiB (41.9 MiB/s) with 1 file(s) remaining \\rCompleted 6.0 MiB/21.2 MiB (43.5 MiB/s) with 1 file(s) remaining \\rCompleted 6.2 MiB/21.2 MiB (44.8 MiB/s) with 1 file(s) remaining \\rCompleted 6.5 MiB/21.2 MiB (46.1 MiB/s) with 1 file(s) remaining \\rCompleted 6.8 MiB/21.2 MiB (47.8 MiB/s) with 1 file(s) remaining \\rCompleted 7.0 MiB/21.2 MiB (49.1 MiB/s) with 1 file(s) remaining \\rCompleted 7.2 MiB/21.2 MiB (50.4 MiB/s) with 1 file(s) remaining \\rCompleted 7.5 MiB/21.2 MiB (51.7 MiB/s) with 1 file(s) remaining \\rCompleted 7.8 MiB/21.2 MiB (51.7 MiB/s) with 1 file(s) remaining \\rCompleted 8.0 MiB/21.2 MiB (52.9 MiB/s) with 1 file(s) remaining \\rCompleted 8.2 MiB/21.2 MiB (54.1 MiB/s) with 1 file(s) remaining \\rCompleted 8.5 MiB/21.2 MiB (55.7 MiB/s) with 1 file(s) remaining \\rCompleted 8.8 MiB/21.2 MiB (56.9 MiB/s) with 1 file(s) remaining \\rCompleted 9.0 MiB/21.2 MiB (58.0 MiB/s) with 1 file(s) remaining \\rCompleted 9.2 MiB/21.2 MiB (58.9 MiB/s) with 1 file(s) remaining \\rCompleted 9.5 MiB/21.2 MiB (60.0 MiB/s) with 1 file(s) remaining \\rCompleted 9.8 MiB/21.2 MiB (61.6 MiB/s) with 1 file(s) remaining \\rCompleted 10.0 MiB/21.2 MiB (62.5 MiB/s) with 1 file(s) remaining\\rCompleted 10.2 MiB/21.2 MiB (63.5 MiB/s) with 1 file(s) remaining\\rCompleted 10.5 MiB/21.2 MiB (64.9 MiB/s) with 1 file(s) remaining\\rCompleted 10.8 MiB/21.2 MiB (66.1 MiB/s) with 1 file(s) remaining\\rCompleted 11.0 MiB/21.2 MiB (67.3 MiB/s) with 1 file(s) remaining\\rCompleted 11.2 MiB/21.2 MiB (68.4 MiB/s) with 1 file(s) remaining\\rCompleted 11.5 MiB/21.2 MiB (69.4 MiB/s) with 1 file(s) remaining\\rCompleted 11.8 MiB/21.2 MiB (70.7 MiB/s) with 1 file(s) remaining\\rCompleted 12.0 MiB/21.2 MiB (71.6 MiB/s) with 1 file(s) remaining\\rCompleted 12.2 MiB/21.2 MiB (72.7 MiB/s) with 1 file(s) remaining\\rCompleted 12.5 MiB/21.2 MiB (73.8 MiB/s) with 1 file(s) remaining\\rCompleted 12.8 MiB/21.2 MiB (74.8 MiB/s) with 1 file(s) remaining\\rCompleted 13.0 MiB/21.2 MiB (76.0 MiB/s) with 1 file(s) remaining\\rCompleted 13.2 MiB/21.2 MiB (76.7 MiB/s) with 1 file(s) remaining\\rCompleted 13.5 MiB/21.2 MiB (78.0 MiB/s) with 1 file(s) remaining\\rCompleted 13.8 MiB/21.2 MiB (78.7 MiB/s) with 1 file(s) remaining\\rCompleted 14.0 MiB/21.2 MiB (79.9 MiB/s) with 1 file(s) remaining\\rCompleted 14.2 MiB/21.2 MiB (80.6 MiB/s) with 1 file(s) remaining\\rCompleted 14.5 MiB/21.2 MiB (81.7 MiB/s) with 1 file(s) remaining\\rCompleted 14.8 MiB/21.2 MiB (82.7 MiB/s) with 1 file(s) remaining\\rCompleted 15.0 MiB/21.2 MiB (83.3 MiB/s) with 1 file(s) remaining\\rCompleted 15.2 MiB/21.2 MiB (84.7 MiB/s) with 1 file(s) remaining\\rCompleted 15.5 MiB/21.2 MiB (85.2 MiB/s) with 1 file(s) remaining\\rCompleted 15.8 MiB/21.2 MiB (86.4 MiB/s) with 1 file(s) remaining\\rCompleted 16.0 MiB/21.2 MiB (87.2 MiB/s) with 1 file(s) remaining\\rCompleted 16.2 MiB/21.2 MiB (88.1 MiB/s) with 1 file(s) remaining\\rCompleted 16.5 MiB/21.2 MiB (88.8 MiB/s) with 1 file(s) remaining\\rCompleted 16.8 MiB/21.2 MiB (89.4 MiB/s) with 1 file(s) remaining\\rCompleted 17.0 MiB/21.2 MiB (90.2 MiB/s) with 1 file(s) remaining\\rCompleted 17.2 MiB/21.2 MiB (90.9 MiB/s) with 1 file(s) remaining\\rCompleted 17.5 MiB/21.2 MiB (91.5 MiB/s) with 1 file(s) remaining\\rCompleted 17.8 MiB/21.2 MiB (92.2 MiB/s) with 1 file(s) remaining\\rCompleted 18.0 MiB/21.2 MiB (93.0 MiB/s) with 1 file(s) remaining\\rCompleted 18.2 MiB/21.2 MiB (93.7 MiB/s) with 1 file(s) remaining\\rCompleted 18.5 MiB/21.2 MiB (94.4 MiB/s) with 1 file(s) remaining\\rCompleted 18.8 MiB/21.2 MiB (95.2 MiB/s) with 1 file(s) remaining\\rCompleted 19.0 MiB/21.2 MiB (96.0 MiB/s) with 1 file(s) remaining\\rCompleted 19.2 MiB/21.2 MiB (96.7 MiB/s) with 1 file(s) remaining\\rCompleted 19.5 MiB/21.2 MiB (97.4 MiB/s) with 1 file(s) remaining\\rCompleted 19.8 MiB/21.2 MiB (98.1 MiB/s) with 1 file(s) remaining\\rCompleted 20.0 MiB/21.2 MiB (98.8 MiB/s) with 1 file(s) remaining\\rCompleted 20.2 MiB/21.2 MiB (99.6 MiB/s) with 1 file(s) remaining\\rCompleted 20.5 MiB/21.2 MiB (100.3 MiB/s) with 1 file(s) remaining\\rCompleted 20.8 MiB/21.2 MiB (100.3 MiB/s) with 1 file(s) remaining\\rCompleted 21.0 MiB/21.2 MiB (100.9 MiB/s) with 1 file(s) remaining\\rCompleted 21.2 MiB/21.2 MiB (93.3 MiB/s) with 1 file(s) remaining \\rupload: train/train_part0.pbr to s3://e15-nlp-amazon-review-polarity/ntm/amazon_review/train/train_part0.pbr\\n',\n",
       " None)"
      ]
     },
     "execution_count": 48,
     "metadata": {},
     "output_type": "execute_result"
    }
   ],
   "source": [
    "import subprocess\n",
    "\n",
    "cmd_train = 'aws s3 cp ' + train_data_dir + ' ' + s3_train_data + ' --recursive' \n",
    "p=subprocess.Popen(cmd_train, shell=True,stdout=subprocess.PIPE)\n",
    "p.communicate()"
   ]
  },
  {
   "cell_type": "code",
   "execution_count": 49,
   "metadata": {},
   "outputs": [
    {
     "data": {
      "text/plain": [
       "(b'Completed 256.0 KiB/358.9 MiB (2.7 MiB/s) with 10 file(s) remaining\\rCompleted 512.0 KiB/358.9 MiB (5.2 MiB/s) with 10 file(s) remaining\\rCompleted 768.0 KiB/358.9 MiB (7.7 MiB/s) with 10 file(s) remaining\\rCompleted 1.0 MiB/358.9 MiB (10.1 MiB/s) with 10 file(s) remaining \\rCompleted 1.2 MiB/358.9 MiB (12.4 MiB/s) with 10 file(s) remaining \\rCompleted 1.5 MiB/358.9 MiB (14.8 MiB/s) with 10 file(s) remaining \\rCompleted 1.8 MiB/358.9 MiB (17.0 MiB/s) with 10 file(s) remaining \\rCompleted 2.0 MiB/358.9 MiB (19.0 MiB/s) with 10 file(s) remaining \\rCompleted 2.2 MiB/358.9 MiB (21.3 MiB/s) with 10 file(s) remaining \\rCompleted 2.5 MiB/358.9 MiB (23.3 MiB/s) with 10 file(s) remaining \\rCompleted 2.8 MiB/358.9 MiB (25.2 MiB/s) with 10 file(s) remaining \\rCompleted 3.0 MiB/358.9 MiB (27.1 MiB/s) with 10 file(s) remaining \\rCompleted 3.2 MiB/358.9 MiB (29.3 MiB/s) with 10 file(s) remaining \\rCompleted 3.5 MiB/358.9 MiB (31.1 MiB/s) with 10 file(s) remaining \\rCompleted 3.8 MiB/358.9 MiB (32.8 MiB/s) with 10 file(s) remaining \\rCompleted 4.0 MiB/358.9 MiB (34.6 MiB/s) with 10 file(s) remaining \\rCompleted 4.2 MiB/358.9 MiB (36.1 MiB/s) with 10 file(s) remaining \\rCompleted 4.5 MiB/358.9 MiB (37.7 MiB/s) with 10 file(s) remaining \\rCompleted 4.8 MiB/358.9 MiB (38.3 MiB/s) with 10 file(s) remaining \\rCompleted 5.0 MiB/358.9 MiB (40.2 MiB/s) with 10 file(s) remaining \\rCompleted 5.2 MiB/358.9 MiB (41.7 MiB/s) with 10 file(s) remaining \\rCompleted 5.5 MiB/358.9 MiB (43.1 MiB/s) with 10 file(s) remaining \\rCompleted 5.8 MiB/358.9 MiB (44.7 MiB/s) with 10 file(s) remaining \\rCompleted 6.0 MiB/358.9 MiB (46.4 MiB/s) with 10 file(s) remaining \\rCompleted 6.2 MiB/358.9 MiB (47.0 MiB/s) with 10 file(s) remaining \\rCompleted 6.5 MiB/358.9 MiB (48.6 MiB/s) with 10 file(s) remaining \\rCompleted 6.8 MiB/358.9 MiB (50.1 MiB/s) with 10 file(s) remaining \\rCompleted 7.0 MiB/358.9 MiB (51.9 MiB/s) with 10 file(s) remaining \\rCompleted 7.2 MiB/358.9 MiB (52.7 MiB/s) with 10 file(s) remaining \\rCompleted 7.5 MiB/358.9 MiB (52.8 MiB/s) with 10 file(s) remaining \\rCompleted 7.8 MiB/358.9 MiB (54.3 MiB/s) with 10 file(s) remaining \\rCompleted 8.0 MiB/358.9 MiB (55.8 MiB/s) with 10 file(s) remaining \\rCompleted 8.2 MiB/358.9 MiB (56.9 MiB/s) with 10 file(s) remaining \\rCompleted 8.5 MiB/358.9 MiB (58.1 MiB/s) with 10 file(s) remaining \\rCompleted 8.8 MiB/358.9 MiB (59.5 MiB/s) with 10 file(s) remaining \\rCompleted 9.0 MiB/358.9 MiB (60.9 MiB/s) with 10 file(s) remaining \\rCompleted 9.2 MiB/358.9 MiB (62.0 MiB/s) with 10 file(s) remaining \\rCompleted 9.5 MiB/358.9 MiB (62.9 MiB/s) with 10 file(s) remaining \\rCompleted 9.8 MiB/358.9 MiB (64.2 MiB/s) with 10 file(s) remaining \\rCompleted 10.0 MiB/358.9 MiB (65.4 MiB/s) with 10 file(s) remaining\\rCompleted 10.2 MiB/358.9 MiB (66.6 MiB/s) with 10 file(s) remaining\\rCompleted 10.5 MiB/358.9 MiB (67.2 MiB/s) with 10 file(s) remaining\\rCompleted 10.8 MiB/358.9 MiB (66.8 MiB/s) with 10 file(s) remaining\\rCompleted 11.0 MiB/358.9 MiB (67.5 MiB/s) with 10 file(s) remaining\\rCompleted 11.2 MiB/358.9 MiB (68.3 MiB/s) with 10 file(s) remaining\\rCompleted 11.5 MiB/358.9 MiB (69.8 MiB/s) with 10 file(s) remaining\\rCompleted 11.8 MiB/358.9 MiB (71.0 MiB/s) with 10 file(s) remaining\\rCompleted 12.0 MiB/358.9 MiB (71.2 MiB/s) with 10 file(s) remaining\\rCompleted 12.2 MiB/358.9 MiB (71.5 MiB/s) with 10 file(s) remaining\\rCompleted 12.5 MiB/358.9 MiB (72.6 MiB/s) with 10 file(s) remaining\\rCompleted 12.8 MiB/358.9 MiB (73.2 MiB/s) with 10 file(s) remaining\\rCompleted 13.0 MiB/358.9 MiB (74.1 MiB/s) with 10 file(s) remaining\\rCompleted 13.2 MiB/358.9 MiB (74.9 MiB/s) with 10 file(s) remaining\\rCompleted 13.5 MiB/358.9 MiB (73.9 MiB/s) with 10 file(s) remaining\\rCompleted 13.8 MiB/358.9 MiB (74.6 MiB/s) with 10 file(s) remaining\\rCompleted 14.0 MiB/358.9 MiB (75.3 MiB/s) with 10 file(s) remaining\\rCompleted 14.2 MiB/358.9 MiB (75.9 MiB/s) with 10 file(s) remaining\\rCompleted 14.5 MiB/358.9 MiB (76.9 MiB/s) with 10 file(s) remaining\\rCompleted 14.8 MiB/358.9 MiB (77.9 MiB/s) with 10 file(s) remaining\\rCompleted 15.0 MiB/358.9 MiB (77.7 MiB/s) with 10 file(s) remaining\\rCompleted 15.2 MiB/358.9 MiB (78.8 MiB/s) with 10 file(s) remaining\\rCompleted 15.5 MiB/358.9 MiB (79.2 MiB/s) with 10 file(s) remaining\\rCompleted 15.8 MiB/358.9 MiB (80.2 MiB/s) with 10 file(s) remaining\\rCompleted 16.0 MiB/358.9 MiB (81.2 MiB/s) with 10 file(s) remaining\\rCompleted 16.2 MiB/358.9 MiB (81.8 MiB/s) with 10 file(s) remaining\\rCompleted 16.5 MiB/358.9 MiB (82.8 MiB/s) with 10 file(s) remaining\\rCompleted 16.8 MiB/358.9 MiB (81.4 MiB/s) with 10 file(s) remaining\\rCompleted 17.0 MiB/358.9 MiB (82.4 MiB/s) with 10 file(s) remaining\\rCompleted 17.2 MiB/358.9 MiB (83.4 MiB/s) with 10 file(s) remaining\\rCompleted 17.5 MiB/358.9 MiB (84.4 MiB/s) with 10 file(s) remaining\\rCompleted 17.8 MiB/358.9 MiB (85.5 MiB/s) with 10 file(s) remaining\\rCompleted 18.0 MiB/358.9 MiB (86.1 MiB/s) with 10 file(s) remaining\\rCompleted 18.2 MiB/358.9 MiB (86.6 MiB/s) with 10 file(s) remaining\\rCompleted 18.5 MiB/358.9 MiB (85.8 MiB/s) with 10 file(s) remaining\\rCompleted 18.8 MiB/358.9 MiB (86.7 MiB/s) with 10 file(s) remaining\\rCompleted 19.0 MiB/358.9 MiB (87.6 MiB/s) with 10 file(s) remaining\\rCompleted 19.2 MiB/358.9 MiB (88.7 MiB/s) with 10 file(s) remaining\\rCompleted 19.5 MiB/358.9 MiB (89.8 MiB/s) with 10 file(s) remaining\\rCompleted 19.8 MiB/358.9 MiB (90.5 MiB/s) with 10 file(s) remaining\\rCompleted 20.0 MiB/358.9 MiB (90.8 MiB/s) with 10 file(s) remaining\\rCompleted 20.2 MiB/358.9 MiB (92.0 MiB/s) with 10 file(s) remaining\\rCompleted 20.5 MiB/358.9 MiB (91.3 MiB/s) with 10 file(s) remaining\\rCompleted 20.8 MiB/358.9 MiB (91.4 MiB/s) with 10 file(s) remaining\\rCompleted 21.0 MiB/358.9 MiB (91.9 MiB/s) with 10 file(s) remaining\\rCompleted 21.2 MiB/358.9 MiB (92.8 MiB/s) with 10 file(s) remaining\\rCompleted 21.5 MiB/358.9 MiB (93.7 MiB/s) with 10 file(s) remaining\\rCompleted 21.8 MiB/358.9 MiB (94.8 MiB/s) with 10 file(s) remaining\\rCompleted 22.0 MiB/358.9 MiB (95.7 MiB/s) with 10 file(s) remaining\\rCompleted 22.2 MiB/358.9 MiB (95.3 MiB/s) with 10 file(s) remaining\\rCompleted 22.5 MiB/358.9 MiB (96.1 MiB/s) with 10 file(s) remaining\\rCompleted 22.8 MiB/358.9 MiB (95.0 MiB/s) with 10 file(s) remaining\\rCompleted 23.0 MiB/358.9 MiB (95.8 MiB/s) with 10 file(s) remaining\\rCompleted 23.2 MiB/358.9 MiB (96.3 MiB/s) with 10 file(s) remaining\\rCompleted 23.5 MiB/358.9 MiB (96.7 MiB/s) with 10 file(s) remaining\\rCompleted 23.8 MiB/358.9 MiB (97.6 MiB/s) with 10 file(s) remaining\\rCompleted 24.0 MiB/358.9 MiB (98.4 MiB/s) with 10 file(s) remaining\\rCompleted 24.2 MiB/358.9 MiB (99.3 MiB/s) with 10 file(s) remaining\\rCompleted 24.5 MiB/358.9 MiB (99.7 MiB/s) with 10 file(s) remaining\\rCompleted 24.8 MiB/358.9 MiB (100.2 MiB/s) with 10 file(s) remaining\\rCompleted 25.0 MiB/358.9 MiB (100.4 MiB/s) with 10 file(s) remaining\\rCompleted 25.2 MiB/358.9 MiB (100.7 MiB/s) with 10 file(s) remaining\\rCompleted 25.5 MiB/358.9 MiB (101.6 MiB/s) with 10 file(s) remaining\\rCompleted 25.8 MiB/358.9 MiB (100.7 MiB/s) with 10 file(s) remaining\\rCompleted 26.0 MiB/358.9 MiB (101.7 MiB/s) with 10 file(s) remaining\\rCompleted 26.2 MiB/358.9 MiB (102.4 MiB/s) with 10 file(s) remaining\\rCompleted 26.5 MiB/358.9 MiB (103.2 MiB/s) with 10 file(s) remaining\\rCompleted 26.8 MiB/358.9 MiB (104.0 MiB/s) with 10 file(s) remaining\\rCompleted 27.0 MiB/358.9 MiB (103.9 MiB/s) with 10 file(s) remaining\\rCompleted 27.2 MiB/358.9 MiB (104.8 MiB/s) with 10 file(s) remaining\\rCompleted 27.5 MiB/358.9 MiB (104.9 MiB/s) with 10 file(s) remaining\\rCompleted 27.8 MiB/358.9 MiB (105.1 MiB/s) with 10 file(s) remaining\\rCompleted 28.0 MiB/358.9 MiB (105.6 MiB/s) with 10 file(s) remaining\\rCompleted 28.2 MiB/358.9 MiB (105.7 MiB/s) with 10 file(s) remaining\\rCompleted 28.5 MiB/358.9 MiB (106.6 MiB/s) with 10 file(s) remaining\\rCompleted 28.8 MiB/358.9 MiB (106.9 MiB/s) with 10 file(s) remaining\\rCompleted 29.0 MiB/358.9 MiB (107.2 MiB/s) with 10 file(s) remaining\\rCompleted 29.2 MiB/358.9 MiB (107.8 MiB/s) with 10 file(s) remaining\\rCompleted 29.5 MiB/358.9 MiB (108.7 MiB/s) with 10 file(s) remaining\\rCompleted 29.8 MiB/358.9 MiB (108.5 MiB/s) with 10 file(s) remaining\\rCompleted 30.0 MiB/358.9 MiB (109.3 MiB/s) with 10 file(s) remaining\\rCompleted 30.2 MiB/358.9 MiB (109.4 MiB/s) with 10 file(s) remaining\\rCompleted 30.5 MiB/358.9 MiB (109.6 MiB/s) with 10 file(s) remaining\\rCompleted 30.8 MiB/358.9 MiB (110.4 MiB/s) with 10 file(s) remaining\\rCompleted 31.0 MiB/358.9 MiB (110.4 MiB/s) with 10 file(s) remaining\\rCompleted 31.2 MiB/358.9 MiB (111.2 MiB/s) with 10 file(s) remaining\\rCompleted 31.5 MiB/358.9 MiB (111.6 MiB/s) with 10 file(s) remaining\\rCompleted 31.8 MiB/358.9 MiB (112.1 MiB/s) with 10 file(s) remaining\\rCompleted 32.0 MiB/358.9 MiB (112.3 MiB/s) with 10 file(s) remaining\\rCompleted 32.2 MiB/358.9 MiB (111.7 MiB/s) with 10 file(s) remaining\\rCompleted 32.5 MiB/358.9 MiB (112.4 MiB/s) with 10 file(s) remaining\\rCompleted 32.8 MiB/358.9 MiB (113.1 MiB/s) with 10 file(s) remaining\\rCompleted 33.0 MiB/358.9 MiB (113.5 MiB/s) with 10 file(s) remaining\\rCompleted 33.2 MiB/358.9 MiB (114.0 MiB/s) with 10 file(s) remaining\\rCompleted 33.5 MiB/358.9 MiB (114.2 MiB/s) with 10 file(s) remaining\\rCompleted 33.8 MiB/358.9 MiB (114.3 MiB/s) with 10 file(s) remaining\\rCompleted 34.0 MiB/358.9 MiB (114.8 MiB/s) with 10 file(s) remaining\\rCompleted 34.2 MiB/358.9 MiB (115.6 MiB/s) with 10 file(s) remaining\\rCompleted 34.5 MiB/358.9 MiB (116.4 MiB/s) with 10 file(s) remaining\\rCompleted 34.8 MiB/358.9 MiB (115.8 MiB/s) with 10 file(s) remaining\\rCompleted 35.0 MiB/358.9 MiB (116.1 MiB/s) with 10 file(s) remaining\\rCompleted 35.2 MiB/358.9 MiB (116.5 MiB/s) with 10 file(s) remaining\\rCompleted 35.5 MiB/358.9 MiB (117.3 MiB/s) with 10 file(s) remaining\\rCompleted 35.8 MiB/358.9 MiB (117.7 MiB/s) with 10 file(s) remaining\\rCompleted 36.0 MiB/358.9 MiB (117.8 MiB/s) with 10 file(s) remaining\\rCompleted 36.2 MiB/358.9 MiB (118.5 MiB/s) with 10 file(s) remaining\\rCompleted 36.5 MiB/358.9 MiB (118.2 MiB/s) with 10 file(s) remaining\\rCompleted 36.8 MiB/358.9 MiB (118.8 MiB/s) with 10 file(s) remaining\\rCompleted 37.0 MiB/358.9 MiB (119.2 MiB/s) with 10 file(s) remaining\\rCompleted 37.2 MiB/358.9 MiB (118.8 MiB/s) with 10 file(s) remaining\\rCompleted 37.5 MiB/358.9 MiB (118.9 MiB/s) with 10 file(s) remaining\\rCompleted 37.8 MiB/358.9 MiB (119.4 MiB/s) with 10 file(s) remaining\\rCompleted 38.0 MiB/358.9 MiB (120.1 MiB/s) with 10 file(s) remaining\\rCompleted 38.2 MiB/358.9 MiB (120.5 MiB/s) with 10 file(s) remaining\\rCompleted 38.5 MiB/358.9 MiB (120.6 MiB/s) with 10 file(s) remaining\\rCompleted 38.8 MiB/358.9 MiB (121.3 MiB/s) with 10 file(s) remaining\\rCompleted 39.0 MiB/358.9 MiB (121.7 MiB/s) with 10 file(s) remaining\\rCompleted 39.2 MiB/358.9 MiB (122.2 MiB/s) with 10 file(s) remaining\\rCompleted 39.5 MiB/358.9 MiB (121.8 MiB/s) with 10 file(s) remaining\\rCompleted 39.8 MiB/358.9 MiB (122.1 MiB/s) with 10 file(s) remaining\\rCompleted 40.0 MiB/358.9 MiB (122.6 MiB/s) with 10 file(s) remaining\\rCompleted 40.2 MiB/358.9 MiB (121.7 MiB/s) with 10 file(s) remaining\\rCompleted 40.5 MiB/358.9 MiB (122.1 MiB/s) with 10 file(s) remaining\\rCompleted 40.8 MiB/358.9 MiB (122.3 MiB/s) with 10 file(s) remaining\\rCompleted 41.0 MiB/358.9 MiB (122.3 MiB/s) with 10 file(s) remaining\\rCompleted 41.2 MiB/358.9 MiB (122.3 MiB/s) with 10 file(s) remaining\\rCompleted 41.5 MiB/358.9 MiB (122.8 MiB/s) with 10 file(s) remaining\\rCompleted 41.8 MiB/358.9 MiB (123.4 MiB/s) with 10 file(s) remaining\\rCompleted 42.0 MiB/358.9 MiB (124.1 MiB/s) with 10 file(s) remaining\\rCompleted 42.2 MiB/358.9 MiB (124.6 MiB/s) with 10 file(s) remaining\\rCompleted 42.5 MiB/358.9 MiB (124.0 MiB/s) with 10 file(s) remaining\\rCompleted 42.8 MiB/358.9 MiB (124.0 MiB/s) with 10 file(s) remaining\\rCompleted 43.0 MiB/358.9 MiB (124.0 MiB/s) with 10 file(s) remaining\\rCompleted 43.2 MiB/358.9 MiB (124.5 MiB/s) with 10 file(s) remaining\\rCompleted 43.5 MiB/358.9 MiB (124.8 MiB/s) with 10 file(s) remaining\\rCompleted 43.8 MiB/358.9 MiB (124.7 MiB/s) with 10 file(s) remaining\\rCompleted 44.0 MiB/358.9 MiB (125.0 MiB/s) with 10 file(s) remaining\\rCompleted 44.2 MiB/358.9 MiB (125.7 MiB/s) with 10 file(s) remaining\\rCompleted 44.5 MiB/358.9 MiB (126.2 MiB/s) with 10 file(s) remaining\\rCompleted 44.8 MiB/358.9 MiB (125.5 MiB/s) with 10 file(s) remaining\\rCompleted 45.0 MiB/358.9 MiB (126.1 MiB/s) with 10 file(s) remaining\\rCompleted 45.2 MiB/358.9 MiB (126.5 MiB/s) with 10 file(s) remaining\\rCompleted 45.5 MiB/358.9 MiB (126.3 MiB/s) with 10 file(s) remaining\\rCompleted 45.8 MiB/358.9 MiB (126.4 MiB/s) with 10 file(s) remaining\\rCompleted 46.0 MiB/358.9 MiB (126.7 MiB/s) with 10 file(s) remaining\\rCompleted 46.2 MiB/358.9 MiB (127.3 MiB/s) with 10 file(s) remaining\\rCompleted 46.5 MiB/358.9 MiB (127.9 MiB/s) with 10 file(s) remaining\\rCompleted 46.8 MiB/358.9 MiB (128.3 MiB/s) with 10 file(s) remaining\\rCompleted 47.0 MiB/358.9 MiB (127.9 MiB/s) with 10 file(s) remaining\\rCompleted 47.2 MiB/358.9 MiB (128.4 MiB/s) with 10 file(s) remaining\\rCompleted 47.5 MiB/358.9 MiB (128.3 MiB/s) with 10 file(s) remaining\\rCompleted 47.8 MiB/358.9 MiB (128.5 MiB/s) with 10 file(s) remaining\\rCompleted 48.0 MiB/358.9 MiB (128.9 MiB/s) with 10 file(s) remaining\\rCompleted 48.2 MiB/358.9 MiB (129.0 MiB/s) with 10 file(s) remaining\\rCompleted 48.5 MiB/358.9 MiB (129.1 MiB/s) with 10 file(s) remaining\\rCompleted 48.8 MiB/358.9 MiB (129.8 MiB/s) with 10 file(s) remaining\\rCompleted 49.0 MiB/358.9 MiB (130.1 MiB/s) with 10 file(s) remaining\\rCompleted 49.2 MiB/358.9 MiB (130.8 MiB/s) with 10 file(s) remaining\\rCompleted 49.5 MiB/358.9 MiB (130.2 MiB/s) with 10 file(s) remaining\\rCompleted 49.8 MiB/358.9 MiB (129.7 MiB/s) with 10 file(s) remaining\\rCompleted 50.0 MiB/358.9 MiB (130.1 MiB/s) with 10 file(s) remaining\\rCompleted 50.2 MiB/358.9 MiB (130.5 MiB/s) with 10 file(s) remaining\\rCompleted 50.5 MiB/358.9 MiB (131.1 MiB/s) with 10 file(s) remaining\\rCompleted 50.8 MiB/358.9 MiB (131.5 MiB/s) with 10 file(s) remaining\\rCompleted 51.0 MiB/358.9 MiB (131.7 MiB/s) with 10 file(s) remaining\\rCompleted 51.2 MiB/358.9 MiB (132.0 MiB/s) with 10 file(s) remaining\\rCompleted 51.5 MiB/358.9 MiB (132.3 MiB/s) with 10 file(s) remaining\\rCompleted 51.8 MiB/358.9 MiB (131.5 MiB/s) with 10 file(s) remaining\\rCompleted 52.0 MiB/358.9 MiB (132.1 MiB/s) with 10 file(s) remaining\\rCompleted 52.2 MiB/358.9 MiB (132.1 MiB/s) with 10 file(s) remaining\\rCompleted 52.5 MiB/358.9 MiB (132.4 MiB/s) with 10 file(s) remaining\\rCompleted 52.8 MiB/358.9 MiB (132.9 MiB/s) with 10 file(s) remaining\\rCompleted 53.0 MiB/358.9 MiB (133.3 MiB/s) with 10 file(s) remaining\\rCompleted 53.2 MiB/358.9 MiB (133.8 MiB/s) with 10 file(s) remaining\\rCompleted 53.5 MiB/358.9 MiB (134.0 MiB/s) with 10 file(s) remaining\\rCompleted 53.8 MiB/358.9 MiB (133.2 MiB/s) with 10 file(s) remaining\\rCompleted 54.0 MiB/358.9 MiB (133.5 MiB/s) with 10 file(s) remaining\\rCompleted 54.2 MiB/358.9 MiB (133.9 MiB/s) with 10 file(s) remaining\\rCompleted 54.5 MiB/358.9 MiB (134.1 MiB/s) with 10 file(s) remaining\\rCompleted 54.8 MiB/358.9 MiB (134.5 MiB/s) with 10 file(s) remaining\\rCompleted 55.0 MiB/358.9 MiB (135.0 MiB/s) with 10 file(s) remaining\\rCompleted 55.2 MiB/358.9 MiB (134.5 MiB/s) with 10 file(s) remaining\\rCompleted 55.5 MiB/358.9 MiB (135.1 MiB/s) with 10 file(s) remaining\\rCompleted 55.8 MiB/358.9 MiB (134.4 MiB/s) with 10 file(s) remaining\\rCompleted 56.0 MiB/358.9 MiB (134.9 MiB/s) with 10 file(s) remaining\\rCompleted 56.2 MiB/358.9 MiB (135.2 MiB/s) with 10 file(s) remaining\\rCompleted 56.5 MiB/358.9 MiB (135.7 MiB/s) with 10 file(s) remaining\\rCompleted 56.8 MiB/358.9 MiB (136.0 MiB/s) with 10 file(s) remaining\\rCompleted 57.0 MiB/358.9 MiB (135.8 MiB/s) with 10 file(s) remaining\\rCompleted 57.2 MiB/358.9 MiB (135.9 MiB/s) with 10 file(s) remaining\\rCompleted 57.5 MiB/358.9 MiB (135.6 MiB/s) with 10 file(s) remaining\\rCompleted 57.8 MiB/358.9 MiB (134.9 MiB/s) with 10 file(s) remaining\\rCompleted 58.0 MiB/358.9 MiB (135.4 MiB/s) with 10 file(s) remaining\\rCompleted 58.2 MiB/358.9 MiB (135.8 MiB/s) with 10 file(s) remaining\\rCompleted 58.5 MiB/358.9 MiB (136.1 MiB/s) with 10 file(s) remaining\\rCompleted 58.8 MiB/358.9 MiB (136.2 MiB/s) with 10 file(s) remaining\\rCompleted 59.0 MiB/358.9 MiB (136.7 MiB/s) with 10 file(s) remaining\\rCompleted 59.2 MiB/358.9 MiB (137.2 MiB/s) with 10 file(s) remaining\\rCompleted 59.5 MiB/358.9 MiB (137.4 MiB/s) with 10 file(s) remaining\\rCompleted 59.8 MiB/358.9 MiB (137.7 MiB/s) with 10 file(s) remaining\\rCompleted 60.0 MiB/358.9 MiB (136.8 MiB/s) with 10 file(s) remaining\\rCompleted 60.2 MiB/358.9 MiB (136.7 MiB/s) with 10 file(s) remaining\\rCompleted 60.5 MiB/358.9 MiB (137.1 MiB/s) with 10 file(s) remaining\\rCompleted 60.8 MiB/358.9 MiB (137.6 MiB/s) with 10 file(s) remaining\\rCompleted 61.0 MiB/358.9 MiB (137.9 MiB/s) with 10 file(s) remaining\\rCompleted 61.2 MiB/358.9 MiB (138.3 MiB/s) with 10 file(s) remaining\\rCompleted 61.5 MiB/358.9 MiB (138.7 MiB/s) with 10 file(s) remaining\\rCompleted 61.8 MiB/358.9 MiB (138.5 MiB/s) with 10 file(s) remaining\\rCompleted 62.0 MiB/358.9 MiB (138.7 MiB/s) with 10 file(s) remaining\\rCompleted 62.2 MiB/358.9 MiB (137.8 MiB/s) with 10 file(s) remaining\\rCompleted 62.5 MiB/358.9 MiB (138.2 MiB/s) with 10 file(s) remaining\\rCompleted 62.8 MiB/358.9 MiB (138.3 MiB/s) with 10 file(s) remaining\\rCompleted 63.0 MiB/358.9 MiB (138.1 MiB/s) with 10 file(s) remaining\\rCompleted 63.2 MiB/358.9 MiB (138.4 MiB/s) with 10 file(s) remaining\\rCompleted 63.5 MiB/358.9 MiB (138.8 MiB/s) with 10 file(s) remaining\\rCompleted 63.8 MiB/358.9 MiB (139.2 MiB/s) with 10 file(s) remaining\\rCompleted 64.0 MiB/358.9 MiB (139.7 MiB/s) with 10 file(s) remaining\\rCompleted 64.2 MiB/358.9 MiB (139.7 MiB/s) with 10 file(s) remaining\\rCompleted 64.5 MiB/358.9 MiB (139.5 MiB/s) with 10 file(s) remaining\\rCompleted 64.8 MiB/358.9 MiB (139.6 MiB/s) with 10 file(s) remaining\\rCompleted 65.0 MiB/358.9 MiB (139.5 MiB/s) with 10 file(s) remaining\\rCompleted 65.2 MiB/358.9 MiB (139.8 MiB/s) with 10 file(s) remaining\\rCompleted 65.5 MiB/358.9 MiB (140.2 MiB/s) with 10 file(s) remaining\\rCompleted 65.8 MiB/358.9 MiB (140.5 MiB/s) with 10 file(s) remaining\\rCompleted 66.0 MiB/358.9 MiB (140.4 MiB/s) with 10 file(s) remaining\\rCompleted 66.2 MiB/358.9 MiB (140.6 MiB/s) with 10 file(s) remaining\\rCompleted 66.5 MiB/358.9 MiB (141.0 MiB/s) with 10 file(s) remaining\\rCompleted 66.8 MiB/358.9 MiB (141.3 MiB/s) with 10 file(s) remaining\\rCompleted 67.0 MiB/358.9 MiB (140.9 MiB/s) with 10 file(s) remaining\\rCompleted 67.2 MiB/358.9 MiB (140.8 MiB/s) with 10 file(s) remaining\\rCompleted 67.5 MiB/358.9 MiB (141.1 MiB/s) with 10 file(s) remaining\\rCompleted 67.8 MiB/358.9 MiB (141.6 MiB/s) with 10 file(s) remaining\\rCompleted 68.0 MiB/358.9 MiB (141.8 MiB/s) with 10 file(s) remaining\\rCompleted 68.2 MiB/358.9 MiB (141.8 MiB/s) with 10 file(s) remaining\\rCompleted 68.5 MiB/358.9 MiB (141.8 MiB/s) with 10 file(s) remaining\\rCompleted 68.8 MiB/358.9 MiB (142.3 MiB/s) with 10 file(s) remaining\\rCompleted 69.0 MiB/358.9 MiB (142.3 MiB/s) with 10 file(s) remaining\\rCompleted 69.2 MiB/358.9 MiB (142.0 MiB/s) with 10 file(s) remaining\\rCompleted 69.5 MiB/358.9 MiB (142.5 MiB/s) with 10 file(s) remaining\\rCompleted 69.8 MiB/358.9 MiB (142.7 MiB/s) with 10 file(s) remaining\\rCompleted 70.0 MiB/358.9 MiB (142.6 MiB/s) with 10 file(s) remaining\\rCompleted 70.2 MiB/358.9 MiB (143.0 MiB/s) with 10 file(s) remaining\\rCompleted 70.5 MiB/358.9 MiB (143.5 MiB/s) with 10 file(s) remaining\\rCompleted 70.8 MiB/358.9 MiB (143.2 MiB/s) with 10 file(s) remaining\\rCompleted 71.0 MiB/358.9 MiB (142.7 MiB/s) with 10 file(s) remaining\\rCompleted 71.2 MiB/358.9 MiB (143.0 MiB/s) with 10 file(s) remaining\\rCompleted 71.5 MiB/358.9 MiB (143.1 MiB/s) with 10 file(s) remaining\\rCompleted 71.8 MiB/358.9 MiB (143.5 MiB/s) with 10 file(s) remaining\\rCompleted 72.0 MiB/358.9 MiB (143.7 MiB/s) with 10 file(s) remaining\\rCompleted 72.2 MiB/358.9 MiB (143.2 MiB/s) with 10 file(s) remaining\\rCompleted 72.5 MiB/358.9 MiB (143.3 MiB/s) with 10 file(s) remaining\\rCompleted 72.8 MiB/358.9 MiB (143.6 MiB/s) with 10 file(s) remaining\\rCompleted 73.0 MiB/358.9 MiB (143.3 MiB/s) with 10 file(s) remaining\\rCompleted 73.2 MiB/358.9 MiB (143.6 MiB/s) with 10 file(s) remaining\\rCompleted 73.5 MiB/358.9 MiB (144.1 MiB/s) with 10 file(s) remaining\\rCompleted 73.8 MiB/358.9 MiB (144.5 MiB/s) with 10 file(s) remaining\\rCompleted 74.0 MiB/358.9 MiB (144.2 MiB/s) with 10 file(s) remaining\\rCompleted 74.2 MiB/358.9 MiB (144.2 MiB/s) with 10 file(s) remaining\\rCompleted 74.5 MiB/358.9 MiB (144.6 MiB/s) with 10 file(s) remaining\\rCompleted 74.8 MiB/358.9 MiB (144.0 MiB/s) with 10 file(s) remaining\\rCompleted 75.0 MiB/358.9 MiB (144.4 MiB/s) with 10 file(s) remaining\\rCompleted 75.2 MiB/358.9 MiB (144.3 MiB/s) with 10 file(s) remaining\\rCompleted 75.5 MiB/358.9 MiB (144.6 MiB/s) with 10 file(s) remaining\\rCompleted 75.8 MiB/358.9 MiB (145.0 MiB/s) with 10 file(s) remaining\\rCompleted 76.0 MiB/358.9 MiB (144.3 MiB/s) with 10 file(s) remaining\\rCompleted 76.2 MiB/358.9 MiB (144.7 MiB/s) with 10 file(s) remaining\\rCompleted 76.5 MiB/358.9 MiB (144.5 MiB/s) with 10 file(s) remaining\\rCompleted 76.8 MiB/358.9 MiB (144.6 MiB/s) with 10 file(s) remaining\\rCompleted 77.0 MiB/358.9 MiB (144.9 MiB/s) with 10 file(s) remaining\\rCompleted 77.2 MiB/358.9 MiB (145.3 MiB/s) with 10 file(s) remaining\\rCompleted 77.5 MiB/358.9 MiB (145.1 MiB/s) with 10 file(s) remaining\\rCompleted 77.8 MiB/358.9 MiB (144.4 MiB/s) with 10 file(s) remaining\\rCompleted 78.0 MiB/358.9 MiB (144.7 MiB/s) with 10 file(s) remaining\\rCompleted 78.2 MiB/358.9 MiB (144.6 MiB/s) with 10 file(s) remaining\\rCompleted 78.5 MiB/358.9 MiB (144.8 MiB/s) with 10 file(s) remaining\\rCompleted 78.8 MiB/358.9 MiB (144.6 MiB/s) with 10 file(s) remaining\\rCompleted 79.0 MiB/358.9 MiB (144.8 MiB/s) with 10 file(s) remaining\\rCompleted 79.2 MiB/358.9 MiB (144.9 MiB/s) with 10 file(s) remaining\\rCompleted 79.5 MiB/358.9 MiB (145.3 MiB/s) with 10 file(s) remaining\\rCompleted 79.8 MiB/358.9 MiB (145.4 MiB/s) with 10 file(s) remaining\\rCompleted 80.0 MiB/358.9 MiB (145.2 MiB/s) with 10 file(s) remaining\\rCompleted 80.2 MiB/358.9 MiB (145.5 MiB/s) with 10 file(s) remaining\\rCompleted 80.5 MiB/358.9 MiB (145.5 MiB/s) with 10 file(s) remaining\\rCompleted 80.8 MiB/358.9 MiB (145.5 MiB/s) with 10 file(s) remaining\\rCompleted 81.0 MiB/358.9 MiB (145.6 MiB/s) with 10 file(s) remaining\\rCompleted 81.2 MiB/358.9 MiB (146.0 MiB/s) with 10 file(s) remaining\\rCompleted 81.5 MiB/358.9 MiB (146.0 MiB/s) with 10 file(s) remaining\\rCompleted 81.8 MiB/358.9 MiB (146.1 MiB/s) with 10 file(s) remaining\\rCompleted 82.0 MiB/358.9 MiB (145.9 MiB/s) with 10 file(s) remaining\\rCompleted 82.2 MiB/358.9 MiB (145.9 MiB/s) with 10 file(s) remaining\\rCompleted 82.5 MiB/358.9 MiB (146.3 MiB/s) with 10 file(s) remaining\\rCompleted 82.8 MiB/358.9 MiB (146.7 MiB/s) with 10 file(s) remaining\\rCompleted 83.0 MiB/358.9 MiB (146.6 MiB/s) with 10 file(s) remaining\\rCompleted 83.2 MiB/358.9 MiB (146.8 MiB/s) with 10 file(s) remaining\\rCompleted 83.5 MiB/358.9 MiB (147.0 MiB/s) with 10 file(s) remaining\\rCompleted 83.8 MiB/358.9 MiB (146.8 MiB/s) with 10 file(s) remaining\\rCompleted 84.0 MiB/358.9 MiB (147.2 MiB/s) with 10 file(s) remaining\\rCompleted 84.2 MiB/358.9 MiB (146.3 MiB/s) with 10 file(s) remaining\\rCompleted 84.5 MiB/358.9 MiB (146.6 MiB/s) with 10 file(s) remaining\\rCompleted 84.8 MiB/358.9 MiB (147.0 MiB/s) with 10 file(s) remaining\\rCompleted 85.0 MiB/358.9 MiB (147.2 MiB/s) with 10 file(s) remaining\\rCompleted 85.2 MiB/358.9 MiB (147.5 MiB/s) with 10 file(s) remaining\\rCompleted 85.5 MiB/358.9 MiB (147.5 MiB/s) with 10 file(s) remaining\\rCompleted 85.8 MiB/358.9 MiB (147.7 MiB/s) with 10 file(s) remaining\\rCompleted 86.0 MiB/358.9 MiB (147.7 MiB/s) with 10 file(s) remaining\\rCompleted 86.2 MiB/358.9 MiB (147.6 MiB/s) with 10 file(s) remaining\\rCompleted 86.5 MiB/358.9 MiB (148.0 MiB/s) with 10 file(s) remaining\\rCompleted 86.8 MiB/358.9 MiB (148.0 MiB/s) with 10 file(s) remaining\\rCompleted 87.0 MiB/358.9 MiB (148.1 MiB/s) with 10 file(s) remaining\\rCompleted 87.2 MiB/358.9 MiB (148.0 MiB/s) with 10 file(s) remaining\\rCompleted 87.5 MiB/358.9 MiB (148.1 MiB/s) with 10 file(s) remaining\\rCompleted 87.8 MiB/358.9 MiB (147.9 MiB/s) with 10 file(s) remaining\\rCompleted 88.0 MiB/358.9 MiB (148.3 MiB/s) with 10 file(s) remaining\\rCompleted 88.2 MiB/358.9 MiB (148.5 MiB/s) with 10 file(s) remaining\\rCompleted 88.5 MiB/358.9 MiB (148.7 MiB/s) with 10 file(s) remaining\\rCompleted 88.8 MiB/358.9 MiB (148.0 MiB/s) with 10 file(s) remaining\\rCompleted 89.0 MiB/358.9 MiB (148.4 MiB/s) with 10 file(s) remaining\\rCompleted 89.2 MiB/358.9 MiB (148.0 MiB/s) with 10 file(s) remaining\\rCompleted 89.5 MiB/358.9 MiB (148.2 MiB/s) with 10 file(s) remaining\\rCompleted 89.8 MiB/358.9 MiB (148.5 MiB/s) with 10 file(s) remaining\\rCompleted 90.0 MiB/358.9 MiB (148.6 MiB/s) with 10 file(s) remaining\\rCompleted 90.2 MiB/358.9 MiB (148.0 MiB/s) with 10 file(s) remaining\\rCompleted 90.5 MiB/358.9 MiB (148.2 MiB/s) with 10 file(s) remaining\\rCompleted 90.8 MiB/358.9 MiB (148.4 MiB/s) with 10 file(s) remaining\\rCompleted 91.0 MiB/358.9 MiB (148.4 MiB/s) with 10 file(s) remaining\\rCompleted 91.2 MiB/358.9 MiB (148.2 MiB/s) with 10 file(s) remaining\\rCompleted 91.5 MiB/358.9 MiB (148.0 MiB/s) with 10 file(s) remaining\\rCompleted 91.8 MiB/358.9 MiB (148.3 MiB/s) with 10 file(s) remaining\\rCompleted 92.0 MiB/358.9 MiB (148.4 MiB/s) with 10 file(s) remaining\\rCompleted 92.2 MiB/358.9 MiB (148.4 MiB/s) with 10 file(s) remaining\\rCompleted 92.5 MiB/358.9 MiB (148.8 MiB/s) with 10 file(s) remaining\\rCompleted 92.8 MiB/358.9 MiB (148.4 MiB/s) with 10 file(s) remaining\\rCompleted 93.0 MiB/358.9 MiB (147.6 MiB/s) with 10 file(s) remaining\\rCompleted 93.2 MiB/358.9 MiB (147.9 MiB/s) with 10 file(s) remaining\\rCompleted 93.5 MiB/358.9 MiB (148.2 MiB/s) with 10 file(s) remaining\\rCompleted 93.8 MiB/358.9 MiB (148.1 MiB/s) with 10 file(s) remaining\\rCompleted 94.0 MiB/358.9 MiB (148.4 MiB/s) with 10 file(s) remaining\\rCompleted 94.2 MiB/358.9 MiB (147.9 MiB/s) with 10 file(s) remaining\\rCompleted 94.5 MiB/358.9 MiB (148.3 MiB/s) with 10 file(s) remaining\\rCompleted 94.8 MiB/358.9 MiB (148.5 MiB/s) with 10 file(s) remaining\\rCompleted 95.0 MiB/358.9 MiB (148.9 MiB/s) with 10 file(s) remaining\\rCompleted 95.2 MiB/358.9 MiB (148.9 MiB/s) with 10 file(s) remaining\\rCompleted 95.5 MiB/358.9 MiB (148.6 MiB/s) with 10 file(s) remaining\\rCompleted 95.8 MiB/358.9 MiB (148.6 MiB/s) with 10 file(s) remaining\\rCompleted 96.0 MiB/358.9 MiB (148.7 MiB/s) with 10 file(s) remaining\\rCompleted 96.2 MiB/358.9 MiB (149.0 MiB/s) with 10 file(s) remaining\\rCompleted 96.5 MiB/358.9 MiB (148.9 MiB/s) with 10 file(s) remaining\\rCompleted 96.8 MiB/358.9 MiB (149.1 MiB/s) with 10 file(s) remaining\\rCompleted 97.0 MiB/358.9 MiB (149.2 MiB/s) with 10 file(s) remaining\\rCompleted 97.2 MiB/358.9 MiB (148.5 MiB/s) with 10 file(s) remaining\\rCompleted 97.5 MiB/358.9 MiB (148.8 MiB/s) with 10 file(s) remaining\\rCompleted 97.8 MiB/358.9 MiB (148.7 MiB/s) with 10 file(s) remaining\\rCompleted 98.0 MiB/358.9 MiB (148.8 MiB/s) with 10 file(s) remaining\\rCompleted 98.2 MiB/358.9 MiB (149.2 MiB/s) with 10 file(s) remaining\\rCompleted 98.5 MiB/358.9 MiB (149.4 MiB/s) with 10 file(s) remaining\\rCompleted 98.8 MiB/358.9 MiB (149.4 MiB/s) with 10 file(s) remaining\\rCompleted 99.0 MiB/358.9 MiB (149.3 MiB/s) with 10 file(s) remaining\\rCompleted 99.2 MiB/358.9 MiB (149.2 MiB/s) with 10 file(s) remaining\\rCompleted 99.5 MiB/358.9 MiB (149.5 MiB/s) with 10 file(s) remaining\\rCompleted 99.8 MiB/358.9 MiB (149.3 MiB/s) with 10 file(s) remaining\\rCompleted 100.0 MiB/358.9 MiB (149.5 MiB/s) with 10 file(s) remaining\\rCompleted 100.2 MiB/358.9 MiB (149.8 MiB/s) with 10 file(s) remaining\\rCompleted 100.5 MiB/358.9 MiB (150.1 MiB/s) with 10 file(s) remaining\\rCompleted 100.8 MiB/358.9 MiB (149.4 MiB/s) with 10 file(s) remaining\\rCompleted 101.0 MiB/358.9 MiB (149.2 MiB/s) with 10 file(s) remaining\\rCompleted 101.2 MiB/358.9 MiB (149.5 MiB/s) with 10 file(s) remaining\\rCompleted 101.5 MiB/358.9 MiB (149.3 MiB/s) with 10 file(s) remaining\\rCompleted 101.8 MiB/358.9 MiB (149.3 MiB/s) with 10 file(s) remaining\\rCompleted 102.0 MiB/358.9 MiB (149.6 MiB/s) with 10 file(s) remaining\\rCompleted 102.2 MiB/358.9 MiB (149.8 MiB/s) with 10 file(s) remaining\\rCompleted 102.5 MiB/358.9 MiB (149.7 MiB/s) with 10 file(s) remaining\\rCompleted 102.8 MiB/358.9 MiB (149.8 MiB/s) with 10 file(s) remaining\\rCompleted 103.0 MiB/358.9 MiB (149.7 MiB/s) with 10 file(s) remaining\\rCompleted 103.2 MiB/358.9 MiB (149.9 MiB/s) with 10 file(s) remaining\\rCompleted 103.5 MiB/358.9 MiB (150.2 MiB/s) with 10 file(s) remaining\\rCompleted 103.8 MiB/358.9 MiB (150.2 MiB/s) with 10 file(s) remaining\\rCompleted 104.0 MiB/358.9 MiB (150.1 MiB/s) with 10 file(s) remaining\\rCompleted 104.2 MiB/358.9 MiB (150.3 MiB/s) with 10 file(s) remaining\\rCompleted 104.5 MiB/358.9 MiB (150.5 MiB/s) with 10 file(s) remaining\\rCompleted 104.8 MiB/358.9 MiB (150.7 MiB/s) with 10 file(s) remaining\\rCompleted 105.0 MiB/358.9 MiB (149.8 MiB/s) with 10 file(s) remaining\\rCompleted 105.2 MiB/358.9 MiB (150.0 MiB/s) with 10 file(s) remaining\\rCompleted 105.5 MiB/358.9 MiB (150.1 MiB/s) with 10 file(s) remaining\\rCompleted 105.8 MiB/358.9 MiB (150.4 MiB/s) with 10 file(s) remaining\\rCompleted 106.0 MiB/358.9 MiB (150.6 MiB/s) with 10 file(s) remaining\\rCompleted 106.2 MiB/358.9 MiB (150.9 MiB/s) with 10 file(s) remaining\\rCompleted 106.5 MiB/358.9 MiB (151.0 MiB/s) with 10 file(s) remaining\\rCompleted 106.8 MiB/358.9 MiB (150.3 MiB/s) with 10 file(s) remaining\\rCompleted 107.0 MiB/358.9 MiB (150.5 MiB/s) with 10 file(s) remaining\\rCompleted 107.2 MiB/358.9 MiB (150.7 MiB/s) with 10 file(s) remaining\\rCompleted 107.5 MiB/358.9 MiB (150.7 MiB/s) with 10 file(s) remaining\\rCompleted 107.8 MiB/358.9 MiB (151.0 MiB/s) with 10 file(s) remaining\\rCompleted 108.0 MiB/358.9 MiB (151.4 MiB/s) with 10 file(s) remaining\\rCompleted 108.2 MiB/358.9 MiB (151.3 MiB/s) with 10 file(s) remaining\\rCompleted 108.5 MiB/358.9 MiB (151.1 MiB/s) with 10 file(s) remaining\\rCompleted 108.8 MiB/358.9 MiB (150.9 MiB/s) with 10 file(s) remaining\\rCompleted 109.0 MiB/358.9 MiB (150.9 MiB/s) with 10 file(s) remaining\\rCompleted 109.2 MiB/358.9 MiB (151.1 MiB/s) with 10 file(s) remaining\\rCompleted 109.5 MiB/358.9 MiB (151.4 MiB/s) with 10 file(s) remaining\\rCompleted 109.8 MiB/358.9 MiB (151.6 MiB/s) with 10 file(s) remaining\\rCompleted 110.0 MiB/358.9 MiB (151.8 MiB/s) with 10 file(s) remaining\\rCompleted 110.2 MiB/358.9 MiB (151.3 MiB/s) with 10 file(s) remaining\\rCompleted 110.5 MiB/358.9 MiB (151.3 MiB/s) with 10 file(s) remaining\\rCompleted 110.8 MiB/358.9 MiB (151.4 MiB/s) with 10 file(s) remaining\\rCompleted 111.0 MiB/358.9 MiB (151.7 MiB/s) with 10 file(s) remaining\\rCompleted 111.2 MiB/358.9 MiB (151.8 MiB/s) with 10 file(s) remaining\\rCompleted 111.5 MiB/358.9 MiB (151.6 MiB/s) with 10 file(s) remaining\\rCompleted 111.8 MiB/358.9 MiB (151.8 MiB/s) with 10 file(s) remaining\\rCompleted 112.0 MiB/358.9 MiB (152.0 MiB/s) with 10 file(s) remaining\\rCompleted 112.2 MiB/358.9 MiB (151.9 MiB/s) with 10 file(s) remaining\\rCompleted 112.5 MiB/358.9 MiB (151.8 MiB/s) with 10 file(s) remaining\\rCompleted 112.8 MiB/358.9 MiB (152.1 MiB/s) with 10 file(s) remaining\\rCompleted 113.0 MiB/358.9 MiB (152.4 MiB/s) with 10 file(s) remaining\\rCompleted 113.2 MiB/358.9 MiB (152.0 MiB/s) with 10 file(s) remaining\\rCompleted 113.5 MiB/358.9 MiB (152.1 MiB/s) with 10 file(s) remaining\\rCompleted 113.8 MiB/358.9 MiB (152.3 MiB/s) with 10 file(s) remaining\\rCompleted 114.0 MiB/358.9 MiB (152.3 MiB/s) with 10 file(s) remaining\\rCompleted 114.2 MiB/358.9 MiB (152.6 MiB/s) with 10 file(s) remaining\\rCompleted 114.5 MiB/358.9 MiB (152.7 MiB/s) with 10 file(s) remaining\\rCompleted 114.8 MiB/358.9 MiB (152.8 MiB/s) with 10 file(s) remaining\\rCompleted 114.9 MiB/358.9 MiB (152.2 MiB/s) with 10 file(s) remaining\\rCompleted 115.1 MiB/358.9 MiB (151.7 MiB/s) with 10 file(s) remaining\\rCompleted 115.4 MiB/358.9 MiB (152.0 MiB/s) with 10 file(s) remaining\\rCompleted 115.6 MiB/358.9 MiB (152.0 MiB/s) with 10 file(s) remaining\\rCompleted 115.9 MiB/358.9 MiB (152.1 MiB/s) with 10 file(s) remaining\\rCompleted 116.1 MiB/358.9 MiB (152.3 MiB/s) with 10 file(s) remaining\\rCompleted 116.4 MiB/358.9 MiB (152.4 MiB/s) with 10 file(s) remaining\\rCompleted 116.6 MiB/358.9 MiB (152.7 MiB/s) with 10 file(s) remaining\\rCompleted 116.9 MiB/358.9 MiB (152.7 MiB/s) with 10 file(s) remaining\\rCompleted 117.1 MiB/358.9 MiB (152.5 MiB/s) with 10 file(s) remaining\\rCompleted 117.4 MiB/358.9 MiB (152.6 MiB/s) with 10 file(s) remaining\\rCompleted 117.6 MiB/358.9 MiB (152.8 MiB/s) with 10 file(s) remaining\\rCompleted 117.9 MiB/358.9 MiB (152.6 MiB/s) with 10 file(s) remaining\\rCompleted 118.1 MiB/358.9 MiB (152.6 MiB/s) with 10 file(s) remaining\\rCompleted 118.4 MiB/358.9 MiB (152.8 MiB/s) with 10 file(s) remaining\\rCompleted 118.6 MiB/358.9 MiB (152.9 MiB/s) with 10 file(s) remaining\\rCompleted 118.9 MiB/358.9 MiB (152.9 MiB/s) with 10 file(s) remaining\\rCompleted 119.1 MiB/358.9 MiB (152.7 MiB/s) with 10 file(s) remaining\\rCompleted 119.4 MiB/358.9 MiB (152.9 MiB/s) with 10 file(s) remaining\\rCompleted 119.6 MiB/358.9 MiB (152.7 MiB/s) with 10 file(s) remaining\\rCompleted 119.9 MiB/358.9 MiB (152.8 MiB/s) with 10 file(s) remaining\\rCompleted 120.1 MiB/358.9 MiB (152.7 MiB/s) with 10 file(s) remaining\\rCompleted 120.4 MiB/358.9 MiB (152.9 MiB/s) with 10 file(s) remaining\\rCompleted 120.6 MiB/358.9 MiB (153.2 MiB/s) with 10 file(s) remaining\\rCompleted 120.9 MiB/358.9 MiB (153.1 MiB/s) with 10 file(s) remaining\\rCompleted 121.1 MiB/358.9 MiB (153.3 MiB/s) with 10 file(s) remaining\\rCompleted 121.4 MiB/358.9 MiB (153.4 MiB/s) with 10 file(s) remaining\\rCompleted 121.6 MiB/358.9 MiB (153.6 MiB/s) with 10 file(s) remaining\\rCompleted 121.9 MiB/358.9 MiB (153.3 MiB/s) with 10 file(s) remaining\\rCompleted 122.1 MiB/358.9 MiB (153.4 MiB/s) with 10 file(s) remaining\\rCompleted 122.4 MiB/358.9 MiB (153.3 MiB/s) with 10 file(s) remaining\\rCompleted 122.6 MiB/358.9 MiB (153.6 MiB/s) with 10 file(s) remaining\\rCompleted 122.9 MiB/358.9 MiB (153.9 MiB/s) with 10 file(s) remaining\\rCompleted 123.1 MiB/358.9 MiB (153.5 MiB/s) with 10 file(s) remaining\\rCompleted 123.4 MiB/358.9 MiB (153.3 MiB/s) with 10 file(s) remaining\\rCompleted 123.6 MiB/358.9 MiB (153.3 MiB/s) with 10 file(s) remaining\\rCompleted 123.9 MiB/358.9 MiB (153.4 MiB/s) with 10 file(s) remaining\\rCompleted 124.1 MiB/358.9 MiB (153.7 MiB/s) with 10 file(s) remaining\\rCompleted 124.4 MiB/358.9 MiB (153.7 MiB/s) with 10 file(s) remaining\\rCompleted 124.6 MiB/358.9 MiB (153.8 MiB/s) with 10 file(s) remaining\\rCompleted 124.9 MiB/358.9 MiB (153.7 MiB/s) with 10 file(s) remaining\\rCompleted 125.1 MiB/358.9 MiB (153.9 MiB/s) with 10 file(s) remaining\\rCompleted 125.4 MiB/358.9 MiB (154.0 MiB/s) with 10 file(s) remaining\\rCompleted 125.6 MiB/358.9 MiB (153.6 MiB/s) with 10 file(s) remaining\\rCompleted 125.9 MiB/358.9 MiB (153.8 MiB/s) with 10 file(s) remaining\\rCompleted 126.1 MiB/358.9 MiB (153.7 MiB/s) with 10 file(s) remaining\\rCompleted 126.4 MiB/358.9 MiB (154.0 MiB/s) with 10 file(s) remaining\\rCompleted 126.6 MiB/358.9 MiB (153.8 MiB/s) with 10 file(s) remaining\\rCompleted 126.9 MiB/358.9 MiB (154.1 MiB/s) with 10 file(s) remaining\\rCompleted 127.1 MiB/358.9 MiB (154.1 MiB/s) with 10 file(s) remaining\\rCompleted 127.4 MiB/358.9 MiB (154.1 MiB/s) with 10 file(s) remaining\\rCompleted 127.6 MiB/358.9 MiB (153.7 MiB/s) with 10 file(s) remaining\\rCompleted 127.9 MiB/358.9 MiB (154.0 MiB/s) with 10 file(s) remaining\\rCompleted 128.1 MiB/358.9 MiB (154.2 MiB/s) with 10 file(s) remaining\\rCompleted 128.4 MiB/358.9 MiB (154.5 MiB/s) with 10 file(s) remaining\\rCompleted 128.6 MiB/358.9 MiB (154.5 MiB/s) with 10 file(s) remaining\\rCompleted 128.9 MiB/358.9 MiB (154.4 MiB/s) with 10 file(s) remaining\\rCompleted 129.1 MiB/358.9 MiB (154.1 MiB/s) with 10 file(s) remaining\\rCompleted 129.4 MiB/358.9 MiB (154.3 MiB/s) with 10 file(s) remaining\\rCompleted 129.6 MiB/358.9 MiB (154.4 MiB/s) with 10 file(s) remaining\\rCompleted 129.9 MiB/358.9 MiB (154.6 MiB/s) with 10 file(s) remaining\\rCompleted 130.1 MiB/358.9 MiB (154.9 MiB/s) with 10 file(s) remaining\\rCompleted 130.4 MiB/358.9 MiB (154.4 MiB/s) with 10 file(s) remaining\\rCompleted 130.6 MiB/358.9 MiB (154.5 MiB/s) with 10 file(s) remaining\\rCompleted 130.9 MiB/358.9 MiB (154.6 MiB/s) with 10 file(s) remaining\\rCompleted 131.1 MiB/358.9 MiB (154.6 MiB/s) with 10 file(s) remaining\\rCompleted 131.4 MiB/358.9 MiB (154.8 MiB/s) with 10 file(s) remaining\\rCompleted 131.6 MiB/358.9 MiB (154.9 MiB/s) with 10 file(s) remaining\\rCompleted 131.9 MiB/358.9 MiB (155.1 MiB/s) with 10 file(s) remaining\\rCompleted 132.1 MiB/358.9 MiB (155.2 MiB/s) with 10 file(s) remaining\\rCompleted 132.4 MiB/358.9 MiB (154.7 MiB/s) with 10 file(s) remaining\\rCompleted 132.6 MiB/358.9 MiB (155.0 MiB/s) with 10 file(s) remaining\\rCompleted 132.9 MiB/358.9 MiB (154.8 MiB/s) with 10 file(s) remaining\\rCompleted 133.1 MiB/358.9 MiB (155.0 MiB/s) with 10 file(s) remaining\\rCompleted 133.4 MiB/358.9 MiB (155.1 MiB/s) with 10 file(s) remaining\\rCompleted 133.6 MiB/358.9 MiB (155.1 MiB/s) with 10 file(s) remaining\\rCompleted 133.9 MiB/358.9 MiB (155.1 MiB/s) with 10 file(s) remaining\\rCompleted 134.1 MiB/358.9 MiB (155.1 MiB/s) with 10 file(s) remaining\\rCompleted 134.4 MiB/358.9 MiB (155.2 MiB/s) with 10 file(s) remaining\\rCompleted 134.6 MiB/358.9 MiB (155.5 MiB/s) with 10 file(s) remaining\\rCompleted 134.9 MiB/358.9 MiB (155.5 MiB/s) with 10 file(s) remaining\\rCompleted 135.1 MiB/358.9 MiB (155.6 MiB/s) with 10 file(s) remaining\\rCompleted 135.4 MiB/358.9 MiB (155.6 MiB/s) with 10 file(s) remaining\\rCompleted 135.6 MiB/358.9 MiB (155.9 MiB/s) with 10 file(s) remaining\\rCompleted 135.9 MiB/358.9 MiB (155.5 MiB/s) with 10 file(s) remaining\\rCompleted 136.1 MiB/358.9 MiB (155.7 MiB/s) with 10 file(s) remaining\\rCompleted 136.4 MiB/358.9 MiB (155.7 MiB/s) with 10 file(s) remaining\\rCompleted 136.6 MiB/358.9 MiB (155.9 MiB/s) with 10 file(s) remaining\\rCompleted 136.9 MiB/358.9 MiB (155.9 MiB/s) with 10 file(s) remaining\\rCompleted 137.1 MiB/358.9 MiB (156.1 MiB/s) with 10 file(s) remaining\\rCompleted 137.4 MiB/358.9 MiB (156.4 MiB/s) with 10 file(s) remaining\\rCompleted 137.6 MiB/358.9 MiB (156.0 MiB/s) with 10 file(s) remaining\\rCompleted 137.9 MiB/358.9 MiB (155.9 MiB/s) with 10 file(s) remaining\\rCompleted 138.1 MiB/358.9 MiB (156.1 MiB/s) with 10 file(s) remaining\\rCompleted 138.4 MiB/358.9 MiB (156.3 MiB/s) with 10 file(s) remaining\\rCompleted 138.6 MiB/358.9 MiB (156.5 MiB/s) with 10 file(s) remaining\\rCompleted 138.9 MiB/358.9 MiB (156.6 MiB/s) with 10 file(s) remaining\\rCompleted 139.1 MiB/358.9 MiB (156.6 MiB/s) with 10 file(s) remaining\\rCompleted 139.4 MiB/358.9 MiB (156.3 MiB/s) with 10 file(s) remaining\\rCompleted 139.6 MiB/358.9 MiB (156.3 MiB/s) with 10 file(s) remaining\\rCompleted 139.9 MiB/358.9 MiB (156.5 MiB/s) with 10 file(s) remaining\\rCompleted 140.1 MiB/358.9 MiB (156.7 MiB/s) with 10 file(s) remaining\\rCompleted 140.4 MiB/358.9 MiB (156.8 MiB/s) with 10 file(s) remaining\\rCompleted 140.6 MiB/358.9 MiB (157.0 MiB/s) with 10 file(s) remaining\\rCompleted 140.9 MiB/358.9 MiB (156.8 MiB/s) with 10 file(s) remaining\\rCompleted 141.1 MiB/358.9 MiB (156.6 MiB/s) with 10 file(s) remaining\\rCompleted 141.4 MiB/358.9 MiB (156.8 MiB/s) with 10 file(s) remaining\\rCompleted 141.6 MiB/358.9 MiB (157.0 MiB/s) with 10 file(s) remaining\\rCompleted 141.9 MiB/358.9 MiB (157.2 MiB/s) with 10 file(s) remaining\\rCompleted 142.1 MiB/358.9 MiB (157.1 MiB/s) with 10 file(s) remaining\\rCompleted 142.4 MiB/358.9 MiB (157.3 MiB/s) with 10 file(s) remaining\\rCompleted 142.6 MiB/358.9 MiB (157.5 MiB/s) with 10 file(s) remaining\\rCompleted 142.9 MiB/358.9 MiB (156.7 MiB/s) with 10 file(s) remaining\\rCompleted 143.1 MiB/358.9 MiB (156.7 MiB/s) with 10 file(s) remaining\\rCompleted 143.4 MiB/358.9 MiB (156.9 MiB/s) with 10 file(s) remaining\\rCompleted 143.6 MiB/358.9 MiB (157.2 MiB/s) with 10 file(s) remaining\\rCompleted 143.9 MiB/358.9 MiB (157.4 MiB/s) with 10 file(s) remaining\\rCompleted 144.1 MiB/358.9 MiB (157.4 MiB/s) with 10 file(s) remaining\\rCompleted 144.4 MiB/358.9 MiB (157.5 MiB/s) with 10 file(s) remaining\\rCompleted 144.6 MiB/358.9 MiB (157.1 MiB/s) with 10 file(s) remaining\\rCompleted 144.9 MiB/358.9 MiB (156.9 MiB/s) with 10 file(s) remaining\\rCompleted 145.1 MiB/358.9 MiB (157.1 MiB/s) with 10 file(s) remaining\\rCompleted 145.4 MiB/358.9 MiB (157.3 MiB/s) with 10 file(s) remaining\\rCompleted 145.6 MiB/358.9 MiB (157.2 MiB/s) with 10 file(s) remaining\\rCompleted 145.9 MiB/358.9 MiB (157.4 MiB/s) with 10 file(s) remaining\\rCompleted 146.1 MiB/358.9 MiB (157.4 MiB/s) with 10 file(s) remaining\\rCompleted 146.4 MiB/358.9 MiB (157.4 MiB/s) with 10 file(s) remaining\\rCompleted 146.6 MiB/358.9 MiB (157.5 MiB/s) with 10 file(s) remaining\\rCompleted 146.9 MiB/358.9 MiB (157.7 MiB/s) with 10 file(s) remaining\\rCompleted 147.1 MiB/358.9 MiB (157.5 MiB/s) with 10 file(s) remaining\\rCompleted 147.4 MiB/358.9 MiB (157.5 MiB/s) with 10 file(s) remaining\\rCompleted 147.6 MiB/358.9 MiB (157.5 MiB/s) with 10 file(s) remaining\\rCompleted 147.9 MiB/358.9 MiB (157.6 MiB/s) with 10 file(s) remaining\\rCompleted 148.1 MiB/358.9 MiB (157.8 MiB/s) with 10 file(s) remaining\\rCompleted 148.4 MiB/358.9 MiB (157.8 MiB/s) with 10 file(s) remaining\\rCompleted 148.6 MiB/358.9 MiB (157.5 MiB/s) with 10 file(s) remaining\\rCompleted 148.9 MiB/358.9 MiB (157.5 MiB/s) with 10 file(s) remaining\\rCompleted 149.1 MiB/358.9 MiB (157.7 MiB/s) with 10 file(s) remaining\\rCompleted 149.4 MiB/358.9 MiB (157.8 MiB/s) with 10 file(s) remaining\\rCompleted 149.6 MiB/358.9 MiB (157.9 MiB/s) with 10 file(s) remaining\\rCompleted 149.9 MiB/358.9 MiB (158.1 MiB/s) with 10 file(s) remaining\\rCompleted 150.1 MiB/358.9 MiB (158.2 MiB/s) with 10 file(s) remaining\\rCompleted 150.4 MiB/358.9 MiB (158.1 MiB/s) with 10 file(s) remaining\\rCompleted 150.6 MiB/358.9 MiB (157.8 MiB/s) with 10 file(s) remaining\\rCompleted 150.9 MiB/358.9 MiB (158.0 MiB/s) with 10 file(s) remaining\\rCompleted 151.1 MiB/358.9 MiB (158.2 MiB/s) with 10 file(s) remaining\\rCompleted 151.4 MiB/358.9 MiB (158.2 MiB/s) with 10 file(s) remaining\\rCompleted 151.6 MiB/358.9 MiB (158.4 MiB/s) with 10 file(s) remaining\\rCompleted 151.9 MiB/358.9 MiB (158.0 MiB/s) with 10 file(s) remaining\\rCompleted 152.1 MiB/358.9 MiB (158.1 MiB/s) with 10 file(s) remaining\\rCompleted 152.4 MiB/358.9 MiB (157.8 MiB/s) with 10 file(s) remaining\\rCompleted 152.6 MiB/358.9 MiB (158.0 MiB/s) with 10 file(s) remaining\\rCompleted 152.9 MiB/358.9 MiB (158.1 MiB/s) with 10 file(s) remaining\\rCompleted 153.1 MiB/358.9 MiB (158.4 MiB/s) with 10 file(s) remaining\\rCompleted 153.4 MiB/358.9 MiB (158.0 MiB/s) with 10 file(s) remaining\\rCompleted 153.6 MiB/358.9 MiB (158.2 MiB/s) with 10 file(s) remaining\\rCompleted 153.9 MiB/358.9 MiB (158.1 MiB/s) with 10 file(s) remaining\\rCompleted 154.1 MiB/358.9 MiB (158.1 MiB/s) with 10 file(s) remaining\\rCompleted 154.4 MiB/358.9 MiB (158.3 MiB/s) with 10 file(s) remaining\\rCompleted 154.6 MiB/358.9 MiB (158.2 MiB/s) with 10 file(s) remaining\\rCompleted 154.9 MiB/358.9 MiB (158.2 MiB/s) with 10 file(s) remaining\\rCompleted 155.1 MiB/358.9 MiB (158.1 MiB/s) with 10 file(s) remaining\\rCompleted 155.4 MiB/358.9 MiB (158.3 MiB/s) with 10 file(s) remaining\\rCompleted 155.6 MiB/358.9 MiB (158.5 MiB/s) with 10 file(s) remaining\\rCompleted 155.9 MiB/358.9 MiB (158.3 MiB/s) with 10 file(s) remaining\\rCompleted 156.1 MiB/358.9 MiB (158.3 MiB/s) with 10 file(s) remaining\\rCompleted 156.4 MiB/358.9 MiB (158.5 MiB/s) with 10 file(s) remaining\\rCompleted 156.6 MiB/358.9 MiB (158.7 MiB/s) with 10 file(s) remaining\\rCompleted 156.9 MiB/358.9 MiB (158.0 MiB/s) with 10 file(s) remaining\\rCompleted 157.1 MiB/358.9 MiB (157.9 MiB/s) with 10 file(s) remaining\\rCompleted 157.4 MiB/358.9 MiB (158.1 MiB/s) with 10 file(s) remaining\\rCompleted 157.6 MiB/358.9 MiB (158.1 MiB/s) with 10 file(s) remaining\\rCompleted 157.9 MiB/358.9 MiB (158.0 MiB/s) with 10 file(s) remaining\\rCompleted 158.1 MiB/358.9 MiB (157.6 MiB/s) with 10 file(s) remaining\\rCompleted 158.4 MiB/358.9 MiB (157.6 MiB/s) with 10 file(s) remaining\\rCompleted 158.6 MiB/358.9 MiB (157.8 MiB/s) with 10 file(s) remaining\\rCompleted 158.9 MiB/358.9 MiB (157.9 MiB/s) with 10 file(s) remaining\\rCompleted 159.1 MiB/358.9 MiB (157.9 MiB/s) with 10 file(s) remaining\\rCompleted 159.4 MiB/358.9 MiB (158.0 MiB/s) with 10 file(s) remaining\\rCompleted 159.6 MiB/358.9 MiB (157.9 MiB/s) with 10 file(s) remaining\\rCompleted 159.9 MiB/358.9 MiB (158.0 MiB/s) with 10 file(s) remaining\\rCompleted 160.1 MiB/358.9 MiB (158.0 MiB/s) with 10 file(s) remaining\\rCompleted 160.4 MiB/358.9 MiB (158.2 MiB/s) with 10 file(s) remaining\\rCompleted 160.6 MiB/358.9 MiB (158.3 MiB/s) with 10 file(s) remaining\\rCompleted 160.9 MiB/358.9 MiB (158.0 MiB/s) with 10 file(s) remaining\\rCompleted 161.1 MiB/358.9 MiB (158.0 MiB/s) with 10 file(s) remaining\\rCompleted 161.4 MiB/358.9 MiB (157.8 MiB/s) with 10 file(s) remaining\\rCompleted 161.6 MiB/358.9 MiB (158.0 MiB/s) with 10 file(s) remaining\\rCompleted 161.9 MiB/358.9 MiB (158.2 MiB/s) with 10 file(s) remaining\\rCompleted 162.1 MiB/358.9 MiB (158.4 MiB/s) with 10 file(s) remaining\\rCompleted 162.4 MiB/358.9 MiB (158.5 MiB/s) with 10 file(s) remaining\\rCompleted 162.6 MiB/358.9 MiB (158.2 MiB/s) with 10 file(s) remaining\\rCompleted 162.9 MiB/358.9 MiB (158.2 MiB/s) with 10 file(s) remaining\\rCompleted 163.1 MiB/358.9 MiB (158.3 MiB/s) with 10 file(s) remaining\\rCompleted 163.4 MiB/358.9 MiB (158.5 MiB/s) with 10 file(s) remaining\\rCompleted 163.6 MiB/358.9 MiB (158.6 MiB/s) with 10 file(s) remaining\\rCompleted 163.9 MiB/358.9 MiB (158.8 MiB/s) with 10 file(s) remaining\\rCompleted 164.1 MiB/358.9 MiB (158.6 MiB/s) with 10 file(s) remaining\\rCompleted 164.4 MiB/358.9 MiB (158.6 MiB/s) with 10 file(s) remaining\\rCompleted 164.6 MiB/358.9 MiB (158.6 MiB/s) with 10 file(s) remaining\\rCompleted 164.9 MiB/358.9 MiB (158.9 MiB/s) with 10 file(s) remaining\\rCompleted 165.1 MiB/358.9 MiB (159.1 MiB/s) with 10 file(s) remaining\\rCompleted 165.4 MiB/358.9 MiB (159.0 MiB/s) with 10 file(s) remaining\\rCompleted 165.6 MiB/358.9 MiB (159.0 MiB/s) with 10 file(s) remaining\\rCompleted 165.9 MiB/358.9 MiB (159.1 MiB/s) with 10 file(s) remaining\\rCompleted 166.1 MiB/358.9 MiB (159.2 MiB/s) with 10 file(s) remaining\\rCompleted 166.4 MiB/358.9 MiB (159.4 MiB/s) with 10 file(s) remaining\\rCompleted 166.6 MiB/358.9 MiB (159.2 MiB/s) with 10 file(s) remaining\\rCompleted 166.9 MiB/358.9 MiB (159.4 MiB/s) with 10 file(s) remaining\\rCompleted 167.1 MiB/358.9 MiB (159.3 MiB/s) with 10 file(s) remaining\\rCompleted 167.4 MiB/358.9 MiB (159.5 MiB/s) with 10 file(s) remaining\\rCompleted 167.6 MiB/358.9 MiB (159.6 MiB/s) with 10 file(s) remaining\\rCompleted 167.9 MiB/358.9 MiB (159.6 MiB/s) with 10 file(s) remaining\\rCompleted 168.1 MiB/358.9 MiB (159.7 MiB/s) with 10 file(s) remaining\\rCompleted 168.4 MiB/358.9 MiB (159.5 MiB/s) with 10 file(s) remaining\\rCompleted 168.6 MiB/358.9 MiB (159.7 MiB/s) with 10 file(s) remaining\\rCompleted 168.9 MiB/358.9 MiB (159.6 MiB/s) with 10 file(s) remaining\\rCompleted 169.1 MiB/358.9 MiB (159.8 MiB/s) with 10 file(s) remaining\\rCompleted 169.4 MiB/358.9 MiB (159.9 MiB/s) with 10 file(s) remaining\\rCompleted 169.6 MiB/358.9 MiB (159.7 MiB/s) with 10 file(s) remaining\\rCompleted 169.9 MiB/358.9 MiB (159.8 MiB/s) with 10 file(s) remaining\\rCompleted 170.1 MiB/358.9 MiB (159.9 MiB/s) with 10 file(s) remaining\\rCompleted 170.4 MiB/358.9 MiB (160.1 MiB/s) with 10 file(s) remaining\\rCompleted 170.6 MiB/358.9 MiB (159.9 MiB/s) with 10 file(s) remaining\\rCompleted 170.9 MiB/358.9 MiB (160.0 MiB/s) with 10 file(s) remaining\\rCompleted 171.1 MiB/358.9 MiB (160.1 MiB/s) with 10 file(s) remaining\\rCompleted 171.4 MiB/358.9 MiB (160.3 MiB/s) with 10 file(s) remaining\\rCompleted 171.6 MiB/358.9 MiB (160.3 MiB/s) with 10 file(s) remaining\\rCompleted 171.9 MiB/358.9 MiB (160.3 MiB/s) with 10 file(s) remaining\\rCompleted 172.1 MiB/358.9 MiB (160.4 MiB/s) with 10 file(s) remaining\\rCompleted 172.4 MiB/358.9 MiB (160.6 MiB/s) with 10 file(s) remaining\\rCompleted 172.6 MiB/358.9 MiB (160.7 MiB/s) with 10 file(s) remaining\\rCompleted 172.9 MiB/358.9 MiB (160.6 MiB/s) with 10 file(s) remaining\\rCompleted 173.1 MiB/358.9 MiB (160.8 MiB/s) with 10 file(s) remaining\\rCompleted 173.4 MiB/358.9 MiB (160.9 MiB/s) with 10 file(s) remaining\\rCompleted 173.6 MiB/358.9 MiB (160.9 MiB/s) with 10 file(s) remaining\\rCompleted 173.9 MiB/358.9 MiB (161.1 MiB/s) with 10 file(s) remaining\\rCompleted 174.1 MiB/358.9 MiB (161.0 MiB/s) with 10 file(s) remaining\\rCompleted 174.4 MiB/358.9 MiB (160.6 MiB/s) with 10 file(s) remaining\\rCompleted 174.6 MiB/358.9 MiB (160.2 MiB/s) with 10 file(s) remaining\\rCompleted 174.9 MiB/358.9 MiB (159.8 MiB/s) with 10 file(s) remaining\\rCompleted 175.1 MiB/358.9 MiB (159.4 MiB/s) with 10 file(s) remaining\\rCompleted 175.4 MiB/358.9 MiB (159.6 MiB/s) with 10 file(s) remaining\\rCompleted 175.6 MiB/358.9 MiB (159.3 MiB/s) with 10 file(s) remaining\\rCompleted 175.9 MiB/358.9 MiB (159.1 MiB/s) with 10 file(s) remaining\\rCompleted 176.1 MiB/358.9 MiB (158.9 MiB/s) with 10 file(s) remaining\\rCompleted 176.4 MiB/358.9 MiB (158.8 MiB/s) with 10 file(s) remaining\\rCompleted 176.6 MiB/358.9 MiB (158.7 MiB/s) with 10 file(s) remaining\\rCompleted 176.9 MiB/358.9 MiB (158.7 MiB/s) with 10 file(s) remaining\\rCompleted 177.1 MiB/358.9 MiB (158.4 MiB/s) with 10 file(s) remaining\\rCompleted 177.4 MiB/358.9 MiB (158.4 MiB/s) with 10 file(s) remaining\\rCompleted 177.5 MiB/358.9 MiB (158.2 MiB/s) with 10 file(s) remaining\\rupload: validation/val_part2.pbr to s3://e15-nlp-amazon-review-polarity/ntm/amazon_review/val/val_part2.pbr\\nCompleted 177.5 MiB/358.9 MiB (158.2 MiB/s) with 9 file(s) remaining\\rCompleted 177.7 MiB/358.9 MiB (158.0 MiB/s) with 9 file(s) remaining\\rCompleted 178.0 MiB/358.9 MiB (158.1 MiB/s) with 9 file(s) remaining\\rCompleted 178.1 MiB/358.9 MiB (158.0 MiB/s) with 9 file(s) remaining\\rCompleted 178.4 MiB/358.9 MiB (157.5 MiB/s) with 9 file(s) remaining\\rCompleted 178.6 MiB/358.9 MiB (157.6 MiB/s) with 9 file(s) remaining\\rCompleted 178.9 MiB/358.9 MiB (157.7 MiB/s) with 9 file(s) remaining\\rCompleted 179.1 MiB/358.9 MiB (157.7 MiB/s) with 9 file(s) remaining\\rCompleted 179.4 MiB/358.9 MiB (157.8 MiB/s) with 9 file(s) remaining\\rCompleted 179.6 MiB/358.9 MiB (157.6 MiB/s) with 9 file(s) remaining\\rCompleted 179.9 MiB/358.9 MiB (157.1 MiB/s) with 9 file(s) remaining\\rCompleted 180.1 MiB/358.9 MiB (157.2 MiB/s) with 9 file(s) remaining\\rCompleted 180.4 MiB/358.9 MiB (157.1 MiB/s) with 9 file(s) remaining\\rCompleted 180.6 MiB/358.9 MiB (157.0 MiB/s) with 9 file(s) remaining\\rCompleted 180.9 MiB/358.9 MiB (156.9 MiB/s) with 9 file(s) remaining\\rCompleted 181.1 MiB/358.9 MiB (156.8 MiB/s) with 9 file(s) remaining\\rCompleted 181.4 MiB/358.9 MiB (156.6 MiB/s) with 9 file(s) remaining\\rCompleted 181.6 MiB/358.9 MiB (156.8 MiB/s) with 9 file(s) remaining\\rCompleted 181.8 MiB/358.9 MiB (156.8 MiB/s) with 9 file(s) remaining\\rCompleted 182.0 MiB/358.9 MiB (156.4 MiB/s) with 9 file(s) remaining\\rCompleted 182.2 MiB/358.9 MiB (156.3 MiB/s) with 9 file(s) remaining\\rCompleted 182.5 MiB/358.9 MiB (156.4 MiB/s) with 9 file(s) remaining\\rCompleted 182.7 MiB/358.9 MiB (156.3 MiB/s) with 9 file(s) remaining\\rCompleted 183.0 MiB/358.9 MiB (156.4 MiB/s) with 9 file(s) remaining\\rCompleted 183.2 MiB/358.9 MiB (156.5 MiB/s) with 9 file(s) remaining\\rCompleted 183.5 MiB/358.9 MiB (156.3 MiB/s) with 9 file(s) remaining\\rCompleted 183.7 MiB/358.9 MiB (156.4 MiB/s) with 9 file(s) remaining\\rCompleted 184.0 MiB/358.9 MiB (156.5 MiB/s) with 9 file(s) remaining\\rCompleted 184.2 MiB/358.9 MiB (156.5 MiB/s) with 9 file(s) remaining\\rCompleted 184.5 MiB/358.9 MiB (156.6 MiB/s) with 9 file(s) remaining\\rCompleted 184.7 MiB/358.9 MiB (156.5 MiB/s) with 9 file(s) remaining\\rCompleted 185.0 MiB/358.9 MiB (156.7 MiB/s) with 9 file(s) remaining\\rCompleted 185.2 MiB/358.9 MiB (156.7 MiB/s) with 9 file(s) remaining\\rCompleted 185.5 MiB/358.9 MiB (156.6 MiB/s) with 9 file(s) remaining\\rCompleted 185.7 MiB/358.9 MiB (156.7 MiB/s) with 9 file(s) remaining\\rCompleted 186.0 MiB/358.9 MiB (156.5 MiB/s) with 9 file(s) remaining\\rCompleted 186.2 MiB/358.9 MiB (156.6 MiB/s) with 9 file(s) remaining\\rCompleted 186.5 MiB/358.9 MiB (156.6 MiB/s) with 9 file(s) remaining\\rCompleted 186.7 MiB/358.9 MiB (156.7 MiB/s) with 9 file(s) remaining\\rCompleted 187.0 MiB/358.9 MiB (156.7 MiB/s) with 9 file(s) remaining\\rCompleted 187.2 MiB/358.9 MiB (156.5 MiB/s) with 9 file(s) remaining\\rCompleted 187.5 MiB/358.9 MiB (156.7 MiB/s) with 9 file(s) remaining\\rCompleted 187.7 MiB/358.9 MiB (156.7 MiB/s) with 9 file(s) remaining\\rCompleted 188.0 MiB/358.9 MiB (156.7 MiB/s) with 9 file(s) remaining\\rCompleted 188.2 MiB/358.9 MiB (156.6 MiB/s) with 9 file(s) remaining\\rCompleted 188.5 MiB/358.9 MiB (156.8 MiB/s) with 9 file(s) remaining\\rCompleted 188.7 MiB/358.9 MiB (156.8 MiB/s) with 9 file(s) remaining\\rCompleted 189.0 MiB/358.9 MiB (156.7 MiB/s) with 9 file(s) remaining\\rCompleted 189.2 MiB/358.9 MiB (156.8 MiB/s) with 9 file(s) remaining\\rCompleted 189.5 MiB/358.9 MiB (157.0 MiB/s) with 9 file(s) remaining\\rCompleted 189.7 MiB/358.9 MiB (157.0 MiB/s) with 9 file(s) remaining\\rCompleted 190.0 MiB/358.9 MiB (156.9 MiB/s) with 9 file(s) remaining\\rCompleted 190.2 MiB/358.9 MiB (157.0 MiB/s) with 9 file(s) remaining\\rCompleted 190.5 MiB/358.9 MiB (157.2 MiB/s) with 9 file(s) remaining\\rCompleted 190.7 MiB/358.9 MiB (157.2 MiB/s) with 9 file(s) remaining\\rCompleted 191.0 MiB/358.9 MiB (157.0 MiB/s) with 9 file(s) remaining\\rCompleted 191.2 MiB/358.9 MiB (157.1 MiB/s) with 9 file(s) remaining\\rCompleted 191.5 MiB/358.9 MiB (157.1 MiB/s) with 9 file(s) remaining\\rCompleted 191.7 MiB/358.9 MiB (157.2 MiB/s) with 9 file(s) remaining\\rCompleted 192.0 MiB/358.9 MiB (157.3 MiB/s) with 9 file(s) remaining\\rCompleted 192.2 MiB/358.9 MiB (157.2 MiB/s) with 9 file(s) remaining\\rCompleted 192.5 MiB/358.9 MiB (157.2 MiB/s) with 9 file(s) remaining\\rCompleted 192.7 MiB/358.9 MiB (157.4 MiB/s) with 9 file(s) remaining\\rCompleted 193.0 MiB/358.9 MiB (157.5 MiB/s) with 9 file(s) remaining\\rCompleted 193.2 MiB/358.9 MiB (157.5 MiB/s) with 9 file(s) remaining\\rCompleted 193.5 MiB/358.9 MiB (157.5 MiB/s) with 9 file(s) remaining\\rCompleted 193.7 MiB/358.9 MiB (157.6 MiB/s) with 9 file(s) remaining\\rCompleted 194.0 MiB/358.9 MiB (157.6 MiB/s) with 9 file(s) remaining\\rupload: validation/val_part4.pbr to s3://e15-nlp-amazon-review-polarity/ntm/amazon_review/val/val_part4.pbr\\nCompleted 194.0 MiB/358.9 MiB (157.6 MiB/s) with 8 file(s) remaining\\rCompleted 194.2 MiB/358.9 MiB (157.3 MiB/s) with 8 file(s) remaining\\rCompleted 194.5 MiB/358.9 MiB (157.4 MiB/s) with 8 file(s) remaining\\rCompleted 194.7 MiB/358.9 MiB (157.4 MiB/s) with 8 file(s) remaining\\rCompleted 195.0 MiB/358.9 MiB (157.5 MiB/s) with 8 file(s) remaining\\rCompleted 195.2 MiB/358.9 MiB (157.6 MiB/s) with 8 file(s) remaining\\rCompleted 195.5 MiB/358.9 MiB (157.4 MiB/s) with 8 file(s) remaining\\rCompleted 195.7 MiB/358.9 MiB (157.4 MiB/s) with 8 file(s) remaining\\rCompleted 196.0 MiB/358.9 MiB (157.6 MiB/s) with 8 file(s) remaining\\rCompleted 196.2 MiB/358.9 MiB (157.6 MiB/s) with 8 file(s) remaining\\rCompleted 196.5 MiB/358.9 MiB (157.8 MiB/s) with 8 file(s) remaining\\rCompleted 196.7 MiB/358.9 MiB (157.8 MiB/s) with 8 file(s) remaining\\rCompleted 197.0 MiB/358.9 MiB (157.5 MiB/s) with 8 file(s) remaining\\rCompleted 197.2 MiB/358.9 MiB (157.7 MiB/s) with 8 file(s) remaining\\rCompleted 197.5 MiB/358.9 MiB (157.7 MiB/s) with 8 file(s) remaining\\rCompleted 197.7 MiB/358.9 MiB (157.9 MiB/s) with 8 file(s) remaining\\rCompleted 198.0 MiB/358.9 MiB (157.9 MiB/s) with 8 file(s) remaining\\rCompleted 198.2 MiB/358.9 MiB (157.6 MiB/s) with 8 file(s) remaining\\rCompleted 198.5 MiB/358.9 MiB (157.7 MiB/s) with 8 file(s) remaining\\rCompleted 198.7 MiB/358.9 MiB (157.8 MiB/s) with 8 file(s) remaining\\rCompleted 199.0 MiB/358.9 MiB (157.9 MiB/s) with 8 file(s) remaining\\rCompleted 199.2 MiB/358.9 MiB (158.1 MiB/s) with 8 file(s) remaining\\rCompleted 199.5 MiB/358.9 MiB (157.8 MiB/s) with 8 file(s) remaining\\rCompleted 199.7 MiB/358.9 MiB (157.9 MiB/s) with 8 file(s) remaining\\rCompleted 200.0 MiB/358.9 MiB (158.0 MiB/s) with 8 file(s) remaining\\rCompleted 200.2 MiB/358.9 MiB (158.2 MiB/s) with 8 file(s) remaining\\rCompleted 200.5 MiB/358.9 MiB (158.2 MiB/s) with 8 file(s) remaining\\rCompleted 200.7 MiB/358.9 MiB (158.1 MiB/s) with 8 file(s) remaining\\rCompleted 201.0 MiB/358.9 MiB (158.0 MiB/s) with 8 file(s) remaining\\rCompleted 201.2 MiB/358.9 MiB (158.1 MiB/s) with 8 file(s) remaining\\rCompleted 201.5 MiB/358.9 MiB (158.2 MiB/s) with 8 file(s) remaining\\rCompleted 201.7 MiB/358.9 MiB (158.4 MiB/s) with 8 file(s) remaining\\rCompleted 202.0 MiB/358.9 MiB (158.5 MiB/s) with 8 file(s) remaining\\rCompleted 202.2 MiB/358.9 MiB (158.3 MiB/s) with 8 file(s) remaining\\rCompleted 202.5 MiB/358.9 MiB (158.4 MiB/s) with 8 file(s) remaining\\rCompleted 202.7 MiB/358.9 MiB (158.5 MiB/s) with 8 file(s) remaining\\rCompleted 203.0 MiB/358.9 MiB (158.6 MiB/s) with 8 file(s) remaining\\rCompleted 203.2 MiB/358.9 MiB (158.5 MiB/s) with 8 file(s) remaining\\rCompleted 203.5 MiB/358.9 MiB (158.6 MiB/s) with 8 file(s) remaining\\rCompleted 203.7 MiB/358.9 MiB (158.7 MiB/s) with 8 file(s) remaining\\rupload: validation/val_part3.pbr to s3://e15-nlp-amazon-review-polarity/ntm/amazon_review/val/val_part3.pbr\\nCompleted 203.7 MiB/358.9 MiB (158.7 MiB/s) with 7 file(s) remaining\\rCompleted 204.0 MiB/358.9 MiB (158.5 MiB/s) with 7 file(s) remaining\\rCompleted 204.2 MiB/358.9 MiB (158.4 MiB/s) with 7 file(s) remaining\\rCompleted 204.5 MiB/358.9 MiB (158.6 MiB/s) with 7 file(s) remaining\\rCompleted 204.7 MiB/358.9 MiB (158.6 MiB/s) with 7 file(s) remaining\\rCompleted 205.0 MiB/358.9 MiB (158.3 MiB/s) with 7 file(s) remaining\\rCompleted 205.2 MiB/358.9 MiB (158.4 MiB/s) with 7 file(s) remaining\\rCompleted 205.5 MiB/358.9 MiB (158.6 MiB/s) with 7 file(s) remaining\\rCompleted 205.7 MiB/358.9 MiB (158.8 MiB/s) with 7 file(s) remaining\\rCompleted 206.0 MiB/358.9 MiB (158.7 MiB/s) with 7 file(s) remaining\\rCompleted 206.2 MiB/358.9 MiB (158.6 MiB/s) with 7 file(s) remaining\\rCompleted 206.5 MiB/358.9 MiB (158.6 MiB/s) with 7 file(s) remaining\\rCompleted 206.7 MiB/358.9 MiB (158.8 MiB/s) with 7 file(s) remaining\\rCompleted 207.0 MiB/358.9 MiB (158.8 MiB/s) with 7 file(s) remaining\\rCompleted 207.2 MiB/358.9 MiB (158.9 MiB/s) with 7 file(s) remaining\\rupload: validation/val_part1.pbr to s3://e15-nlp-amazon-review-polarity/ntm/amazon_review/val/val_part1.pbr\\nCompleted 207.2 MiB/358.9 MiB (158.9 MiB/s) with 6 file(s) remaining\\rCompleted 207.5 MiB/358.9 MiB (158.5 MiB/s) with 6 file(s) remaining\\rCompleted 207.7 MiB/358.9 MiB (158.4 MiB/s) with 6 file(s) remaining\\rCompleted 208.0 MiB/358.9 MiB (158.5 MiB/s) with 6 file(s) remaining\\rCompleted 208.2 MiB/358.9 MiB (158.7 MiB/s) with 6 file(s) remaining\\rCompleted 208.5 MiB/358.9 MiB (158.8 MiB/s) with 6 file(s) remaining\\rCompleted 208.7 MiB/358.9 MiB (158.7 MiB/s) with 6 file(s) remaining\\rCompleted 209.0 MiB/358.9 MiB (158.6 MiB/s) with 6 file(s) remaining\\rCompleted 209.2 MiB/358.9 MiB (158.8 MiB/s) with 6 file(s) remaining\\rCompleted 209.5 MiB/358.9 MiB (158.9 MiB/s) with 6 file(s) remaining\\rCompleted 209.7 MiB/358.9 MiB (158.9 MiB/s) with 6 file(s) remaining\\rCompleted 210.0 MiB/358.9 MiB (158.7 MiB/s) with 6 file(s) remaining\\rCompleted 210.2 MiB/358.9 MiB (158.8 MiB/s) with 6 file(s) remaining\\rCompleted 210.5 MiB/358.9 MiB (158.8 MiB/s) with 6 file(s) remaining\\rCompleted 210.7 MiB/358.9 MiB (158.9 MiB/s) with 6 file(s) remaining\\rCompleted 211.0 MiB/358.9 MiB (159.0 MiB/s) with 6 file(s) remaining\\rCompleted 211.2 MiB/358.9 MiB (158.8 MiB/s) with 6 file(s) remaining\\rCompleted 211.5 MiB/358.9 MiB (158.6 MiB/s) with 6 file(s) remaining\\rCompleted 211.7 MiB/358.9 MiB (158.6 MiB/s) with 6 file(s) remaining\\rCompleted 212.0 MiB/358.9 MiB (158.7 MiB/s) with 6 file(s) remaining\\rCompleted 212.2 MiB/358.9 MiB (158.9 MiB/s) with 6 file(s) remaining\\rCompleted 212.5 MiB/358.9 MiB (158.9 MiB/s) with 6 file(s) remaining\\rCompleted 212.7 MiB/358.9 MiB (158.8 MiB/s) with 6 file(s) remaining\\rCompleted 213.0 MiB/358.9 MiB (158.9 MiB/s) with 6 file(s) remaining\\rCompleted 213.2 MiB/358.9 MiB (158.8 MiB/s) with 6 file(s) remaining\\rCompleted 213.5 MiB/358.9 MiB (158.9 MiB/s) with 6 file(s) remaining\\rCompleted 213.7 MiB/358.9 MiB (159.1 MiB/s) with 6 file(s) remaining\\rCompleted 214.0 MiB/358.9 MiB (159.0 MiB/s) with 6 file(s) remaining\\rCompleted 214.2 MiB/358.9 MiB (159.0 MiB/s) with 6 file(s) remaining\\rCompleted 214.5 MiB/358.9 MiB (158.9 MiB/s) with 6 file(s) remaining\\rCompleted 214.7 MiB/358.9 MiB (158.9 MiB/s) with 6 file(s) remaining\\rCompleted 215.0 MiB/358.9 MiB (158.8 MiB/s) with 6 file(s) remaining\\rCompleted 215.2 MiB/358.9 MiB (158.8 MiB/s) with 6 file(s) remaining\\rCompleted 215.5 MiB/358.9 MiB (159.0 MiB/s) with 6 file(s) remaining\\rCompleted 215.7 MiB/358.9 MiB (158.9 MiB/s) with 6 file(s) remaining\\rCompleted 216.0 MiB/358.9 MiB (158.9 MiB/s) with 6 file(s) remaining\\rCompleted 216.2 MiB/358.9 MiB (158.9 MiB/s) with 6 file(s) remaining\\rCompleted 216.5 MiB/358.9 MiB (159.0 MiB/s) with 6 file(s) remaining\\rCompleted 216.7 MiB/358.9 MiB (159.2 MiB/s) with 6 file(s) remaining\\rCompleted 217.0 MiB/358.9 MiB (159.1 MiB/s) with 6 file(s) remaining\\rCompleted 217.2 MiB/358.9 MiB (158.9 MiB/s) with 6 file(s) remaining\\rCompleted 217.5 MiB/358.9 MiB (159.1 MiB/s) with 6 file(s) remaining\\rCompleted 217.7 MiB/358.9 MiB (159.0 MiB/s) with 6 file(s) remaining\\rCompleted 218.0 MiB/358.9 MiB (158.9 MiB/s) with 6 file(s) remaining\\rCompleted 218.2 MiB/358.9 MiB (158.8 MiB/s) with 6 file(s) remaining\\rCompleted 218.5 MiB/358.9 MiB (158.9 MiB/s) with 6 file(s) remaining\\rCompleted 218.7 MiB/358.9 MiB (159.1 MiB/s) with 6 file(s) remaining\\rCompleted 219.0 MiB/358.9 MiB (159.1 MiB/s) with 6 file(s) remaining\\rCompleted 219.2 MiB/358.9 MiB (159.2 MiB/s) with 6 file(s) remaining\\rCompleted 219.5 MiB/358.9 MiB (159.3 MiB/s) with 6 file(s) remaining\\rCompleted 219.7 MiB/358.9 MiB (159.0 MiB/s) with 6 file(s) remaining\\rCompleted 220.0 MiB/358.9 MiB (158.8 MiB/s) with 6 file(s) remaining\\rCompleted 220.2 MiB/358.9 MiB (158.9 MiB/s) with 6 file(s) remaining\\rCompleted 220.5 MiB/358.9 MiB (159.0 MiB/s) with 6 file(s) remaining\\rCompleted 220.7 MiB/358.9 MiB (159.1 MiB/s) with 6 file(s) remaining\\rCompleted 221.0 MiB/358.9 MiB (159.2 MiB/s) with 6 file(s) remaining\\rCompleted 221.2 MiB/358.9 MiB (159.2 MiB/s) with 6 file(s) remaining\\rCompleted 221.5 MiB/358.9 MiB (159.1 MiB/s) with 6 file(s) remaining\\rCompleted 221.7 MiB/358.9 MiB (159.2 MiB/s) with 6 file(s) remaining\\rCompleted 222.0 MiB/358.9 MiB (159.2 MiB/s) with 6 file(s) remaining\\rCompleted 222.2 MiB/358.9 MiB (159.2 MiB/s) with 6 file(s) remaining\\rCompleted 222.5 MiB/358.9 MiB (159.2 MiB/s) with 6 file(s) remaining\\rCompleted 222.7 MiB/358.9 MiB (159.4 MiB/s) with 6 file(s) remaining\\rCompleted 223.0 MiB/358.9 MiB (159.2 MiB/s) with 6 file(s) remaining\\rCompleted 223.2 MiB/358.9 MiB (159.3 MiB/s) with 6 file(s) remaining\\rCompleted 223.5 MiB/358.9 MiB (159.4 MiB/s) with 6 file(s) remaining\\rCompleted 223.7 MiB/358.9 MiB (159.4 MiB/s) with 6 file(s) remaining\\rCompleted 224.0 MiB/358.9 MiB (159.3 MiB/s) with 6 file(s) remaining\\rCompleted 224.2 MiB/358.9 MiB (159.5 MiB/s) with 6 file(s) remaining\\rCompleted 224.5 MiB/358.9 MiB (159.3 MiB/s) with 6 file(s) remaining\\rCompleted 224.7 MiB/358.9 MiB (159.5 MiB/s) with 6 file(s) remaining\\rCompleted 225.0 MiB/358.9 MiB (159.6 MiB/s) with 6 file(s) remaining\\rCompleted 225.2 MiB/358.9 MiB (159.5 MiB/s) with 6 file(s) remaining\\rCompleted 225.5 MiB/358.9 MiB (159.5 MiB/s) with 6 file(s) remaining\\rCompleted 225.7 MiB/358.9 MiB (159.6 MiB/s) with 6 file(s) remaining\\rCompleted 226.0 MiB/358.9 MiB (159.5 MiB/s) with 6 file(s) remaining\\rCompleted 226.2 MiB/358.9 MiB (159.6 MiB/s) with 6 file(s) remaining\\rCompleted 226.5 MiB/358.9 MiB (159.7 MiB/s) with 6 file(s) remaining\\rCompleted 226.7 MiB/358.9 MiB (159.8 MiB/s) with 6 file(s) remaining\\rCompleted 227.0 MiB/358.9 MiB (159.8 MiB/s) with 6 file(s) remaining\\rCompleted 227.2 MiB/358.9 MiB (159.9 MiB/s) with 6 file(s) remaining\\rCompleted 227.5 MiB/358.9 MiB (159.6 MiB/s) with 6 file(s) remaining\\rCompleted 227.7 MiB/358.9 MiB (159.8 MiB/s) with 6 file(s) remaining\\rCompleted 228.0 MiB/358.9 MiB (159.7 MiB/s) with 6 file(s) remaining\\rCompleted 228.2 MiB/358.9 MiB (159.9 MiB/s) with 6 file(s) remaining\\rCompleted 228.5 MiB/358.9 MiB (160.0 MiB/s) with 6 file(s) remaining\\rCompleted 228.7 MiB/358.9 MiB (160.1 MiB/s) with 6 file(s) remaining\\rCompleted 229.0 MiB/358.9 MiB (160.0 MiB/s) with 6 file(s) remaining\\rCompleted 229.2 MiB/358.9 MiB (160.1 MiB/s) with 6 file(s) remaining\\rCompleted 229.5 MiB/358.9 MiB (160.1 MiB/s) with 6 file(s) remaining\\rCompleted 229.7 MiB/358.9 MiB (160.0 MiB/s) with 6 file(s) remaining\\rCompleted 230.0 MiB/358.9 MiB (160.1 MiB/s) with 6 file(s) remaining\\rCompleted 230.2 MiB/358.9 MiB (160.2 MiB/s) with 6 file(s) remaining\\rCompleted 230.5 MiB/358.9 MiB (160.4 MiB/s) with 6 file(s) remaining\\rCompleted 230.7 MiB/358.9 MiB (160.2 MiB/s) with 6 file(s) remaining\\rCompleted 231.0 MiB/358.9 MiB (160.3 MiB/s) with 6 file(s) remaining\\rCompleted 231.2 MiB/358.9 MiB (160.0 MiB/s) with 6 file(s) remaining\\rCompleted 231.5 MiB/358.9 MiB (160.1 MiB/s) with 6 file(s) remaining\\rCompleted 231.7 MiB/358.9 MiB (160.2 MiB/s) with 6 file(s) remaining\\rCompleted 232.0 MiB/358.9 MiB (160.4 MiB/s) with 6 file(s) remaining\\rCompleted 232.2 MiB/358.9 MiB (160.2 MiB/s) with 6 file(s) remaining\\rCompleted 232.5 MiB/358.9 MiB (160.2 MiB/s) with 6 file(s) remaining\\rCompleted 232.7 MiB/358.9 MiB (160.3 MiB/s) with 6 file(s) remaining\\rCompleted 233.0 MiB/358.9 MiB (160.4 MiB/s) with 6 file(s) remaining\\rCompleted 233.2 MiB/358.9 MiB (160.2 MiB/s) with 6 file(s) remaining\\rCompleted 233.5 MiB/358.9 MiB (160.3 MiB/s) with 6 file(s) remaining\\rCompleted 233.7 MiB/358.9 MiB (160.4 MiB/s) with 6 file(s) remaining\\rCompleted 234.0 MiB/358.9 MiB (160.4 MiB/s) with 6 file(s) remaining\\rCompleted 234.2 MiB/358.9 MiB (160.5 MiB/s) with 6 file(s) remaining\\rCompleted 234.5 MiB/358.9 MiB (160.6 MiB/s) with 6 file(s) remaining\\rCompleted 234.7 MiB/358.9 MiB (160.6 MiB/s) with 6 file(s) remaining\\rCompleted 235.0 MiB/358.9 MiB (160.3 MiB/s) with 6 file(s) remaining\\rCompleted 235.2 MiB/358.9 MiB (160.3 MiB/s) with 6 file(s) remaining\\rCompleted 235.5 MiB/358.9 MiB (160.4 MiB/s) with 6 file(s) remaining\\rCompleted 235.7 MiB/358.9 MiB (160.5 MiB/s) with 6 file(s) remaining\\rCompleted 236.0 MiB/358.9 MiB (160.6 MiB/s) with 6 file(s) remaining\\rCompleted 236.2 MiB/358.9 MiB (160.5 MiB/s) with 6 file(s) remaining\\rCompleted 236.5 MiB/358.9 MiB (160.5 MiB/s) with 6 file(s) remaining\\rCompleted 236.7 MiB/358.9 MiB (160.5 MiB/s) with 6 file(s) remaining\\rCompleted 237.0 MiB/358.9 MiB (160.7 MiB/s) with 6 file(s) remaining\\rCompleted 237.2 MiB/358.9 MiB (160.7 MiB/s) with 6 file(s) remaining\\rCompleted 237.5 MiB/358.9 MiB (160.7 MiB/s) with 6 file(s) remaining\\rCompleted 237.7 MiB/358.9 MiB (160.7 MiB/s) with 6 file(s) remaining\\rCompleted 238.0 MiB/358.9 MiB (160.7 MiB/s) with 6 file(s) remaining\\rCompleted 238.2 MiB/358.9 MiB (160.8 MiB/s) with 6 file(s) remaining\\rCompleted 238.5 MiB/358.9 MiB (160.9 MiB/s) with 6 file(s) remaining\\rCompleted 238.7 MiB/358.9 MiB (160.8 MiB/s) with 6 file(s) remaining\\rCompleted 239.0 MiB/358.9 MiB (160.9 MiB/s) with 6 file(s) remaining\\rCompleted 239.2 MiB/358.9 MiB (160.9 MiB/s) with 6 file(s) remaining\\rCompleted 239.5 MiB/358.9 MiB (160.8 MiB/s) with 6 file(s) remaining\\rCompleted 239.7 MiB/358.9 MiB (160.9 MiB/s) with 6 file(s) remaining\\rCompleted 240.0 MiB/358.9 MiB (161.1 MiB/s) with 6 file(s) remaining\\rCompleted 240.2 MiB/358.9 MiB (161.1 MiB/s) with 6 file(s) remaining\\rCompleted 240.5 MiB/358.9 MiB (161.1 MiB/s) with 6 file(s) remaining\\rCompleted 240.7 MiB/358.9 MiB (161.1 MiB/s) with 6 file(s) remaining\\rCompleted 241.0 MiB/358.9 MiB (161.0 MiB/s) with 6 file(s) remaining\\rCompleted 241.2 MiB/358.9 MiB (161.1 MiB/s) with 6 file(s) remaining\\rCompleted 241.5 MiB/358.9 MiB (161.2 MiB/s) with 6 file(s) remaining\\rCompleted 241.7 MiB/358.9 MiB (161.2 MiB/s) with 6 file(s) remaining\\rCompleted 242.0 MiB/358.9 MiB (161.2 MiB/s) with 6 file(s) remaining\\rCompleted 242.2 MiB/358.9 MiB (161.2 MiB/s) with 6 file(s) remaining\\rCompleted 242.5 MiB/358.9 MiB (161.4 MiB/s) with 6 file(s) remaining\\rCompleted 242.7 MiB/358.9 MiB (161.3 MiB/s) with 6 file(s) remaining\\rCompleted 243.0 MiB/358.9 MiB (161.3 MiB/s) with 6 file(s) remaining\\rCompleted 243.2 MiB/358.9 MiB (161.4 MiB/s) with 6 file(s) remaining\\rCompleted 243.5 MiB/358.9 MiB (161.4 MiB/s) with 6 file(s) remaining\\rCompleted 243.7 MiB/358.9 MiB (161.4 MiB/s) with 6 file(s) remaining\\rCompleted 244.0 MiB/358.9 MiB (161.4 MiB/s) with 6 file(s) remaining\\rCompleted 244.2 MiB/358.9 MiB (161.5 MiB/s) with 6 file(s) remaining\\rCompleted 244.5 MiB/358.9 MiB (161.6 MiB/s) with 6 file(s) remaining\\rCompleted 244.7 MiB/358.9 MiB (161.5 MiB/s) with 6 file(s) remaining\\rCompleted 245.0 MiB/358.9 MiB (161.6 MiB/s) with 6 file(s) remaining\\rCompleted 245.2 MiB/358.9 MiB (161.4 MiB/s) with 6 file(s) remaining\\rCompleted 245.5 MiB/358.9 MiB (161.6 MiB/s) with 6 file(s) remaining\\rCompleted 245.7 MiB/358.9 MiB (161.7 MiB/s) with 6 file(s) remaining\\rCompleted 246.0 MiB/358.9 MiB (161.7 MiB/s) with 6 file(s) remaining\\rCompleted 246.2 MiB/358.9 MiB (161.8 MiB/s) with 6 file(s) remaining\\rCompleted 246.5 MiB/358.9 MiB (161.8 MiB/s) with 6 file(s) remaining\\rCompleted 246.7 MiB/358.9 MiB (161.7 MiB/s) with 6 file(s) remaining\\rCompleted 247.0 MiB/358.9 MiB (161.8 MiB/s) with 6 file(s) remaining\\rCompleted 247.2 MiB/358.9 MiB (161.9 MiB/s) with 6 file(s) remaining\\rCompleted 247.5 MiB/358.9 MiB (161.8 MiB/s) with 6 file(s) remaining\\rCompleted 247.7 MiB/358.9 MiB (161.9 MiB/s) with 6 file(s) remaining\\rCompleted 248.0 MiB/358.9 MiB (161.8 MiB/s) with 6 file(s) remaining\\rCompleted 248.2 MiB/358.9 MiB (161.8 MiB/s) with 6 file(s) remaining\\rCompleted 248.5 MiB/358.9 MiB (161.9 MiB/s) with 6 file(s) remaining\\rCompleted 248.7 MiB/358.9 MiB (162.0 MiB/s) with 6 file(s) remaining\\rCompleted 249.0 MiB/358.9 MiB (162.1 MiB/s) with 6 file(s) remaining\\rCompleted 249.2 MiB/358.9 MiB (162.0 MiB/s) with 6 file(s) remaining\\rCompleted 249.5 MiB/358.9 MiB (161.7 MiB/s) with 6 file(s) remaining\\rCompleted 249.7 MiB/358.9 MiB (161.8 MiB/s) with 6 file(s) remaining\\rCompleted 250.0 MiB/358.9 MiB (161.9 MiB/s) with 6 file(s) remaining\\rCompleted 250.2 MiB/358.9 MiB (162.1 MiB/s) with 6 file(s) remaining\\rCompleted 250.5 MiB/358.9 MiB (162.2 MiB/s) with 6 file(s) remaining\\rCompleted 250.7 MiB/358.9 MiB (162.2 MiB/s) with 6 file(s) remaining\\rCompleted 251.0 MiB/358.9 MiB (162.0 MiB/s) with 6 file(s) remaining\\rCompleted 251.2 MiB/358.9 MiB (162.1 MiB/s) with 6 file(s) remaining\\rCompleted 251.5 MiB/358.9 MiB (162.0 MiB/s) with 6 file(s) remaining\\rCompleted 251.7 MiB/358.9 MiB (162.2 MiB/s) with 6 file(s) remaining\\rCompleted 252.0 MiB/358.9 MiB (162.3 MiB/s) with 6 file(s) remaining\\rCompleted 252.2 MiB/358.9 MiB (162.3 MiB/s) with 6 file(s) remaining\\rCompleted 252.5 MiB/358.9 MiB (162.1 MiB/s) with 6 file(s) remaining\\rCompleted 252.7 MiB/358.9 MiB (162.2 MiB/s) with 6 file(s) remaining\\rCompleted 253.0 MiB/358.9 MiB (162.2 MiB/s) with 6 file(s) remaining\\rCompleted 253.2 MiB/358.9 MiB (162.3 MiB/s) with 6 file(s) remaining\\rCompleted 253.5 MiB/358.9 MiB (162.1 MiB/s) with 6 file(s) remaining\\rCompleted 253.7 MiB/358.9 MiB (162.1 MiB/s) with 6 file(s) remaining\\rCompleted 254.0 MiB/358.9 MiB (162.2 MiB/s) with 6 file(s) remaining\\rCompleted 254.2 MiB/358.9 MiB (162.2 MiB/s) with 6 file(s) remaining\\rCompleted 254.5 MiB/358.9 MiB (162.3 MiB/s) with 6 file(s) remaining\\rCompleted 254.7 MiB/358.9 MiB (162.2 MiB/s) with 6 file(s) remaining\\rCompleted 255.0 MiB/358.9 MiB (162.3 MiB/s) with 6 file(s) remaining\\rCompleted 255.2 MiB/358.9 MiB (162.4 MiB/s) with 6 file(s) remaining\\rCompleted 255.5 MiB/358.9 MiB (162.3 MiB/s) with 6 file(s) remaining\\rCompleted 255.7 MiB/358.9 MiB (162.4 MiB/s) with 6 file(s) remaining\\rCompleted 256.0 MiB/358.9 MiB (162.4 MiB/s) with 6 file(s) remaining\\rCompleted 256.2 MiB/358.9 MiB (162.5 MiB/s) with 6 file(s) remaining\\rCompleted 256.5 MiB/358.9 MiB (162.5 MiB/s) with 6 file(s) remaining\\rCompleted 256.7 MiB/358.9 MiB (162.6 MiB/s) with 6 file(s) remaining\\rCompleted 257.0 MiB/358.9 MiB (162.5 MiB/s) with 6 file(s) remaining\\rCompleted 257.2 MiB/358.9 MiB (162.6 MiB/s) with 6 file(s) remaining\\rCompleted 257.5 MiB/358.9 MiB (162.5 MiB/s) with 6 file(s) remaining\\rCompleted 257.7 MiB/358.9 MiB (162.6 MiB/s) with 6 file(s) remaining\\rCompleted 258.0 MiB/358.9 MiB (162.6 MiB/s) with 6 file(s) remaining\\rCompleted 258.2 MiB/358.9 MiB (162.6 MiB/s) with 6 file(s) remaining\\rCompleted 258.5 MiB/358.9 MiB (162.8 MiB/s) with 6 file(s) remaining\\rCompleted 258.7 MiB/358.9 MiB (162.4 MiB/s) with 6 file(s) remaining\\rCompleted 259.0 MiB/358.9 MiB (162.6 MiB/s) with 6 file(s) remaining\\rCompleted 259.2 MiB/358.9 MiB (162.5 MiB/s) with 6 file(s) remaining\\rCompleted 259.5 MiB/358.9 MiB (162.6 MiB/s) with 6 file(s) remaining\\rCompleted 259.7 MiB/358.9 MiB (162.6 MiB/s) with 6 file(s) remaining\\rCompleted 260.0 MiB/358.9 MiB (162.6 MiB/s) with 6 file(s) remaining\\rCompleted 260.2 MiB/358.9 MiB (162.7 MiB/s) with 6 file(s) remaining\\rCompleted 260.5 MiB/358.9 MiB (162.8 MiB/s) with 6 file(s) remaining\\rCompleted 260.7 MiB/358.9 MiB (162.7 MiB/s) with 6 file(s) remaining\\rCompleted 261.0 MiB/358.9 MiB (162.7 MiB/s) with 6 file(s) remaining\\rCompleted 261.2 MiB/358.9 MiB (162.7 MiB/s) with 6 file(s) remaining\\rCompleted 261.5 MiB/358.9 MiB (162.8 MiB/s) with 6 file(s) remaining\\rCompleted 261.7 MiB/358.9 MiB (162.8 MiB/s) with 6 file(s) remaining\\rCompleted 262.0 MiB/358.9 MiB (162.8 MiB/s) with 6 file(s) remaining\\rCompleted 262.2 MiB/358.9 MiB (162.7 MiB/s) with 6 file(s) remaining\\rCompleted 262.5 MiB/358.9 MiB (162.7 MiB/s) with 6 file(s) remaining\\rCompleted 262.7 MiB/358.9 MiB (162.7 MiB/s) with 6 file(s) remaining\\rCompleted 263.0 MiB/358.9 MiB (162.8 MiB/s) with 6 file(s) remaining\\rCompleted 263.2 MiB/358.9 MiB (162.9 MiB/s) with 6 file(s) remaining\\rCompleted 263.5 MiB/358.9 MiB (162.9 MiB/s) with 6 file(s) remaining\\rCompleted 263.7 MiB/358.9 MiB (162.9 MiB/s) with 6 file(s) remaining\\rCompleted 264.0 MiB/358.9 MiB (162.9 MiB/s) with 6 file(s) remaining\\rCompleted 264.2 MiB/358.9 MiB (163.0 MiB/s) with 6 file(s) remaining\\rCompleted 264.5 MiB/358.9 MiB (163.1 MiB/s) with 6 file(s) remaining\\rCompleted 264.7 MiB/358.9 MiB (163.2 MiB/s) with 6 file(s) remaining\\rCompleted 265.0 MiB/358.9 MiB (163.1 MiB/s) with 6 file(s) remaining\\rCompleted 265.2 MiB/358.9 MiB (163.2 MiB/s) with 6 file(s) remaining\\rCompleted 265.5 MiB/358.9 MiB (163.2 MiB/s) with 6 file(s) remaining\\rCompleted 265.7 MiB/358.9 MiB (163.3 MiB/s) with 6 file(s) remaining\\rCompleted 266.0 MiB/358.9 MiB (163.2 MiB/s) with 6 file(s) remaining\\rCompleted 266.2 MiB/358.9 MiB (163.3 MiB/s) with 6 file(s) remaining\\rCompleted 266.5 MiB/358.9 MiB (163.3 MiB/s) with 6 file(s) remaining\\rCompleted 266.7 MiB/358.9 MiB (163.3 MiB/s) with 6 file(s) remaining\\rCompleted 267.0 MiB/358.9 MiB (163.4 MiB/s) with 6 file(s) remaining\\rCompleted 267.2 MiB/358.9 MiB (163.4 MiB/s) with 6 file(s) remaining\\rCompleted 267.5 MiB/358.9 MiB (163.4 MiB/s) with 6 file(s) remaining\\rCompleted 267.7 MiB/358.9 MiB (163.5 MiB/s) with 6 file(s) remaining\\rCompleted 268.0 MiB/358.9 MiB (163.4 MiB/s) with 6 file(s) remaining\\rCompleted 268.2 MiB/358.9 MiB (163.5 MiB/s) with 6 file(s) remaining\\rCompleted 268.5 MiB/358.9 MiB (163.6 MiB/s) with 6 file(s) remaining\\rCompleted 268.7 MiB/358.9 MiB (163.5 MiB/s) with 6 file(s) remaining\\rCompleted 269.0 MiB/358.9 MiB (163.5 MiB/s) with 6 file(s) remaining\\rCompleted 269.2 MiB/358.9 MiB (163.6 MiB/s) with 6 file(s) remaining\\rCompleted 269.5 MiB/358.9 MiB (163.6 MiB/s) with 6 file(s) remaining\\rCompleted 269.7 MiB/358.9 MiB (163.6 MiB/s) with 6 file(s) remaining\\rCompleted 270.0 MiB/358.9 MiB (163.7 MiB/s) with 6 file(s) remaining\\rCompleted 270.2 MiB/358.9 MiB (163.7 MiB/s) with 6 file(s) remaining\\rCompleted 270.5 MiB/358.9 MiB (163.8 MiB/s) with 6 file(s) remaining\\rCompleted 270.7 MiB/358.9 MiB (163.8 MiB/s) with 6 file(s) remaining\\rCompleted 271.0 MiB/358.9 MiB (163.8 MiB/s) with 6 file(s) remaining\\rCompleted 271.2 MiB/358.9 MiB (163.9 MiB/s) with 6 file(s) remaining\\rCompleted 271.5 MiB/358.9 MiB (163.9 MiB/s) with 6 file(s) remaining\\rCompleted 271.7 MiB/358.9 MiB (163.9 MiB/s) with 6 file(s) remaining\\rCompleted 272.0 MiB/358.9 MiB (164.0 MiB/s) with 6 file(s) remaining\\rCompleted 272.2 MiB/358.9 MiB (164.0 MiB/s) with 6 file(s) remaining\\rCompleted 272.5 MiB/358.9 MiB (164.1 MiB/s) with 6 file(s) remaining\\rCompleted 272.7 MiB/358.9 MiB (164.2 MiB/s) with 6 file(s) remaining\\rCompleted 273.0 MiB/358.9 MiB (164.1 MiB/s) with 6 file(s) remaining\\rCompleted 273.2 MiB/358.9 MiB (164.2 MiB/s) with 6 file(s) remaining\\rCompleted 273.5 MiB/358.9 MiB (164.3 MiB/s) with 6 file(s) remaining\\rCompleted 273.7 MiB/358.9 MiB (164.2 MiB/s) with 6 file(s) remaining\\rCompleted 274.0 MiB/358.9 MiB (164.3 MiB/s) with 6 file(s) remaining\\rCompleted 274.2 MiB/358.9 MiB (164.2 MiB/s) with 6 file(s) remaining\\rCompleted 274.5 MiB/358.9 MiB (164.1 MiB/s) with 6 file(s) remaining\\rCompleted 274.7 MiB/358.9 MiB (164.2 MiB/s) with 6 file(s) remaining\\rCompleted 275.0 MiB/358.9 MiB (164.3 MiB/s) with 6 file(s) remaining\\rCompleted 275.2 MiB/358.9 MiB (164.2 MiB/s) with 6 file(s) remaining\\rCompleted 275.5 MiB/358.9 MiB (164.3 MiB/s) with 6 file(s) remaining\\rCompleted 275.7 MiB/358.9 MiB (164.3 MiB/s) with 6 file(s) remaining\\rCompleted 276.0 MiB/358.9 MiB (164.4 MiB/s) with 6 file(s) remaining\\rCompleted 276.2 MiB/358.9 MiB (164.3 MiB/s) with 6 file(s) remaining\\rCompleted 276.5 MiB/358.9 MiB (164.4 MiB/s) with 6 file(s) remaining\\rCompleted 276.7 MiB/358.9 MiB (164.4 MiB/s) with 6 file(s) remaining\\rCompleted 277.0 MiB/358.9 MiB (164.5 MiB/s) with 6 file(s) remaining\\rCompleted 277.2 MiB/358.9 MiB (164.5 MiB/s) with 6 file(s) remaining\\rCompleted 277.5 MiB/358.9 MiB (164.6 MiB/s) with 6 file(s) remaining\\rCompleted 277.7 MiB/358.9 MiB (164.6 MiB/s) with 6 file(s) remaining\\rCompleted 278.0 MiB/358.9 MiB (164.7 MiB/s) with 6 file(s) remaining\\rCompleted 278.2 MiB/358.9 MiB (164.8 MiB/s) with 6 file(s) remaining\\rCompleted 278.5 MiB/358.9 MiB (164.8 MiB/s) with 6 file(s) remaining\\rCompleted 278.7 MiB/358.9 MiB (164.9 MiB/s) with 6 file(s) remaining\\rCompleted 279.0 MiB/358.9 MiB (164.9 MiB/s) with 6 file(s) remaining\\rCompleted 279.2 MiB/358.9 MiB (164.9 MiB/s) with 6 file(s) remaining\\rCompleted 279.5 MiB/358.9 MiB (165.1 MiB/s) with 6 file(s) remaining\\rCompleted 279.7 MiB/358.9 MiB (164.8 MiB/s) with 6 file(s) remaining\\rCompleted 280.0 MiB/358.9 MiB (165.0 MiB/s) with 6 file(s) remaining\\rCompleted 280.2 MiB/358.9 MiB (164.9 MiB/s) with 6 file(s) remaining\\rCompleted 280.5 MiB/358.9 MiB (165.0 MiB/s) with 6 file(s) remaining\\rCompleted 280.7 MiB/358.9 MiB (165.1 MiB/s) with 6 file(s) remaining\\rCompleted 281.0 MiB/358.9 MiB (165.0 MiB/s) with 6 file(s) remaining\\rCompleted 281.2 MiB/358.9 MiB (165.1 MiB/s) with 6 file(s) remaining\\rCompleted 281.5 MiB/358.9 MiB (165.2 MiB/s) with 6 file(s) remaining\\rCompleted 281.7 MiB/358.9 MiB (165.1 MiB/s) with 6 file(s) remaining\\rCompleted 282.0 MiB/358.9 MiB (165.2 MiB/s) with 6 file(s) remaining\\rCompleted 282.2 MiB/358.9 MiB (165.3 MiB/s) with 6 file(s) remaining\\rCompleted 282.5 MiB/358.9 MiB (165.2 MiB/s) with 6 file(s) remaining\\rCompleted 282.7 MiB/358.9 MiB (165.3 MiB/s) with 6 file(s) remaining\\rCompleted 283.0 MiB/358.9 MiB (165.3 MiB/s) with 6 file(s) remaining\\rCompleted 283.2 MiB/358.9 MiB (165.1 MiB/s) with 6 file(s) remaining\\rCompleted 283.5 MiB/358.9 MiB (165.1 MiB/s) with 6 file(s) remaining\\rCompleted 283.7 MiB/358.9 MiB (165.1 MiB/s) with 6 file(s) remaining\\rCompleted 284.0 MiB/358.9 MiB (165.2 MiB/s) with 6 file(s) remaining\\rCompleted 284.2 MiB/358.9 MiB (165.3 MiB/s) with 6 file(s) remaining\\rCompleted 284.5 MiB/358.9 MiB (165.4 MiB/s) with 6 file(s) remaining\\rCompleted 284.7 MiB/358.9 MiB (165.4 MiB/s) with 6 file(s) remaining\\rCompleted 285.0 MiB/358.9 MiB (165.5 MiB/s) with 6 file(s) remaining\\rCompleted 285.2 MiB/358.9 MiB (165.5 MiB/s) with 6 file(s) remaining\\rCompleted 285.5 MiB/358.9 MiB (165.6 MiB/s) with 6 file(s) remaining\\rCompleted 285.7 MiB/358.9 MiB (165.5 MiB/s) with 6 file(s) remaining\\rCompleted 286.0 MiB/358.9 MiB (165.5 MiB/s) with 6 file(s) remaining\\rCompleted 286.2 MiB/358.9 MiB (165.4 MiB/s) with 6 file(s) remaining\\rCompleted 286.5 MiB/358.9 MiB (165.2 MiB/s) with 6 file(s) remaining\\rCompleted 286.7 MiB/358.9 MiB (165.4 MiB/s) with 6 file(s) remaining\\rCompleted 287.0 MiB/358.9 MiB (165.4 MiB/s) with 6 file(s) remaining\\rCompleted 287.2 MiB/358.9 MiB (165.5 MiB/s) with 6 file(s) remaining\\rCompleted 287.5 MiB/358.9 MiB (165.5 MiB/s) with 6 file(s) remaining\\rCompleted 287.7 MiB/358.9 MiB (165.6 MiB/s) with 6 file(s) remaining\\rCompleted 288.0 MiB/358.9 MiB (165.7 MiB/s) with 6 file(s) remaining\\rCompleted 288.2 MiB/358.9 MiB (165.7 MiB/s) with 6 file(s) remaining\\rCompleted 288.5 MiB/358.9 MiB (165.8 MiB/s) with 6 file(s) remaining\\rCompleted 288.7 MiB/358.9 MiB (165.9 MiB/s) with 6 file(s) remaining\\rCompleted 289.0 MiB/358.9 MiB (165.9 MiB/s) with 6 file(s) remaining\\rCompleted 289.2 MiB/358.9 MiB (165.9 MiB/s) with 6 file(s) remaining\\rCompleted 289.5 MiB/358.9 MiB (166.0 MiB/s) with 6 file(s) remaining\\rCompleted 289.7 MiB/358.9 MiB (165.9 MiB/s) with 6 file(s) remaining\\rCompleted 290.0 MiB/358.9 MiB (166.0 MiB/s) with 6 file(s) remaining\\rCompleted 290.2 MiB/358.9 MiB (166.1 MiB/s) with 6 file(s) remaining\\rCompleted 290.5 MiB/358.9 MiB (166.1 MiB/s) with 6 file(s) remaining\\rCompleted 290.7 MiB/358.9 MiB (166.2 MiB/s) with 6 file(s) remaining\\rCompleted 291.0 MiB/358.9 MiB (166.3 MiB/s) with 6 file(s) remaining\\rCompleted 291.2 MiB/358.9 MiB (166.3 MiB/s) with 6 file(s) remaining\\rCompleted 291.5 MiB/358.9 MiB (166.4 MiB/s) with 6 file(s) remaining\\rCompleted 291.7 MiB/358.9 MiB (166.5 MiB/s) with 6 file(s) remaining\\rCompleted 292.0 MiB/358.9 MiB (166.5 MiB/s) with 6 file(s) remaining\\rCompleted 292.2 MiB/358.9 MiB (166.6 MiB/s) with 6 file(s) remaining\\rCompleted 292.5 MiB/358.9 MiB (166.6 MiB/s) with 6 file(s) remaining\\rCompleted 292.7 MiB/358.9 MiB (166.7 MiB/s) with 6 file(s) remaining\\rCompleted 293.0 MiB/358.9 MiB (166.7 MiB/s) with 6 file(s) remaining\\rCompleted 293.2 MiB/358.9 MiB (166.8 MiB/s) with 6 file(s) remaining\\rCompleted 293.5 MiB/358.9 MiB (166.8 MiB/s) with 6 file(s) remaining\\rCompleted 293.7 MiB/358.9 MiB (166.9 MiB/s) with 6 file(s) remaining\\rCompleted 294.0 MiB/358.9 MiB (166.9 MiB/s) with 6 file(s) remaining\\rCompleted 294.2 MiB/358.9 MiB (167.0 MiB/s) with 6 file(s) remaining\\rCompleted 294.5 MiB/358.9 MiB (167.0 MiB/s) with 6 file(s) remaining\\rCompleted 294.7 MiB/358.9 MiB (167.1 MiB/s) with 6 file(s) remaining\\rCompleted 295.0 MiB/358.9 MiB (167.2 MiB/s) with 6 file(s) remaining\\rCompleted 295.2 MiB/358.9 MiB (167.2 MiB/s) with 6 file(s) remaining\\rCompleted 295.5 MiB/358.9 MiB (167.3 MiB/s) with 6 file(s) remaining\\rCompleted 295.7 MiB/358.9 MiB (167.1 MiB/s) with 6 file(s) remaining\\rCompleted 296.0 MiB/358.9 MiB (167.2 MiB/s) with 6 file(s) remaining\\rCompleted 296.2 MiB/358.9 MiB (167.2 MiB/s) with 6 file(s) remaining\\rCompleted 296.5 MiB/358.9 MiB (167.2 MiB/s) with 6 file(s) remaining\\rCompleted 296.7 MiB/358.9 MiB (167.2 MiB/s) with 6 file(s) remaining\\rCompleted 297.0 MiB/358.9 MiB (167.3 MiB/s) with 6 file(s) remaining\\rCompleted 297.2 MiB/358.9 MiB (167.2 MiB/s) with 6 file(s) remaining\\rCompleted 297.5 MiB/358.9 MiB (167.2 MiB/s) with 6 file(s) remaining\\rCompleted 297.7 MiB/358.9 MiB (167.3 MiB/s) with 6 file(s) remaining\\rCompleted 298.0 MiB/358.9 MiB (167.3 MiB/s) with 6 file(s) remaining\\rCompleted 298.2 MiB/358.9 MiB (167.3 MiB/s) with 6 file(s) remaining\\rCompleted 298.5 MiB/358.9 MiB (167.4 MiB/s) with 6 file(s) remaining\\rCompleted 298.7 MiB/358.9 MiB (167.3 MiB/s) with 6 file(s) remaining\\rCompleted 299.0 MiB/358.9 MiB (167.5 MiB/s) with 6 file(s) remaining\\rCompleted 299.2 MiB/358.9 MiB (167.4 MiB/s) with 6 file(s) remaining\\rCompleted 299.5 MiB/358.9 MiB (167.4 MiB/s) with 6 file(s) remaining\\rCompleted 299.7 MiB/358.9 MiB (167.4 MiB/s) with 6 file(s) remaining\\rCompleted 300.0 MiB/358.9 MiB (167.4 MiB/s) with 6 file(s) remaining\\rCompleted 300.2 MiB/358.9 MiB (167.3 MiB/s) with 6 file(s) remaining\\rCompleted 300.5 MiB/358.9 MiB (167.2 MiB/s) with 6 file(s) remaining\\rCompleted 300.7 MiB/358.9 MiB (167.2 MiB/s) with 6 file(s) remaining\\rCompleted 301.0 MiB/358.9 MiB (167.1 MiB/s) with 6 file(s) remaining\\rCompleted 301.2 MiB/358.9 MiB (167.1 MiB/s) with 6 file(s) remaining\\rCompleted 301.5 MiB/358.9 MiB (167.1 MiB/s) with 6 file(s) remaining\\rCompleted 301.7 MiB/358.9 MiB (167.2 MiB/s) with 6 file(s) remaining\\rCompleted 302.0 MiB/358.9 MiB (167.2 MiB/s) with 6 file(s) remaining\\rCompleted 302.2 MiB/358.9 MiB (167.3 MiB/s) with 6 file(s) remaining\\rCompleted 302.5 MiB/358.9 MiB (167.2 MiB/s) with 6 file(s) remaining\\rCompleted 302.7 MiB/358.9 MiB (167.3 MiB/s) with 6 file(s) remaining\\rCompleted 303.0 MiB/358.9 MiB (167.4 MiB/s) with 6 file(s) remaining\\rCompleted 303.2 MiB/358.9 MiB (167.4 MiB/s) with 6 file(s) remaining\\rCompleted 303.5 MiB/358.9 MiB (167.4 MiB/s) with 6 file(s) remaining\\rCompleted 303.7 MiB/358.9 MiB (167.5 MiB/s) with 6 file(s) remaining\\rCompleted 304.0 MiB/358.9 MiB (167.5 MiB/s) with 6 file(s) remaining\\rCompleted 304.2 MiB/358.9 MiB (167.5 MiB/s) with 6 file(s) remaining\\rCompleted 304.5 MiB/358.9 MiB (167.5 MiB/s) with 6 file(s) remaining\\rCompleted 304.7 MiB/358.9 MiB (167.6 MiB/s) with 6 file(s) remaining\\rCompleted 305.0 MiB/358.9 MiB (167.6 MiB/s) with 6 file(s) remaining\\rCompleted 305.2 MiB/358.9 MiB (167.7 MiB/s) with 6 file(s) remaining\\rCompleted 305.5 MiB/358.9 MiB (167.6 MiB/s) with 6 file(s) remaining\\rCompleted 305.6 MiB/358.9 MiB (167.6 MiB/s) with 6 file(s) remaining\\rCompleted 305.9 MiB/358.9 MiB (167.6 MiB/s) with 6 file(s) remaining\\rCompleted 306.1 MiB/358.9 MiB (167.7 MiB/s) with 6 file(s) remaining\\rCompleted 306.4 MiB/358.9 MiB (167.6 MiB/s) with 6 file(s) remaining\\rCompleted 306.6 MiB/358.9 MiB (167.7 MiB/s) with 6 file(s) remaining\\rCompleted 306.9 MiB/358.9 MiB (167.8 MiB/s) with 6 file(s) remaining\\rCompleted 307.1 MiB/358.9 MiB (167.7 MiB/s) with 6 file(s) remaining\\rCompleted 307.4 MiB/358.9 MiB (167.8 MiB/s) with 6 file(s) remaining\\rCompleted 307.6 MiB/358.9 MiB (167.8 MiB/s) with 6 file(s) remaining\\rCompleted 307.9 MiB/358.9 MiB (167.8 MiB/s) with 6 file(s) remaining\\rCompleted 308.1 MiB/358.9 MiB (167.8 MiB/s) with 6 file(s) remaining\\rCompleted 308.4 MiB/358.9 MiB (167.9 MiB/s) with 6 file(s) remaining\\rCompleted 308.6 MiB/358.9 MiB (167.9 MiB/s) with 6 file(s) remaining\\rCompleted 308.9 MiB/358.9 MiB (168.0 MiB/s) with 6 file(s) remaining\\rCompleted 309.1 MiB/358.9 MiB (168.0 MiB/s) with 6 file(s) remaining\\rCompleted 309.4 MiB/358.9 MiB (168.1 MiB/s) with 6 file(s) remaining\\rCompleted 309.6 MiB/358.9 MiB (168.1 MiB/s) with 6 file(s) remaining\\rCompleted 309.9 MiB/358.9 MiB (168.2 MiB/s) with 6 file(s) remaining\\rCompleted 310.1 MiB/358.9 MiB (168.1 MiB/s) with 6 file(s) remaining\\rCompleted 310.4 MiB/358.9 MiB (168.2 MiB/s) with 6 file(s) remaining\\rCompleted 310.6 MiB/358.9 MiB (168.2 MiB/s) with 6 file(s) remaining\\rCompleted 310.9 MiB/358.9 MiB (168.3 MiB/s) with 6 file(s) remaining\\rCompleted 311.1 MiB/358.9 MiB (168.3 MiB/s) with 6 file(s) remaining\\rCompleted 311.4 MiB/358.9 MiB (168.4 MiB/s) with 6 file(s) remaining\\rCompleted 311.6 MiB/358.9 MiB (168.5 MiB/s) with 6 file(s) remaining\\rCompleted 311.9 MiB/358.9 MiB (168.5 MiB/s) with 6 file(s) remaining\\rCompleted 312.1 MiB/358.9 MiB (168.5 MiB/s) with 6 file(s) remaining\\rCompleted 312.4 MiB/358.9 MiB (168.7 MiB/s) with 6 file(s) remaining\\rCompleted 312.6 MiB/358.9 MiB (168.6 MiB/s) with 6 file(s) remaining\\rCompleted 312.9 MiB/358.9 MiB (168.8 MiB/s) with 6 file(s) remaining\\rCompleted 313.1 MiB/358.9 MiB (168.8 MiB/s) with 6 file(s) remaining\\rCompleted 313.4 MiB/358.9 MiB (168.9 MiB/s) with 6 file(s) remaining\\rCompleted 313.6 MiB/358.9 MiB (168.9 MiB/s) with 6 file(s) remaining\\rCompleted 313.9 MiB/358.9 MiB (169.0 MiB/s) with 6 file(s) remaining\\rCompleted 314.1 MiB/358.9 MiB (169.0 MiB/s) with 6 file(s) remaining\\rCompleted 314.4 MiB/358.9 MiB (169.0 MiB/s) with 6 file(s) remaining\\rCompleted 314.6 MiB/358.9 MiB (169.1 MiB/s) with 6 file(s) remaining\\rCompleted 314.9 MiB/358.9 MiB (169.0 MiB/s) with 6 file(s) remaining\\rCompleted 315.1 MiB/358.9 MiB (169.1 MiB/s) with 6 file(s) remaining\\rCompleted 315.4 MiB/358.9 MiB (169.1 MiB/s) with 6 file(s) remaining\\rCompleted 315.6 MiB/358.9 MiB (169.0 MiB/s) with 6 file(s) remaining\\rCompleted 315.9 MiB/358.9 MiB (169.0 MiB/s) with 6 file(s) remaining\\rCompleted 316.1 MiB/358.9 MiB (169.1 MiB/s) with 6 file(s) remaining\\rCompleted 316.4 MiB/358.9 MiB (169.2 MiB/s) with 6 file(s) remaining\\rCompleted 316.6 MiB/358.9 MiB (169.1 MiB/s) with 6 file(s) remaining\\rCompleted 316.9 MiB/358.9 MiB (169.2 MiB/s) with 6 file(s) remaining\\rCompleted 317.1 MiB/358.9 MiB (169.2 MiB/s) with 6 file(s) remaining\\rCompleted 317.4 MiB/358.9 MiB (169.2 MiB/s) with 6 file(s) remaining\\rCompleted 317.6 MiB/358.9 MiB (169.3 MiB/s) with 6 file(s) remaining\\rCompleted 317.9 MiB/358.9 MiB (169.1 MiB/s) with 6 file(s) remaining\\rCompleted 318.1 MiB/358.9 MiB (169.2 MiB/s) with 6 file(s) remaining\\rCompleted 318.4 MiB/358.9 MiB (169.2 MiB/s) with 6 file(s) remaining\\rCompleted 318.6 MiB/358.9 MiB (169.2 MiB/s) with 6 file(s) remaining\\rCompleted 318.9 MiB/358.9 MiB (169.2 MiB/s) with 6 file(s) remaining\\rCompleted 319.1 MiB/358.9 MiB (169.3 MiB/s) with 6 file(s) remaining\\rCompleted 319.4 MiB/358.9 MiB (169.1 MiB/s) with 6 file(s) remaining\\rCompleted 319.6 MiB/358.9 MiB (169.2 MiB/s) with 6 file(s) remaining\\rCompleted 319.9 MiB/358.9 MiB (169.2 MiB/s) with 6 file(s) remaining\\rCompleted 320.1 MiB/358.9 MiB (169.3 MiB/s) with 6 file(s) remaining\\rCompleted 320.4 MiB/358.9 MiB (169.3 MiB/s) with 6 file(s) remaining\\rCompleted 320.6 MiB/358.9 MiB (169.4 MiB/s) with 6 file(s) remaining\\rCompleted 320.9 MiB/358.9 MiB (169.5 MiB/s) with 6 file(s) remaining\\rCompleted 321.1 MiB/358.9 MiB (169.6 MiB/s) with 6 file(s) remaining\\rCompleted 321.4 MiB/358.9 MiB (169.6 MiB/s) with 6 file(s) remaining\\rCompleted 321.6 MiB/358.9 MiB (169.6 MiB/s) with 6 file(s) remaining\\rCompleted 321.9 MiB/358.9 MiB (169.7 MiB/s) with 6 file(s) remaining\\rCompleted 322.1 MiB/358.9 MiB (169.6 MiB/s) with 6 file(s) remaining\\rCompleted 322.4 MiB/358.9 MiB (169.7 MiB/s) with 6 file(s) remaining\\rCompleted 322.6 MiB/358.9 MiB (169.5 MiB/s) with 6 file(s) remaining\\rCompleted 322.9 MiB/358.9 MiB (169.5 MiB/s) with 6 file(s) remaining\\rCompleted 323.1 MiB/358.9 MiB (169.5 MiB/s) with 6 file(s) remaining\\rCompleted 323.4 MiB/358.9 MiB (169.6 MiB/s) with 6 file(s) remaining\\rCompleted 323.6 MiB/358.9 MiB (169.6 MiB/s) with 6 file(s) remaining\\rCompleted 323.9 MiB/358.9 MiB (169.5 MiB/s) with 6 file(s) remaining\\rCompleted 324.1 MiB/358.9 MiB (169.6 MiB/s) with 6 file(s) remaining\\rCompleted 324.4 MiB/358.9 MiB (169.4 MiB/s) with 6 file(s) remaining\\rCompleted 324.6 MiB/358.9 MiB (169.5 MiB/s) with 6 file(s) remaining\\rCompleted 324.9 MiB/358.9 MiB (169.5 MiB/s) with 6 file(s) remaining\\rCompleted 325.1 MiB/358.9 MiB (169.5 MiB/s) with 6 file(s) remaining\\rCompleted 325.4 MiB/358.9 MiB (169.6 MiB/s) with 6 file(s) remaining\\rCompleted 325.6 MiB/358.9 MiB (169.6 MiB/s) with 6 file(s) remaining\\rCompleted 325.9 MiB/358.9 MiB (169.6 MiB/s) with 6 file(s) remaining\\rCompleted 326.1 MiB/358.9 MiB (169.7 MiB/s) with 6 file(s) remaining\\rCompleted 326.4 MiB/358.9 MiB (169.7 MiB/s) with 6 file(s) remaining\\rCompleted 326.6 MiB/358.9 MiB (169.7 MiB/s) with 6 file(s) remaining\\rCompleted 326.9 MiB/358.9 MiB (169.7 MiB/s) with 6 file(s) remaining\\rCompleted 327.1 MiB/358.9 MiB (169.8 MiB/s) with 6 file(s) remaining\\rCompleted 327.4 MiB/358.9 MiB (169.9 MiB/s) with 6 file(s) remaining\\rCompleted 327.6 MiB/358.9 MiB (169.8 MiB/s) with 6 file(s) remaining\\rCompleted 327.9 MiB/358.9 MiB (169.9 MiB/s) with 6 file(s) remaining\\rCompleted 328.1 MiB/358.9 MiB (170.0 MiB/s) with 6 file(s) remaining\\rCompleted 328.4 MiB/358.9 MiB (169.9 MiB/s) with 6 file(s) remaining\\rCompleted 328.6 MiB/358.9 MiB (170.0 MiB/s) with 6 file(s) remaining\\rCompleted 328.9 MiB/358.9 MiB (170.1 MiB/s) with 6 file(s) remaining\\rCompleted 329.1 MiB/358.9 MiB (170.0 MiB/s) with 6 file(s) remaining\\rCompleted 329.4 MiB/358.9 MiB (170.0 MiB/s) with 6 file(s) remaining\\rCompleted 329.6 MiB/358.9 MiB (170.2 MiB/s) with 6 file(s) remaining\\rCompleted 329.9 MiB/358.9 MiB (170.2 MiB/s) with 6 file(s) remaining\\rCompleted 330.1 MiB/358.9 MiB (170.2 MiB/s) with 6 file(s) remaining\\rCompleted 330.4 MiB/358.9 MiB (170.2 MiB/s) with 6 file(s) remaining\\rCompleted 330.6 MiB/358.9 MiB (170.3 MiB/s) with 6 file(s) remaining\\rCompleted 330.9 MiB/358.9 MiB (170.3 MiB/s) with 6 file(s) remaining\\rCompleted 331.1 MiB/358.9 MiB (170.4 MiB/s) with 6 file(s) remaining\\rCompleted 331.4 MiB/358.9 MiB (170.3 MiB/s) with 6 file(s) remaining\\rCompleted 331.6 MiB/358.9 MiB (170.4 MiB/s) with 6 file(s) remaining\\rCompleted 331.9 MiB/358.9 MiB (170.5 MiB/s) with 6 file(s) remaining\\rCompleted 332.1 MiB/358.9 MiB (170.4 MiB/s) with 6 file(s) remaining\\rCompleted 332.4 MiB/358.9 MiB (170.5 MiB/s) with 6 file(s) remaining\\rCompleted 332.6 MiB/358.9 MiB (170.6 MiB/s) with 6 file(s) remaining\\rCompleted 332.9 MiB/358.9 MiB (170.6 MiB/s) with 6 file(s) remaining\\rCompleted 333.1 MiB/358.9 MiB (170.5 MiB/s) with 6 file(s) remaining\\rCompleted 333.4 MiB/358.9 MiB (170.6 MiB/s) with 6 file(s) remaining\\rCompleted 333.6 MiB/358.9 MiB (170.7 MiB/s) with 6 file(s) remaining\\rCompleted 333.9 MiB/358.9 MiB (170.6 MiB/s) with 6 file(s) remaining\\rCompleted 334.1 MiB/358.9 MiB (170.7 MiB/s) with 6 file(s) remaining\\rCompleted 334.4 MiB/358.9 MiB (170.8 MiB/s) with 6 file(s) remaining\\rCompleted 334.6 MiB/358.9 MiB (170.7 MiB/s) with 6 file(s) remaining\\rCompleted 334.9 MiB/358.9 MiB (170.8 MiB/s) with 6 file(s) remaining\\rCompleted 335.1 MiB/358.9 MiB (170.9 MiB/s) with 6 file(s) remaining\\rCompleted 335.4 MiB/358.9 MiB (170.9 MiB/s) with 6 file(s) remaining\\rCompleted 335.6 MiB/358.9 MiB (171.0 MiB/s) with 6 file(s) remaining\\rCompleted 335.9 MiB/358.9 MiB (171.0 MiB/s) with 6 file(s) remaining\\rCompleted 336.1 MiB/358.9 MiB (171.1 MiB/s) with 6 file(s) remaining\\rCompleted 336.4 MiB/358.9 MiB (171.1 MiB/s) with 6 file(s) remaining\\rCompleted 336.6 MiB/358.9 MiB (171.2 MiB/s) with 6 file(s) remaining\\rCompleted 336.9 MiB/358.9 MiB (171.2 MiB/s) with 6 file(s) remaining\\rCompleted 337.1 MiB/358.9 MiB (171.3 MiB/s) with 6 file(s) remaining\\rCompleted 337.4 MiB/358.9 MiB (171.3 MiB/s) with 6 file(s) remaining\\rCompleted 337.6 MiB/358.9 MiB (171.2 MiB/s) with 6 file(s) remaining\\rCompleted 337.9 MiB/358.9 MiB (171.3 MiB/s) with 6 file(s) remaining\\rCompleted 338.1 MiB/358.9 MiB (171.2 MiB/s) with 6 file(s) remaining\\rCompleted 338.4 MiB/358.9 MiB (171.3 MiB/s) with 6 file(s) remaining\\rCompleted 338.6 MiB/358.9 MiB (171.3 MiB/s) with 6 file(s) remaining\\rCompleted 338.9 MiB/358.9 MiB (171.3 MiB/s) with 6 file(s) remaining\\rCompleted 339.1 MiB/358.9 MiB (171.2 MiB/s) with 6 file(s) remaining\\rCompleted 339.4 MiB/358.9 MiB (171.3 MiB/s) with 6 file(s) remaining\\rCompleted 339.6 MiB/358.9 MiB (171.0 MiB/s) with 6 file(s) remaining\\rCompleted 339.9 MiB/358.9 MiB (171.0 MiB/s) with 6 file(s) remaining\\rCompleted 340.1 MiB/358.9 MiB (171.0 MiB/s) with 6 file(s) remaining\\rCompleted 340.4 MiB/358.9 MiB (171.1 MiB/s) with 6 file(s) remaining\\rCompleted 340.6 MiB/358.9 MiB (171.1 MiB/s) with 6 file(s) remaining\\rCompleted 340.9 MiB/358.9 MiB (171.2 MiB/s) with 6 file(s) remaining\\rCompleted 341.1 MiB/358.9 MiB (171.2 MiB/s) with 6 file(s) remaining\\rCompleted 341.4 MiB/358.9 MiB (171.0 MiB/s) with 6 file(s) remaining\\rCompleted 341.6 MiB/358.9 MiB (171.1 MiB/s) with 6 file(s) remaining\\rCompleted 341.9 MiB/358.9 MiB (171.1 MiB/s) with 6 file(s) remaining\\rCompleted 342.1 MiB/358.9 MiB (171.1 MiB/s) with 6 file(s) remaining\\rCompleted 342.4 MiB/358.9 MiB (171.2 MiB/s) with 6 file(s) remaining\\rCompleted 342.6 MiB/358.9 MiB (171.2 MiB/s) with 6 file(s) remaining\\rCompleted 342.9 MiB/358.9 MiB (171.2 MiB/s) with 6 file(s) remaining\\rCompleted 343.1 MiB/358.9 MiB (171.3 MiB/s) with 6 file(s) remaining\\rCompleted 343.4 MiB/358.9 MiB (171.2 MiB/s) with 6 file(s) remaining\\rCompleted 343.6 MiB/358.9 MiB (171.2 MiB/s) with 6 file(s) remaining\\rCompleted 343.9 MiB/358.9 MiB (171.3 MiB/s) with 6 file(s) remaining\\rCompleted 344.1 MiB/358.9 MiB (171.2 MiB/s) with 6 file(s) remaining\\rCompleted 344.4 MiB/358.9 MiB (171.2 MiB/s) with 6 file(s) remaining\\rCompleted 344.6 MiB/358.9 MiB (171.2 MiB/s) with 6 file(s) remaining\\rCompleted 344.9 MiB/358.9 MiB (171.0 MiB/s) with 6 file(s) remaining\\rCompleted 345.1 MiB/358.9 MiB (171.0 MiB/s) with 6 file(s) remaining\\rCompleted 345.4 MiB/358.9 MiB (171.1 MiB/s) with 6 file(s) remaining\\rCompleted 345.6 MiB/358.9 MiB (171.2 MiB/s) with 6 file(s) remaining\\rCompleted 345.9 MiB/358.9 MiB (171.1 MiB/s) with 6 file(s) remaining\\rCompleted 346.1 MiB/358.9 MiB (171.1 MiB/s) with 6 file(s) remaining\\rCompleted 346.4 MiB/358.9 MiB (171.1 MiB/s) with 6 file(s) remaining\\rCompleted 346.6 MiB/358.9 MiB (171.2 MiB/s) with 6 file(s) remaining\\rCompleted 346.9 MiB/358.9 MiB (171.2 MiB/s) with 6 file(s) remaining\\rCompleted 347.1 MiB/358.9 MiB (171.2 MiB/s) with 6 file(s) remaining\\rCompleted 347.4 MiB/358.9 MiB (171.2 MiB/s) with 6 file(s) remaining\\rCompleted 347.6 MiB/358.9 MiB (171.2 MiB/s) with 6 file(s) remaining\\rCompleted 347.9 MiB/358.9 MiB (171.3 MiB/s) with 6 file(s) remaining\\rCompleted 348.1 MiB/358.9 MiB (171.4 MiB/s) with 6 file(s) remaining\\rCompleted 348.4 MiB/358.9 MiB (171.4 MiB/s) with 6 file(s) remaining\\rCompleted 348.6 MiB/358.9 MiB (171.3 MiB/s) with 6 file(s) remaining\\rCompleted 348.9 MiB/358.9 MiB (171.4 MiB/s) with 6 file(s) remaining\\rCompleted 349.1 MiB/358.9 MiB (171.4 MiB/s) with 6 file(s) remaining\\rCompleted 349.4 MiB/358.9 MiB (171.5 MiB/s) with 6 file(s) remaining\\rCompleted 349.6 MiB/358.9 MiB (171.5 MiB/s) with 6 file(s) remaining\\rCompleted 349.9 MiB/358.9 MiB (171.5 MiB/s) with 6 file(s) remaining\\rCompleted 350.1 MiB/358.9 MiB (171.6 MiB/s) with 6 file(s) remaining\\rCompleted 350.4 MiB/358.9 MiB (171.6 MiB/s) with 6 file(s) remaining\\rCompleted 350.6 MiB/358.9 MiB (171.6 MiB/s) with 6 file(s) remaining\\rCompleted 350.9 MiB/358.9 MiB (171.6 MiB/s) with 6 file(s) remaining\\rCompleted 351.1 MiB/358.9 MiB (171.7 MiB/s) with 6 file(s) remaining\\rCompleted 351.4 MiB/358.9 MiB (171.6 MiB/s) with 6 file(s) remaining\\rCompleted 351.6 MiB/358.9 MiB (171.7 MiB/s) with 6 file(s) remaining\\rCompleted 351.9 MiB/358.9 MiB (171.8 MiB/s) with 6 file(s) remaining\\rCompleted 352.1 MiB/358.9 MiB (171.9 MiB/s) with 6 file(s) remaining\\rCompleted 352.4 MiB/358.9 MiB (171.7 MiB/s) with 6 file(s) remaining\\rCompleted 352.6 MiB/358.9 MiB (171.7 MiB/s) with 6 file(s) remaining\\rCompleted 352.9 MiB/358.9 MiB (171.8 MiB/s) with 6 file(s) remaining\\rCompleted 353.1 MiB/358.9 MiB (171.9 MiB/s) with 6 file(s) remaining\\rCompleted 353.4 MiB/358.9 MiB (171.7 MiB/s) with 6 file(s) remaining\\rCompleted 353.6 MiB/358.9 MiB (171.8 MiB/s) with 6 file(s) remaining\\rCompleted 353.9 MiB/358.9 MiB (171.9 MiB/s) with 6 file(s) remaining\\rCompleted 354.1 MiB/358.9 MiB (172.0 MiB/s) with 6 file(s) remaining\\rCompleted 354.4 MiB/358.9 MiB (171.8 MiB/s) with 6 file(s) remaining\\rCompleted 354.6 MiB/358.9 MiB (171.9 MiB/s) with 6 file(s) remaining\\rCompleted 354.9 MiB/358.9 MiB (172.0 MiB/s) with 6 file(s) remaining\\rCompleted 355.1 MiB/358.9 MiB (172.0 MiB/s) with 6 file(s) remaining\\rCompleted 355.4 MiB/358.9 MiB (172.0 MiB/s) with 6 file(s) remaining\\rCompleted 355.6 MiB/358.9 MiB (172.0 MiB/s) with 6 file(s) remaining\\rCompleted 355.9 MiB/358.9 MiB (172.0 MiB/s) with 6 file(s) remaining\\rCompleted 356.1 MiB/358.9 MiB (172.1 MiB/s) with 6 file(s) remaining\\rCompleted 356.4 MiB/358.9 MiB (172.1 MiB/s) with 6 file(s) remaining\\rCompleted 356.6 MiB/358.9 MiB (172.1 MiB/s) with 6 file(s) remaining\\rCompleted 356.9 MiB/358.9 MiB (172.2 MiB/s) with 6 file(s) remaining\\rCompleted 357.1 MiB/358.9 MiB (172.1 MiB/s) with 6 file(s) remaining\\rCompleted 357.4 MiB/358.9 MiB (172.2 MiB/s) with 6 file(s) remaining\\rCompleted 357.6 MiB/358.9 MiB (172.2 MiB/s) with 6 file(s) remaining\\rCompleted 357.9 MiB/358.9 MiB (172.2 MiB/s) with 6 file(s) remaining\\rCompleted 358.1 MiB/358.9 MiB (172.2 MiB/s) with 6 file(s) remaining\\rCompleted 358.4 MiB/358.9 MiB (172.3 MiB/s) with 6 file(s) remaining\\rCompleted 358.5 MiB/358.9 MiB (169.8 MiB/s) with 6 file(s) remaining\\rCompleted 358.6 MiB/358.9 MiB (168.8 MiB/s) with 6 file(s) remaining\\rCompleted 358.7 MiB/358.9 MiB (168.4 MiB/s) with 6 file(s) remaining\\rCompleted 358.9 MiB/358.9 MiB (167.6 MiB/s) with 6 file(s) remaining\\rupload: validation/val_part7.pbr to s3://e15-nlp-amazon-review-polarity/ntm/amazon_review/val/val_part7.pbr\\nCompleted 358.9 MiB/358.9 MiB (167.6 MiB/s) with 5 file(s) remaining\\rupload: validation/val_part6.pbr to s3://e15-nlp-amazon-review-polarity/ntm/amazon_review/val/val_part6.pbr\\nCompleted 358.9 MiB/358.9 MiB (167.6 MiB/s) with 4 file(s) remaining\\rupload: validation/val_part8.pbr to s3://e15-nlp-amazon-review-polarity/ntm/amazon_review/val/val_part8.pbr\\nCompleted 358.9 MiB/358.9 MiB (167.6 MiB/s) with 3 file(s) remaining\\rupload: validation/val_part9.pbr to s3://e15-nlp-amazon-review-polarity/ntm/amazon_review/val/val_part9.pbr\\nCompleted 358.9 MiB/358.9 MiB (167.6 MiB/s) with 2 file(s) remaining\\rupload: validation/val_part5.pbr to s3://e15-nlp-amazon-review-polarity/ntm/amazon_review/val/val_part5.pbr\\nCompleted 358.9 MiB/358.9 MiB (167.6 MiB/s) with 1 file(s) remaining\\rupload: validation/val_part0.pbr to s3://e15-nlp-amazon-review-polarity/ntm/amazon_review/val/val_part0.pbr\\n',\n",
       " None)"
      ]
     },
     "execution_count": 49,
     "metadata": {},
     "output_type": "execute_result"
    }
   ],
   "source": [
    "cmd_val = 'aws s3 cp ' + val_data_dir + ' ' + s3_val_data + ' --recursive' \n",
    "p=subprocess.Popen(cmd_val, shell=True,stdout=subprocess.PIPE)\n",
    "p.communicate()"
   ]
  },
  {
   "cell_type": "code",
   "execution_count": 50,
   "metadata": {},
   "outputs": [
    {
     "data": {
      "text/plain": [
       "(b'Completed 256.0 KiB/82.0 MiB (2.1 MiB/s) with 1 file(s) remaining\\rCompleted 512.0 KiB/82.0 MiB (4.1 MiB/s) with 1 file(s) remaining\\rCompleted 768.0 KiB/82.0 MiB (6.1 MiB/s) with 1 file(s) remaining\\rCompleted 1.0 MiB/82.0 MiB (7.9 MiB/s) with 1 file(s) remaining  \\rCompleted 1.2 MiB/82.0 MiB (9.9 MiB/s) with 1 file(s) remaining  \\rCompleted 1.5 MiB/82.0 MiB (11.6 MiB/s) with 1 file(s) remaining \\rCompleted 1.8 MiB/82.0 MiB (13.5 MiB/s) with 1 file(s) remaining \\rCompleted 2.0 MiB/82.0 MiB (15.4 MiB/s) with 1 file(s) remaining \\rCompleted 2.2 MiB/82.0 MiB (16.7 MiB/s) with 1 file(s) remaining \\rCompleted 2.5 MiB/82.0 MiB (18.2 MiB/s) with 1 file(s) remaining \\rCompleted 2.8 MiB/82.0 MiB (19.7 MiB/s) with 1 file(s) remaining \\rCompleted 3.0 MiB/82.0 MiB (21.4 MiB/s) with 1 file(s) remaining \\rCompleted 3.2 MiB/82.0 MiB (22.6 MiB/s) with 1 file(s) remaining \\rCompleted 3.5 MiB/82.0 MiB (24.2 MiB/s) with 1 file(s) remaining \\rCompleted 3.8 MiB/82.0 MiB (25.6 MiB/s) with 1 file(s) remaining \\rCompleted 4.0 MiB/82.0 MiB (27.2 MiB/s) with 1 file(s) remaining \\rCompleted 4.2 MiB/82.0 MiB (28.9 MiB/s) with 1 file(s) remaining \\rCompleted 4.5 MiB/82.0 MiB (30.5 MiB/s) with 1 file(s) remaining \\rCompleted 4.8 MiB/82.0 MiB (31.5 MiB/s) with 1 file(s) remaining \\rCompleted 5.0 MiB/82.0 MiB (33.0 MiB/s) with 1 file(s) remaining \\rCompleted 5.2 MiB/82.0 MiB (33.7 MiB/s) with 1 file(s) remaining \\rCompleted 5.5 MiB/82.0 MiB (35.2 MiB/s) with 1 file(s) remaining \\rCompleted 5.8 MiB/82.0 MiB (36.5 MiB/s) with 1 file(s) remaining \\rCompleted 6.0 MiB/82.0 MiB (37.8 MiB/s) with 1 file(s) remaining \\rCompleted 6.2 MiB/82.0 MiB (39.2 MiB/s) with 1 file(s) remaining \\rCompleted 6.5 MiB/82.0 MiB (40.6 MiB/s) with 1 file(s) remaining \\rCompleted 6.8 MiB/82.0 MiB (41.8 MiB/s) with 1 file(s) remaining \\rCompleted 7.0 MiB/82.0 MiB (43.2 MiB/s) with 1 file(s) remaining \\rCompleted 7.2 MiB/82.0 MiB (44.4 MiB/s) with 1 file(s) remaining \\rCompleted 7.5 MiB/82.0 MiB (44.9 MiB/s) with 1 file(s) remaining \\rCompleted 7.8 MiB/82.0 MiB (45.8 MiB/s) with 1 file(s) remaining \\rCompleted 8.0 MiB/82.0 MiB (46.8 MiB/s) with 1 file(s) remaining \\rCompleted 8.2 MiB/82.0 MiB (48.2 MiB/s) with 1 file(s) remaining \\rCompleted 8.5 MiB/82.0 MiB (49.7 MiB/s) with 1 file(s) remaining \\rCompleted 8.8 MiB/82.0 MiB (50.9 MiB/s) with 1 file(s) remaining \\rCompleted 9.0 MiB/82.0 MiB (52.1 MiB/s) with 1 file(s) remaining \\rCompleted 9.2 MiB/82.0 MiB (53.4 MiB/s) with 1 file(s) remaining \\rCompleted 9.5 MiB/82.0 MiB (54.2 MiB/s) with 1 file(s) remaining \\rCompleted 9.8 MiB/82.0 MiB (54.4 MiB/s) with 1 file(s) remaining \\rCompleted 10.0 MiB/82.0 MiB (55.1 MiB/s) with 1 file(s) remaining\\rCompleted 10.2 MiB/82.0 MiB (55.8 MiB/s) with 1 file(s) remaining\\rCompleted 10.5 MiB/82.0 MiB (57.1 MiB/s) with 1 file(s) remaining\\rCompleted 10.8 MiB/82.0 MiB (58.0 MiB/s) with 1 file(s) remaining\\rCompleted 11.0 MiB/82.0 MiB (59.2 MiB/s) with 1 file(s) remaining\\rCompleted 11.2 MiB/82.0 MiB (60.3 MiB/s) with 1 file(s) remaining\\rCompleted 11.5 MiB/82.0 MiB (61.3 MiB/s) with 1 file(s) remaining\\rCompleted 11.8 MiB/82.0 MiB (62.4 MiB/s) with 1 file(s) remaining\\rCompleted 12.0 MiB/82.0 MiB (63.2 MiB/s) with 1 file(s) remaining\\rCompleted 12.2 MiB/82.0 MiB (63.2 MiB/s) with 1 file(s) remaining\\rCompleted 12.5 MiB/82.0 MiB (64.0 MiB/s) with 1 file(s) remaining\\rCompleted 12.8 MiB/82.0 MiB (65.2 MiB/s) with 1 file(s) remaining\\rCompleted 13.0 MiB/82.0 MiB (66.2 MiB/s) with 1 file(s) remaining\\rCompleted 13.2 MiB/82.0 MiB (67.5 MiB/s) with 1 file(s) remaining\\rCompleted 13.5 MiB/82.0 MiB (68.2 MiB/s) with 1 file(s) remaining\\rCompleted 13.8 MiB/82.0 MiB (69.2 MiB/s) with 1 file(s) remaining\\rCompleted 14.0 MiB/82.0 MiB (70.5 MiB/s) with 1 file(s) remaining\\rCompleted 14.2 MiB/82.0 MiB (70.4 MiB/s) with 1 file(s) remaining\\rCompleted 14.5 MiB/82.0 MiB (71.3 MiB/s) with 1 file(s) remaining\\rCompleted 14.8 MiB/82.0 MiB (71.8 MiB/s) with 1 file(s) remaining\\rCompleted 15.0 MiB/82.0 MiB (72.7 MiB/s) with 1 file(s) remaining\\rCompleted 15.2 MiB/82.0 MiB (73.5 MiB/s) with 1 file(s) remaining\\rCompleted 15.5 MiB/82.0 MiB (74.1 MiB/s) with 1 file(s) remaining\\rCompleted 15.8 MiB/82.0 MiB (74.9 MiB/s) with 1 file(s) remaining\\rCompleted 16.0 MiB/82.0 MiB (76.0 MiB/s) with 1 file(s) remaining\\rCompleted 16.2 MiB/82.0 MiB (76.8 MiB/s) with 1 file(s) remaining\\rCompleted 16.5 MiB/82.0 MiB (76.1 MiB/s) with 1 file(s) remaining\\rCompleted 16.8 MiB/82.0 MiB (77.0 MiB/s) with 1 file(s) remaining\\rCompleted 17.0 MiB/82.0 MiB (78.0 MiB/s) with 1 file(s) remaining\\rCompleted 17.2 MiB/82.0 MiB (79.0 MiB/s) with 1 file(s) remaining\\rCompleted 17.5 MiB/82.0 MiB (80.0 MiB/s) with 1 file(s) remaining\\rCompleted 17.8 MiB/82.0 MiB (80.6 MiB/s) with 1 file(s) remaining\\rCompleted 18.0 MiB/82.0 MiB (80.9 MiB/s) with 1 file(s) remaining\\rCompleted 18.2 MiB/82.0 MiB (81.9 MiB/s) with 1 file(s) remaining\\rCompleted 18.5 MiB/82.0 MiB (82.5 MiB/s) with 1 file(s) remaining\\rCompleted 18.8 MiB/82.0 MiB (83.2 MiB/s) with 1 file(s) remaining\\rCompleted 19.0 MiB/82.0 MiB (83.5 MiB/s) with 1 file(s) remaining\\rCompleted 19.2 MiB/82.0 MiB (83.9 MiB/s) with 1 file(s) remaining\\rCompleted 19.5 MiB/82.0 MiB (84.5 MiB/s) with 1 file(s) remaining\\rCompleted 19.8 MiB/82.0 MiB (84.9 MiB/s) with 1 file(s) remaining\\rCompleted 20.0 MiB/82.0 MiB (85.8 MiB/s) with 1 file(s) remaining\\rCompleted 20.2 MiB/82.0 MiB (86.4 MiB/s) with 1 file(s) remaining\\rCompleted 20.5 MiB/82.0 MiB (87.1 MiB/s) with 1 file(s) remaining\\rCompleted 20.8 MiB/82.0 MiB (87.4 MiB/s) with 1 file(s) remaining\\rCompleted 21.0 MiB/82.0 MiB (88.4 MiB/s) with 1 file(s) remaining\\rCompleted 21.2 MiB/82.0 MiB (88.5 MiB/s) with 1 file(s) remaining\\rCompleted 21.5 MiB/82.0 MiB (89.3 MiB/s) with 1 file(s) remaining\\rCompleted 21.8 MiB/82.0 MiB (90.3 MiB/s) with 1 file(s) remaining\\rCompleted 22.0 MiB/82.0 MiB (90.4 MiB/s) with 1 file(s) remaining\\rCompleted 22.2 MiB/82.0 MiB (90.9 MiB/s) with 1 file(s) remaining\\rCompleted 22.5 MiB/82.0 MiB (90.6 MiB/s) with 1 file(s) remaining\\rCompleted 22.8 MiB/82.0 MiB (91.4 MiB/s) with 1 file(s) remaining\\rCompleted 23.0 MiB/82.0 MiB (92.1 MiB/s) with 1 file(s) remaining\\rCompleted 23.2 MiB/82.0 MiB (92.7 MiB/s) with 1 file(s) remaining\\rCompleted 23.5 MiB/82.0 MiB (93.6 MiB/s) with 1 file(s) remaining\\rCompleted 23.8 MiB/82.0 MiB (94.4 MiB/s) with 1 file(s) remaining\\rCompleted 24.0 MiB/82.0 MiB (94.2 MiB/s) with 1 file(s) remaining\\rCompleted 24.2 MiB/82.0 MiB (95.0 MiB/s) with 1 file(s) remaining\\rCompleted 24.5 MiB/82.0 MiB (95.9 MiB/s) with 1 file(s) remaining\\rCompleted 24.8 MiB/82.0 MiB (96.5 MiB/s) with 1 file(s) remaining\\rCompleted 25.0 MiB/82.0 MiB (95.2 MiB/s) with 1 file(s) remaining\\rCompleted 25.2 MiB/82.0 MiB (96.1 MiB/s) with 1 file(s) remaining\\rCompleted 25.5 MiB/82.0 MiB (96.3 MiB/s) with 1 file(s) remaining\\rCompleted 25.8 MiB/82.0 MiB (97.2 MiB/s) with 1 file(s) remaining\\rCompleted 26.0 MiB/82.0 MiB (98.0 MiB/s) with 1 file(s) remaining\\rCompleted 26.2 MiB/82.0 MiB (98.6 MiB/s) with 1 file(s) remaining\\rCompleted 26.5 MiB/82.0 MiB (99.2 MiB/s) with 1 file(s) remaining\\rCompleted 26.8 MiB/82.0 MiB (100.1 MiB/s) with 1 file(s) remaining\\rCompleted 27.0 MiB/82.0 MiB (100.7 MiB/s) with 1 file(s) remaining\\rCompleted 27.2 MiB/82.0 MiB (101.6 MiB/s) with 1 file(s) remaining\\rCompleted 27.5 MiB/82.0 MiB (100.8 MiB/s) with 1 file(s) remaining\\rCompleted 27.8 MiB/82.0 MiB (100.4 MiB/s) with 1 file(s) remaining\\rCompleted 28.0 MiB/82.0 MiB (101.3 MiB/s) with 1 file(s) remaining\\rCompleted 28.2 MiB/82.0 MiB (101.6 MiB/s) with 1 file(s) remaining\\rCompleted 28.5 MiB/82.0 MiB (102.3 MiB/s) with 1 file(s) remaining\\rCompleted 28.8 MiB/82.0 MiB (102.8 MiB/s) with 1 file(s) remaining\\rCompleted 29.0 MiB/82.0 MiB (103.3 MiB/s) with 1 file(s) remaining\\rCompleted 29.2 MiB/82.0 MiB (104.0 MiB/s) with 1 file(s) remaining\\rCompleted 29.5 MiB/82.0 MiB (104.1 MiB/s) with 1 file(s) remaining\\rCompleted 29.8 MiB/82.0 MiB (104.6 MiB/s) with 1 file(s) remaining\\rCompleted 30.0 MiB/82.0 MiB (104.3 MiB/s) with 1 file(s) remaining\\rCompleted 30.2 MiB/82.0 MiB (104.9 MiB/s) with 1 file(s) remaining\\rCompleted 30.5 MiB/82.0 MiB (105.5 MiB/s) with 1 file(s) remaining\\rCompleted 30.8 MiB/82.0 MiB (105.8 MiB/s) with 1 file(s) remaining\\rCompleted 31.0 MiB/82.0 MiB (106.6 MiB/s) with 1 file(s) remaining\\rCompleted 31.2 MiB/82.0 MiB (106.7 MiB/s) with 1 file(s) remaining\\rCompleted 31.5 MiB/82.0 MiB (107.6 MiB/s) with 1 file(s) remaining\\rCompleted 31.8 MiB/82.0 MiB (108.1 MiB/s) with 1 file(s) remaining\\rCompleted 32.0 MiB/82.0 MiB (107.8 MiB/s) with 1 file(s) remaining\\rCompleted 32.2 MiB/82.0 MiB (108.6 MiB/s) with 1 file(s) remaining\\rCompleted 32.5 MiB/82.0 MiB (108.1 MiB/s) with 1 file(s) remaining\\rCompleted 32.8 MiB/82.0 MiB (108.8 MiB/s) with 1 file(s) remaining\\rCompleted 33.0 MiB/82.0 MiB (109.0 MiB/s) with 1 file(s) remaining\\rCompleted 33.2 MiB/82.0 MiB (109.4 MiB/s) with 1 file(s) remaining\\rCompleted 33.5 MiB/82.0 MiB (110.1 MiB/s) with 1 file(s) remaining\\rCompleted 33.8 MiB/82.0 MiB (110.8 MiB/s) with 1 file(s) remaining\\rCompleted 34.0 MiB/82.0 MiB (110.8 MiB/s) with 1 file(s) remaining\\rCompleted 34.2 MiB/82.0 MiB (111.1 MiB/s) with 1 file(s) remaining\\rCompleted 34.5 MiB/82.0 MiB (111.9 MiB/s) with 1 file(s) remaining\\rCompleted 34.8 MiB/82.0 MiB (112.2 MiB/s) with 1 file(s) remaining\\rCompleted 35.0 MiB/82.0 MiB (112.0 MiB/s) with 1 file(s) remaining\\rCompleted 35.2 MiB/82.0 MiB (111.7 MiB/s) with 1 file(s) remaining\\rCompleted 35.5 MiB/82.0 MiB (112.1 MiB/s) with 1 file(s) remaining\\rCompleted 35.8 MiB/82.0 MiB (112.8 MiB/s) with 1 file(s) remaining\\rCompleted 36.0 MiB/82.0 MiB (113.3 MiB/s) with 1 file(s) remaining\\rCompleted 36.2 MiB/82.0 MiB (113.4 MiB/s) with 1 file(s) remaining\\rCompleted 36.5 MiB/82.0 MiB (113.6 MiB/s) with 1 file(s) remaining\\rCompleted 36.8 MiB/82.0 MiB (114.3 MiB/s) with 1 file(s) remaining\\rCompleted 37.0 MiB/82.0 MiB (114.5 MiB/s) with 1 file(s) remaining\\rCompleted 37.2 MiB/82.0 MiB (115.3 MiB/s) with 1 file(s) remaining\\rCompleted 37.5 MiB/82.0 MiB (114.8 MiB/s) with 1 file(s) remaining\\rCompleted 37.8 MiB/82.0 MiB (115.1 MiB/s) with 1 file(s) remaining\\rCompleted 38.0 MiB/82.0 MiB (115.6 MiB/s) with 1 file(s) remaining\\rCompleted 38.2 MiB/82.0 MiB (116.1 MiB/s) with 1 file(s) remaining\\rCompleted 38.5 MiB/82.0 MiB (116.4 MiB/s) with 1 file(s) remaining\\rCompleted 38.8 MiB/82.0 MiB (116.7 MiB/s) with 1 file(s) remaining\\rCompleted 39.0 MiB/82.0 MiB (116.9 MiB/s) with 1 file(s) remaining\\rCompleted 39.2 MiB/82.0 MiB (116.2 MiB/s) with 1 file(s) remaining\\rCompleted 39.5 MiB/82.0 MiB (117.0 MiB/s) with 1 file(s) remaining\\rCompleted 39.8 MiB/82.0 MiB (116.5 MiB/s) with 1 file(s) remaining\\rCompleted 40.0 MiB/82.0 MiB (117.1 MiB/s) with 1 file(s) remaining\\rCompleted 40.2 MiB/82.0 MiB (117.7 MiB/s) with 1 file(s) remaining\\rCompleted 40.5 MiB/82.0 MiB (118.3 MiB/s) with 1 file(s) remaining\\rCompleted 40.8 MiB/82.0 MiB (119.0 MiB/s) with 1 file(s) remaining\\rCompleted 41.0 MiB/82.0 MiB (119.5 MiB/s) with 1 file(s) remaining\\rCompleted 41.2 MiB/82.0 MiB (119.9 MiB/s) with 1 file(s) remaining\\rCompleted 41.5 MiB/82.0 MiB (120.3 MiB/s) with 1 file(s) remaining\\rCompleted 41.8 MiB/82.0 MiB (119.6 MiB/s) with 1 file(s) remaining\\rCompleted 42.0 MiB/82.0 MiB (119.4 MiB/s) with 1 file(s) remaining\\rCompleted 42.2 MiB/82.0 MiB (119.8 MiB/s) with 1 file(s) remaining\\rCompleted 42.5 MiB/82.0 MiB (119.9 MiB/s) with 1 file(s) remaining\\rCompleted 42.8 MiB/82.0 MiB (120.5 MiB/s) with 1 file(s) remaining\\rCompleted 43.0 MiB/82.0 MiB (120.9 MiB/s) with 1 file(s) remaining\\rCompleted 43.2 MiB/82.0 MiB (121.4 MiB/s) with 1 file(s) remaining\\rCompleted 43.5 MiB/82.0 MiB (121.7 MiB/s) with 1 file(s) remaining\\rCompleted 43.8 MiB/82.0 MiB (122.2 MiB/s) with 1 file(s) remaining\\rCompleted 44.0 MiB/82.0 MiB (122.3 MiB/s) with 1 file(s) remaining\\rCompleted 44.2 MiB/82.0 MiB (122.7 MiB/s) with 1 file(s) remaining\\rCompleted 44.5 MiB/82.0 MiB (122.0 MiB/s) with 1 file(s) remaining\\rCompleted 44.8 MiB/82.0 MiB (122.3 MiB/s) with 1 file(s) remaining\\rCompleted 45.0 MiB/82.0 MiB (122.6 MiB/s) with 1 file(s) remaining\\rCompleted 45.2 MiB/82.0 MiB (123.0 MiB/s) with 1 file(s) remaining\\rCompleted 45.5 MiB/82.0 MiB (123.5 MiB/s) with 1 file(s) remaining\\rCompleted 45.8 MiB/82.0 MiB (124.0 MiB/s) with 1 file(s) remaining\\rCompleted 46.0 MiB/82.0 MiB (124.6 MiB/s) with 1 file(s) remaining\\rCompleted 46.2 MiB/82.0 MiB (124.9 MiB/s) with 1 file(s) remaining\\rCompleted 46.5 MiB/82.0 MiB (124.6 MiB/s) with 1 file(s) remaining\\rCompleted 46.8 MiB/82.0 MiB (124.6 MiB/s) with 1 file(s) remaining\\rCompleted 47.0 MiB/82.0 MiB (124.4 MiB/s) with 1 file(s) remaining\\rCompleted 47.2 MiB/82.0 MiB (125.0 MiB/s) with 1 file(s) remaining\\rCompleted 47.5 MiB/82.0 MiB (125.4 MiB/s) with 1 file(s) remaining\\rCompleted 47.8 MiB/82.0 MiB (125.7 MiB/s) with 1 file(s) remaining\\rCompleted 48.0 MiB/82.0 MiB (126.1 MiB/s) with 1 file(s) remaining\\rCompleted 48.2 MiB/82.0 MiB (126.7 MiB/s) with 1 file(s) remaining\\rCompleted 48.5 MiB/82.0 MiB (126.2 MiB/s) with 1 file(s) remaining\\rCompleted 48.8 MiB/82.0 MiB (126.7 MiB/s) with 1 file(s) remaining\\rCompleted 49.0 MiB/82.0 MiB (126.7 MiB/s) with 1 file(s) remaining\\rCompleted 49.2 MiB/82.0 MiB (127.1 MiB/s) with 1 file(s) remaining\\rCompleted 49.5 MiB/82.0 MiB (127.0 MiB/s) with 1 file(s) remaining\\rCompleted 49.8 MiB/82.0 MiB (127.7 MiB/s) with 1 file(s) remaining\\rCompleted 50.0 MiB/82.0 MiB (128.2 MiB/s) with 1 file(s) remaining\\rCompleted 50.2 MiB/82.0 MiB (128.2 MiB/s) with 1 file(s) remaining\\rCompleted 50.5 MiB/82.0 MiB (128.6 MiB/s) with 1 file(s) remaining\\rCompleted 50.8 MiB/82.0 MiB (128.4 MiB/s) with 1 file(s) remaining\\rCompleted 51.0 MiB/82.0 MiB (127.8 MiB/s) with 1 file(s) remaining\\rCompleted 51.2 MiB/82.0 MiB (128.2 MiB/s) with 1 file(s) remaining\\rCompleted 51.5 MiB/82.0 MiB (128.0 MiB/s) with 1 file(s) remaining\\rCompleted 51.8 MiB/82.0 MiB (128.6 MiB/s) with 1 file(s) remaining\\rCompleted 52.0 MiB/82.0 MiB (129.2 MiB/s) with 1 file(s) remaining\\rCompleted 52.2 MiB/82.0 MiB (129.8 MiB/s) with 1 file(s) remaining\\rCompleted 52.5 MiB/82.0 MiB (130.2 MiB/s) with 1 file(s) remaining\\rCompleted 52.8 MiB/82.0 MiB (130.2 MiB/s) with 1 file(s) remaining\\rCompleted 53.0 MiB/82.0 MiB (130.6 MiB/s) with 1 file(s) remaining\\rCompleted 53.2 MiB/82.0 MiB (130.8 MiB/s) with 1 file(s) remaining\\rCompleted 53.5 MiB/82.0 MiB (130.7 MiB/s) with 1 file(s) remaining\\rCompleted 53.8 MiB/82.0 MiB (131.2 MiB/s) with 1 file(s) remaining\\rCompleted 54.0 MiB/82.0 MiB (131.2 MiB/s) with 1 file(s) remaining\\rCompleted 54.2 MiB/82.0 MiB (131.3 MiB/s) with 1 file(s) remaining\\rCompleted 54.5 MiB/82.0 MiB (131.3 MiB/s) with 1 file(s) remaining\\rCompleted 54.8 MiB/82.0 MiB (131.0 MiB/s) with 1 file(s) remaining\\rCompleted 55.0 MiB/82.0 MiB (131.1 MiB/s) with 1 file(s) remaining\\rCompleted 55.2 MiB/82.0 MiB (131.5 MiB/s) with 1 file(s) remaining\\rCompleted 55.5 MiB/82.0 MiB (132.0 MiB/s) with 1 file(s) remaining\\rCompleted 55.8 MiB/82.0 MiB (132.6 MiB/s) with 1 file(s) remaining\\rCompleted 56.0 MiB/82.0 MiB (132.6 MiB/s) with 1 file(s) remaining\\rCompleted 56.2 MiB/82.0 MiB (132.9 MiB/s) with 1 file(s) remaining\\rCompleted 56.5 MiB/82.0 MiB (132.7 MiB/s) with 1 file(s) remaining\\rCompleted 56.8 MiB/82.0 MiB (133.2 MiB/s) with 1 file(s) remaining\\rCompleted 57.0 MiB/82.0 MiB (133.6 MiB/s) with 1 file(s) remaining\\rCompleted 57.2 MiB/82.0 MiB (133.0 MiB/s) with 1 file(s) remaining\\rCompleted 57.5 MiB/82.0 MiB (132.6 MiB/s) with 1 file(s) remaining\\rCompleted 57.8 MiB/82.0 MiB (133.0 MiB/s) with 1 file(s) remaining\\rCompleted 58.0 MiB/82.0 MiB (133.5 MiB/s) with 1 file(s) remaining\\rCompleted 58.2 MiB/82.0 MiB (133.9 MiB/s) with 1 file(s) remaining\\rCompleted 58.5 MiB/82.0 MiB (134.1 MiB/s) with 1 file(s) remaining\\rCompleted 58.8 MiB/82.0 MiB (134.6 MiB/s) with 1 file(s) remaining\\rCompleted 59.0 MiB/82.0 MiB (134.9 MiB/s) with 1 file(s) remaining\\rCompleted 59.2 MiB/82.0 MiB (135.1 MiB/s) with 1 file(s) remaining\\rCompleted 59.5 MiB/82.0 MiB (135.6 MiB/s) with 1 file(s) remaining\\rCompleted 59.8 MiB/82.0 MiB (134.5 MiB/s) with 1 file(s) remaining\\rCompleted 60.0 MiB/82.0 MiB (135.0 MiB/s) with 1 file(s) remaining\\rCompleted 60.2 MiB/82.0 MiB (135.5 MiB/s) with 1 file(s) remaining\\rCompleted 60.5 MiB/82.0 MiB (135.7 MiB/s) with 1 file(s) remaining\\rCompleted 60.8 MiB/82.0 MiB (135.5 MiB/s) with 1 file(s) remaining\\rCompleted 61.0 MiB/82.0 MiB (135.9 MiB/s) with 1 file(s) remaining\\rCompleted 61.2 MiB/82.0 MiB (136.2 MiB/s) with 1 file(s) remaining\\rCompleted 61.5 MiB/82.0 MiB (136.1 MiB/s) with 1 file(s) remaining\\rCompleted 61.8 MiB/82.0 MiB (136.1 MiB/s) with 1 file(s) remaining\\rCompleted 62.0 MiB/82.0 MiB (136.4 MiB/s) with 1 file(s) remaining\\rCompleted 62.2 MiB/82.0 MiB (136.7 MiB/s) with 1 file(s) remaining\\rCompleted 62.5 MiB/82.0 MiB (137.0 MiB/s) with 1 file(s) remaining\\rCompleted 62.8 MiB/82.0 MiB (137.3 MiB/s) with 1 file(s) remaining\\rCompleted 63.0 MiB/82.0 MiB (137.2 MiB/s) with 1 file(s) remaining\\rCompleted 63.2 MiB/82.0 MiB (137.3 MiB/s) with 1 file(s) remaining\\rCompleted 63.5 MiB/82.0 MiB (136.4 MiB/s) with 1 file(s) remaining\\rCompleted 63.8 MiB/82.0 MiB (136.8 MiB/s) with 1 file(s) remaining\\rCompleted 64.0 MiB/82.0 MiB (137.3 MiB/s) with 1 file(s) remaining\\rCompleted 64.2 MiB/82.0 MiB (137.7 MiB/s) with 1 file(s) remaining\\rCompleted 64.5 MiB/82.0 MiB (138.2 MiB/s) with 1 file(s) remaining\\rCompleted 64.8 MiB/82.0 MiB (138.7 MiB/s) with 1 file(s) remaining\\rCompleted 65.0 MiB/82.0 MiB (139.2 MiB/s) with 1 file(s) remaining\\rCompleted 65.2 MiB/82.0 MiB (139.1 MiB/s) with 1 file(s) remaining\\rCompleted 65.5 MiB/82.0 MiB (139.3 MiB/s) with 1 file(s) remaining\\rCompleted 65.8 MiB/82.0 MiB (138.4 MiB/s) with 1 file(s) remaining\\rCompleted 66.0 MiB/82.0 MiB (138.3 MiB/s) with 1 file(s) remaining\\rCompleted 66.2 MiB/82.0 MiB (138.5 MiB/s) with 1 file(s) remaining\\rCompleted 66.5 MiB/82.0 MiB (138.7 MiB/s) with 1 file(s) remaining\\rCompleted 66.8 MiB/82.0 MiB (139.2 MiB/s) with 1 file(s) remaining\\rCompleted 67.0 MiB/82.0 MiB (139.7 MiB/s) with 1 file(s) remaining\\rCompleted 67.2 MiB/82.0 MiB (140.0 MiB/s) with 1 file(s) remaining\\rCompleted 67.5 MiB/82.0 MiB (140.4 MiB/s) with 1 file(s) remaining\\rCompleted 67.8 MiB/82.0 MiB (140.9 MiB/s) with 1 file(s) remaining\\rCompleted 68.0 MiB/82.0 MiB (140.4 MiB/s) with 1 file(s) remaining\\rCompleted 68.2 MiB/82.0 MiB (139.8 MiB/s) with 1 file(s) remaining\\rCompleted 68.5 MiB/82.0 MiB (139.9 MiB/s) with 1 file(s) remaining\\rCompleted 68.8 MiB/82.0 MiB (140.3 MiB/s) with 1 file(s) remaining\\rCompleted 69.0 MiB/82.0 MiB (140.5 MiB/s) with 1 file(s) remaining\\rCompleted 69.2 MiB/82.0 MiB (140.6 MiB/s) with 1 file(s) remaining\\rCompleted 69.5 MiB/82.0 MiB (140.8 MiB/s) with 1 file(s) remaining\\rCompleted 69.8 MiB/82.0 MiB (140.9 MiB/s) with 1 file(s) remaining\\rCompleted 70.0 MiB/82.0 MiB (141.2 MiB/s) with 1 file(s) remaining\\rCompleted 70.2 MiB/82.0 MiB (141.6 MiB/s) with 1 file(s) remaining\\rCompleted 70.5 MiB/82.0 MiB (142.0 MiB/s) with 1 file(s) remaining\\rCompleted 70.8 MiB/82.0 MiB (142.3 MiB/s) with 1 file(s) remaining\\rCompleted 71.0 MiB/82.0 MiB (141.8 MiB/s) with 1 file(s) remaining\\rCompleted 71.2 MiB/82.0 MiB (141.6 MiB/s) with 1 file(s) remaining\\rCompleted 71.5 MiB/82.0 MiB (142.0 MiB/s) with 1 file(s) remaining\\rCompleted 71.8 MiB/82.0 MiB (142.4 MiB/s) with 1 file(s) remaining\\rCompleted 72.0 MiB/82.0 MiB (142.9 MiB/s) with 1 file(s) remaining\\rCompleted 72.2 MiB/82.0 MiB (142.8 MiB/s) with 1 file(s) remaining\\rCompleted 72.5 MiB/82.0 MiB (142.9 MiB/s) with 1 file(s) remaining\\rCompleted 72.8 MiB/82.0 MiB (142.8 MiB/s) with 1 file(s) remaining\\rCompleted 73.0 MiB/82.0 MiB (142.9 MiB/s) with 1 file(s) remaining\\rCompleted 73.2 MiB/82.0 MiB (143.1 MiB/s) with 1 file(s) remaining\\rCompleted 73.5 MiB/82.0 MiB (143.4 MiB/s) with 1 file(s) remaining\\rCompleted 73.8 MiB/82.0 MiB (143.8 MiB/s) with 1 file(s) remaining\\rCompleted 74.0 MiB/82.0 MiB (144.1 MiB/s) with 1 file(s) remaining\\rCompleted 74.2 MiB/82.0 MiB (144.5 MiB/s) with 1 file(s) remaining\\rCompleted 74.5 MiB/82.0 MiB (143.9 MiB/s) with 1 file(s) remaining\\rCompleted 74.8 MiB/82.0 MiB (143.9 MiB/s) with 1 file(s) remaining\\rCompleted 75.0 MiB/82.0 MiB (144.2 MiB/s) with 1 file(s) remaining\\rCompleted 75.2 MiB/82.0 MiB (144.3 MiB/s) with 1 file(s) remaining\\rCompleted 75.5 MiB/82.0 MiB (144.7 MiB/s) with 1 file(s) remaining\\rCompleted 75.8 MiB/82.0 MiB (144.4 MiB/s) with 1 file(s) remaining\\rCompleted 76.0 MiB/82.0 MiB (144.5 MiB/s) with 1 file(s) remaining\\rCompleted 76.2 MiB/82.0 MiB (144.3 MiB/s) with 1 file(s) remaining\\rCompleted 76.5 MiB/82.0 MiB (144.0 MiB/s) with 1 file(s) remaining\\rCompleted 76.8 MiB/82.0 MiB (144.3 MiB/s) with 1 file(s) remaining\\rCompleted 77.0 MiB/82.0 MiB (144.6 MiB/s) with 1 file(s) remaining\\rCompleted 77.2 MiB/82.0 MiB (144.9 MiB/s) with 1 file(s) remaining\\rCompleted 77.5 MiB/82.0 MiB (145.3 MiB/s) with 1 file(s) remaining\\rCompleted 77.8 MiB/82.0 MiB (145.4 MiB/s) with 1 file(s) remaining\\rCompleted 78.0 MiB/82.0 MiB (145.6 MiB/s) with 1 file(s) remaining\\rCompleted 78.2 MiB/82.0 MiB (145.7 MiB/s) with 1 file(s) remaining\\rCompleted 78.5 MiB/82.0 MiB (146.0 MiB/s) with 1 file(s) remaining\\rCompleted 78.8 MiB/82.0 MiB (146.1 MiB/s) with 1 file(s) remaining\\rCompleted 79.0 MiB/82.0 MiB (146.1 MiB/s) with 1 file(s) remaining\\rCompleted 79.2 MiB/82.0 MiB (146.5 MiB/s) with 1 file(s) remaining\\rCompleted 79.5 MiB/82.0 MiB (145.9 MiB/s) with 1 file(s) remaining\\rCompleted 79.8 MiB/82.0 MiB (146.0 MiB/s) with 1 file(s) remaining\\rCompleted 80.0 MiB/82.0 MiB (146.3 MiB/s) with 1 file(s) remaining\\rCompleted 80.2 MiB/82.0 MiB (146.1 MiB/s) with 1 file(s) remaining\\rCompleted 80.5 MiB/82.0 MiB (146.5 MiB/s) with 1 file(s) remaining\\rCompleted 80.8 MiB/82.0 MiB (146.2 MiB/s) with 1 file(s) remaining\\rCompleted 81.0 MiB/82.0 MiB (146.0 MiB/s) with 1 file(s) remaining\\rCompleted 81.2 MiB/82.0 MiB (145.3 MiB/s) with 1 file(s) remaining\\rCompleted 81.5 MiB/82.0 MiB (145.1 MiB/s) with 1 file(s) remaining\\rCompleted 81.8 MiB/82.0 MiB (145.0 MiB/s) with 1 file(s) remaining\\rCompleted 82.0 MiB/82.0 MiB (140.5 MiB/s) with 1 file(s) remaining\\rupload: test/test_part0.pbr to s3://e15-nlp-amazon-review-polarity/ntm/amazon_review/test/test_part0.pbr\\n',\n",
       " None)"
      ]
     },
     "execution_count": 50,
     "metadata": {},
     "output_type": "execute_result"
    }
   ],
   "source": [
    "cmd_test = 'aws s3 cp ' + test_data_dir + ' ' + s3_test_data + ' --recursive' \n",
    "p=subprocess.Popen(cmd_test, shell=True,stdout=subprocess.PIPE)\n",
    "p.communicate()"
   ]
  },
  {
   "cell_type": "code",
   "execution_count": 51,
   "metadata": {},
   "outputs": [
    {
     "data": {
      "text/plain": [
       "(b'Completed 256.0 KiB/288.4 KiB (4.9 MiB/s) with 1 file(s) remaining\\rCompleted 288.4 KiB/288.4 KiB (2.4 MiB/s) with 1 file(s) remaining\\rupload: auxiliary/vocab.txt to s3://e15-nlp-amazon-review-polarity/ntm/amazon_review/auxiliary/vocab.txt\\n',\n",
       " None)"
      ]
     },
     "execution_count": 51,
     "metadata": {},
     "output_type": "execute_result"
    }
   ],
   "source": [
    "cmd_aux = 'aws s3 cp ' + aux_data_dir + ' ' + s3_aux_data + ' --recursive' \n",
    "p=subprocess.Popen(cmd_aux, shell=True,stdout=subprocess.PIPE)\n",
    "p.communicate()"
   ]
  },
  {
   "cell_type": "code",
   "execution_count": 52,
   "metadata": {},
   "outputs": [],
   "source": [
    "import boto3\n",
    "from sagemaker.amazon.amazon_estimator import get_image_uri\n",
    "container = get_image_uri(boto3.Session().region_name,'ntm')"
   ]
  },
  {
   "cell_type": "code",
   "execution_count": 60,
   "metadata": {},
   "outputs": [],
   "source": [
    "import sagemaker\n",
    "sess = sagemaker.Session()\n",
    "ntm = sagemaker.estimator.Estimator(container,\n",
    "                                   role,\n",
    "                                   train_instance_count = 1,\n",
    "                                   train_instance_type = 'ml.p3.2xlarge',\n",
    "                                   output_path = output_path,\n",
    "                                   sagemaker_session = sess)"
   ]
  },
  {
   "cell_type": "code",
   "execution_count": 115,
   "metadata": {},
   "outputs": [],
   "source": [
    "num_topics = 12\n",
    "ntm.set_hyperparameters(num_topics = num_topics, feature_dim = vocab_size, mini_batch_size = 60, epochs = 50, sub_sample = 1.0)"
   ]
  },
  {
   "cell_type": "code",
   "execution_count": 116,
   "metadata": {},
   "outputs": [],
   "source": [
    "from sagemaker.session import s3_input\n",
    "s3_train = s3_input(s3_train_data, distribution='ShardedByS3Key',\n",
    "                    content_type='application/x-recordio-protobuf')\n",
    "s3_val = s3_input(s3_val_data, distribution='FullyReplicated',\n",
    "                  content_type='application/x-recordio-protobuf')\n",
    "s3_test = s3_input(s3_test_data, distribution='FullyReplicated',\n",
    "                  content_type='application/x-recordio-protobuf')\n",
    "\n",
    "s3_aux = s3_input(s3_aux_data, distribution='FullyReplicated', content_type='text/plain')"
   ]
  },
  {
   "cell_type": "code",
   "execution_count": null,
   "metadata": {},
   "outputs": [
    {
     "name": "stdout",
     "output_type": "stream",
     "text": [
      "2019-08-02 19:55:13 Starting - Starting the training job...\n",
      "2019-08-02 19:55:15 Starting - Launching requested ML instances...\n",
      "2019-08-02 19:55:46 Starting - Insufficient capacity error from EC2 while launching instances, retrying!......\n",
      "2019-08-02 19:56:45 Starting - Preparing the instances for training...\n",
      "2019-08-02 19:57:42 Downloading - Downloading input data...\n",
      "2019-08-02 19:57:53 Training - Downloading the training image.\n",
      "\u001b[31mDocker entrypoint called with argument(s): train\u001b[0m\n",
      "\u001b[31m/opt/amazon/lib/python2.7/site-packages/pandas/util/nosetester.py:13: DeprecationWarning: Importing from numpy.testing.nosetester is deprecated, import from numpy.testing instead.\n",
      "  from numpy.testing import nosetester\u001b[0m\n",
      "\u001b[31m[08/02/2019 19:58:19 INFO 140227500922688] Reading default configuration from /opt/amazon/lib/python2.7/site-packages/algorithm/default-input.json: {u'num_patience_epochs': u'3', u'clip_gradient': u'Inf', u'encoder_layers': u'auto', u'optimizer': u'adadelta', u'_kvstore': u'auto_gpu', u'rescale_gradient': u'1.0', u'_tuning_objective_metric': u'', u'_num_gpus': u'auto', u'learning_rate': u'0.01', u'_data_format': u'record', u'sub_sample': u'1.0', u'epochs': u'50', u'weight_decay': u'0.0', u'_num_kv_servers': u'auto', u'encoder_layers_activation': u'sigmoid', u'mini_batch_size': u'256', u'tolerance': u'0.001', u'batch_norm': u'false'}\u001b[0m\n",
      "\u001b[31m[08/02/2019 19:58:19 INFO 140227500922688] Reading provided configuration from /opt/ml/input/config/hyperparameters.json: {u'epochs': u'50', u'feature_dim': u'35654', u'mini_batch_size': u'60', u'num_topics': u'12', u'sub_sample': u'1.0'}\u001b[0m\n",
      "\u001b[31m[08/02/2019 19:58:19 INFO 140227500922688] Final configuration: {u'optimizer': u'adadelta', u'rescale_gradient': u'1.0', u'_tuning_objective_metric': u'', u'learning_rate': u'0.01', u'clip_gradient': u'Inf', u'feature_dim': u'35654', u'encoder_layers_activation': u'sigmoid', u'_num_kv_servers': u'auto', u'weight_decay': u'0.0', u'num_patience_epochs': u'3', u'epochs': u'50', u'mini_batch_size': u'60', u'num_topics': u'12', u'_num_gpus': u'auto', u'_data_format': u'record', u'sub_sample': u'1.0', u'_kvstore': u'auto_gpu', u'encoder_layers': u'auto', u'tolerance': u'0.001', u'batch_norm': u'false'}\u001b[0m\n",
      "\u001b[31m[08/02/2019 19:58:19 INFO 140227500922688] nvidia-smi took: 0.0503277778625 secs to identify 1 gpus\u001b[0m\n",
      "\u001b[31mProcess 1 is a worker.\u001b[0m\n",
      "\u001b[31m[08/02/2019 19:58:19 INFO 140227500922688] Using default worker.\u001b[0m\n",
      "\u001b[31m[2019-08-02 19:58:19.410] [tensorio] [warning] TensorIO is already initialized; ignoring the initialization routine.\u001b[0m\n",
      "\u001b[31m[2019-08-02 19:58:19.416] [tensorio] [warning] TensorIO is already initialized; ignoring the initialization routine.\u001b[0m\n",
      "\u001b[31m[08/02/2019 19:58:19 INFO 140227500922688] Initializing\u001b[0m\n",
      "\u001b[31m/opt/amazon/lib/python2.7/site-packages/ai_algorithms_sdk/config/config_helper.py:122: DeprecationWarning: deprecated\n",
      "  warnings.warn(\"deprecated\", DeprecationWarning)\u001b[0m\n",
      "\u001b[31m[08/02/2019 19:58:19 INFO 140227500922688] /opt/ml/input/data/auxiliary\u001b[0m\n",
      "\u001b[31m[08/02/2019 19:58:19 INFO 140227500922688] vocab.txt\u001b[0m\n",
      "\u001b[31m[08/02/2019 19:58:19 INFO 140227500922688] Vocab file vocab.txt is expected at /opt/ml/input/data/auxiliary\u001b[0m\n",
      "\u001b[31m[08/02/2019 19:58:19 INFO 140227500922688] Loading pre-trained token embedding vectors from /opt/amazon/lib/python2.7/site-packages/algorithm/s3_binary/glove.6B.50d.txt\u001b[0m\n",
      "\n",
      "2019-08-02 19:58:17 Training - Training image download completed. Training in progress.\u001b[31m[08/02/2019 19:58:41 WARNING 140227500922688] 6294 out of 35654 in vocabulary do not have embeddings! Default vector used for unknown embedding!\u001b[0m\n",
      "\u001b[31m[08/02/2019 19:58:41 INFO 140227500922688] Vocab embedding shape\u001b[0m\n",
      "\u001b[31m[08/02/2019 19:58:41 INFO 140227500922688] Number of GPUs being used: 1\u001b[0m\n",
      "\u001b[31m[08/02/2019 19:58:50 INFO 140227500922688] Create Store: device\u001b[0m\n",
      "\u001b[31m#metrics {\"Metrics\": {\"Max Batches Seen Between Resets\": {\"count\": 1, \"max\": 0, \"sum\": 0.0, \"min\": 0}, \"Number of Batches Since Last Reset\": {\"count\": 1, \"max\": 0, \"sum\": 0.0, \"min\": 0}, \"Number of Records Since Last Reset\": {\"count\": 1, \"max\": 0, \"sum\": 0.0, \"min\": 0}, \"Total Batches Seen\": {\"count\": 1, \"max\": 0, \"sum\": 0.0, \"min\": 0}, \"Total Records Seen\": {\"count\": 1, \"max\": 0, \"sum\": 0.0, \"min\": 0}, \"Max Records Seen Between Resets\": {\"count\": 1, \"max\": 0, \"sum\": 0.0, \"min\": 0}, \"Reset Count\": {\"count\": 1, \"max\": 0, \"sum\": 0.0, \"min\": 0}}, \"EndTime\": 1564775930.508045, \"Dimensions\": {\"Host\": \"algo-1\", \"Meta\": \"init_train_data_iter\", \"Operation\": \"training\", \"Algorithm\": \"AWS/NTM\"}, \"StartTime\": 1564775930.50801}\n",
      "\u001b[0m\n",
      "\u001b[31m[2019-08-02 19:58:50.509] [tensorio] [info] epoch_stats={\"data_pipeline\": \"/opt/ml/input/data/train\", \"epoch\": 0, \"duration\": 31105, \"num_examples\": 1, \"num_bytes\": 14600}\u001b[0m\n",
      "\u001b[31m[08/02/2019 19:58:50 INFO 140227500922688] \u001b[0m\n",
      "\u001b[31m[08/02/2019 19:58:50 INFO 140227500922688] # Starting training for epoch 1\u001b[0m\n",
      "\u001b[31m[2019-08-02 19:59:07.529] [tensorio] [info] epoch_stats={\"data_pipeline\": \"/opt/ml/input/data/train\", \"epoch\": 2, \"duration\": 17004, \"num_examples\": 1664, \"num_bytes\": 22248188}\u001b[0m\n",
      "\u001b[31m[08/02/2019 19:59:07 INFO 140227500922688] # Finished training epoch 1 on 99826 examples from 1664 batches, each of size 60.\u001b[0m\n",
      "\u001b[31m[08/02/2019 19:59:07 INFO 140227500922688] Metrics for Training:\u001b[0m\n",
      "\u001b[31m[08/02/2019 19:59:07 INFO 140227500922688] Loss (name: value) total: 8.20463791199\u001b[0m\n",
      "\u001b[31m[08/02/2019 19:59:07 INFO 140227500922688] Loss (name: value) kld: 0.1570325877\u001b[0m\n",
      "\u001b[31m[08/02/2019 19:59:07 INFO 140227500922688] Loss (name: value) recons: 8.04760530698\u001b[0m\n",
      "\u001b[31m[08/02/2019 19:59:07 INFO 140227500922688] Loss (name: value) logppx: 8.20463791199\u001b[0m\n",
      "\u001b[31m[08/02/2019 19:59:07 INFO 140227500922688] #quality_metric: host=algo-1, epoch=1, train total_loss <loss>=8.20463791199\u001b[0m\n",
      "\u001b[31m[2019-08-02 19:59:07.553] [tensorio] [info] epoch_stats={\"data_pipeline\": \"/opt/ml/input/data/validation\", \"epoch\": 0, \"duration\": 48142, \"num_examples\": 1, \"num_bytes\": 12376}\u001b[0m\n",
      "\u001b[31m[2019-08-02 20:00:02.798] [tensorio] [info] epoch_stats={\"data_pipeline\": \"/opt/ml/input/data/validation\", \"epoch\": 2, \"duration\": 55241, \"num_examples\": 28337, \"num_bytes\": 376338464}\u001b[0m\n",
      "\u001b[31m[08/02/2019 20:00:02 INFO 140227500922688] Finished scoring on 1700160 examples from 28336 batches, each of size 60.\u001b[0m\n",
      "\u001b[31m[08/02/2019 20:00:02 INFO 140227500922688] Metrics for Inference:\u001b[0m\n",
      "\u001b[31m[08/02/2019 20:00:02 INFO 140227500922688] Loss (name: value) total: 8.02032411208\u001b[0m\n",
      "\u001b[31m[08/02/2019 20:00:02 INFO 140227500922688] Loss (name: value) kld: 0.158939175201\u001b[0m\n",
      "\u001b[31m[08/02/2019 20:00:02 INFO 140227500922688] Loss (name: value) recons: 7.86138493529\u001b[0m\n",
      "\u001b[31m[08/02/2019 20:00:02 INFO 140227500922688] Loss (name: value) logppx: 8.02032411208\u001b[0m\n",
      "\u001b[31m[08/02/2019 20:00:02 INFO 140227500922688] #validation_score (1): 8.020324112084229\u001b[0m\n",
      "\u001b[31m[08/02/2019 20:00:02 INFO 140227500922688] Timing: train: 17.02s, val: 55.27s, epoch: 72.29s\u001b[0m\n",
      "\u001b[31m[08/02/2019 20:00:02 INFO 140227500922688] #progress_metric: host=algo-1, completed 2 % of epochs\u001b[0m\n",
      "\u001b[31m#metrics {\"Metrics\": {\"Max Batches Seen Between Resets\": {\"count\": 1, \"max\": 1664, \"sum\": 1664.0, \"min\": 1664}, \"Number of Batches Since Last Reset\": {\"count\": 1, \"max\": 1664, \"sum\": 1664.0, \"min\": 1664}, \"Number of Records Since Last Reset\": {\"count\": 1, \"max\": 99826, \"sum\": 99826.0, \"min\": 99826}, \"Total Batches Seen\": {\"count\": 1, \"max\": 1664, \"sum\": 1664.0, \"min\": 1664}, \"Total Records Seen\": {\"count\": 1, \"max\": 99826, \"sum\": 99826.0, \"min\": 99826}, \"Max Records Seen Between Resets\": {\"count\": 1, \"max\": 99826, \"sum\": 99826.0, \"min\": 99826}, \"Reset Count\": {\"count\": 1, \"max\": 2, \"sum\": 2.0, \"min\": 2}}, \"EndTime\": 1564776002.800461, \"Dimensions\": {\"Host\": \"algo-1\", \"Meta\": \"training_data_iter\", \"Operation\": \"training\", \"Algorithm\": \"AWS/NTM\", \"epoch\": 0}, \"StartTime\": 1564775930.510053}\n",
      "\u001b[0m\n",
      "\u001b[31m[08/02/2019 20:00:02 INFO 140227500922688] #throughput_metric: host=algo-1, train throughput=1380.89925663 records/second\u001b[0m\n",
      "\u001b[31m[08/02/2019 20:00:02 INFO 140227500922688] \u001b[0m\n",
      "\u001b[31m[08/02/2019 20:00:02 INFO 140227500922688] # Starting training for epoch 2\u001b[0m\n",
      "\u001b[31m[2019-08-02 20:00:19.306] [tensorio] [info] epoch_stats={\"data_pipeline\": \"/opt/ml/input/data/train\", \"epoch\": 5, \"duration\": 16505, \"num_examples\": 1664, \"num_bytes\": 22248188}\u001b[0m\n",
      "\u001b[31m[08/02/2019 20:00:19 INFO 140227500922688] # Finished training epoch 2 on 99826 examples from 1664 batches, each of size 60.\u001b[0m\n",
      "\u001b[31m[08/02/2019 20:00:19 INFO 140227500922688] Metrics for Training:\u001b[0m\n",
      "\u001b[31m[08/02/2019 20:00:19 INFO 140227500922688] Loss (name: value) total: 8.00412638401\u001b[0m\n",
      "\u001b[31m[08/02/2019 20:00:19 INFO 140227500922688] Loss (name: value) kld: 0.190305478202\u001b[0m\n",
      "\u001b[31m[08/02/2019 20:00:19 INFO 140227500922688] Loss (name: value) recons: 7.81382090037\u001b[0m\n",
      "\u001b[31m[08/02/2019 20:00:19 INFO 140227500922688] Loss (name: value) logppx: 8.00412638401\u001b[0m\n",
      "\u001b[31m[08/02/2019 20:00:19 INFO 140227500922688] #quality_metric: host=algo-1, epoch=2, train total_loss <loss>=8.00412638401\u001b[0m\n"
     ]
    }
   ],
   "source": [
    "ntm.fit({'train' : s3_train,'validation' : s3_val,'auxiliary' : s3_aux, 'test' : s3_test})"
   ]
  },
  {
   "cell_type": "code",
   "execution_count": 58,
   "metadata": {},
   "outputs": [
    {
     "name": "stdout",
     "output_type": "stream",
     "text": [
      "Training job name : ntm-2019-08-02-18-17-28-202\n"
     ]
    }
   ],
   "source": [
    "print('Training job name : {}'.format(ntm.latest_training_job.job_name))"
   ]
  },
  {
   "cell_type": "code",
   "execution_count": 71,
   "metadata": {},
   "outputs": [
    {
     "name": "stdout",
     "output_type": "stream",
     "text": [
      "-------------------------------------------------------------------------------------------------------!"
     ]
    }
   ],
   "source": [
    "ntm_predictor2 = ntm.deploy(initial_instance_count=1,\n",
    "                           instance_type='ml.m4.xlarge')"
   ]
  },
  {
   "cell_type": "code",
   "execution_count": 65,
   "metadata": {},
   "outputs": [],
   "source": [
    "from sagemaker.predictor import csv_serializer, json_deserializer"
   ]
  },
  {
   "cell_type": "code",
   "execution_count": 66,
   "metadata": {},
   "outputs": [],
   "source": [
    "ntm_predictor.content_type = 'text/csv'\n",
    "ntm_predictor.serializer = csv_serializer\n",
    "ntm_predictor.deserializer = json_deserializer"
   ]
  },
  {
   "cell_type": "code",
   "execution_count": 86,
   "metadata": {},
   "outputs": [],
   "source": [
    "ntm_predictor2.content_type = 'text/csv'\n",
    "ntm_predictor2.serializer = csv_serializer\n",
    "ntm_predictor2.deserializer = json_deserializer"
   ]
  },
  {
   "cell_type": "code",
   "execution_count": 110,
   "metadata": {},
   "outputs": [],
   "source": [
    "def make_prediction(review, topic_list=None):\n",
    "    review_vec = vectorizer.transform([review]).toarray()\n",
    "    results = ntm_predictor.predict(review_vec)\n",
    "    predictions = np.array([prediction['topic_weights'] for prediction in results['predictions']])[0]\n",
    "    \n",
    "    if not topic_list:\n",
    "        topic_list = list(range(len(predictions)))\n",
    "    \n",
    "    return pd.DataFrame({'Topic':topic_list, 'Confidence':predictions})"
   ]
  },
  {
   "cell_type": "code",
   "execution_count": 113,
   "metadata": {},
   "outputs": [
    {
     "data": {
      "text/html": [
       "<div>\n",
       "<style scoped>\n",
       "    .dataframe tbody tr th:only-of-type {\n",
       "        vertical-align: middle;\n",
       "    }\n",
       "\n",
       "    .dataframe tbody tr th {\n",
       "        vertical-align: top;\n",
       "    }\n",
       "\n",
       "    .dataframe thead th {\n",
       "        text-align: right;\n",
       "    }\n",
       "</style>\n",
       "<table border=\"1\" class=\"dataframe\">\n",
       "  <thead>\n",
       "    <tr style=\"text-align: right;\">\n",
       "      <th></th>\n",
       "      <th>Topic</th>\n",
       "      <th>Confidence</th>\n",
       "    </tr>\n",
       "  </thead>\n",
       "  <tbody>\n",
       "    <tr>\n",
       "      <th>0</th>\n",
       "      <td>0</td>\n",
       "      <td>0.043943</td>\n",
       "    </tr>\n",
       "    <tr>\n",
       "      <th>1</th>\n",
       "      <td>1</td>\n",
       "      <td>0.033241</td>\n",
       "    </tr>\n",
       "    <tr>\n",
       "      <th>2</th>\n",
       "      <td>2</td>\n",
       "      <td>0.041997</td>\n",
       "    </tr>\n",
       "    <tr>\n",
       "      <th>3</th>\n",
       "      <td>3</td>\n",
       "      <td>0.041366</td>\n",
       "    </tr>\n",
       "    <tr>\n",
       "      <th>4</th>\n",
       "      <td>4</td>\n",
       "      <td>0.043546</td>\n",
       "    </tr>\n",
       "    <tr>\n",
       "      <th>5</th>\n",
       "      <td>5</td>\n",
       "      <td>0.040585</td>\n",
       "    </tr>\n",
       "    <tr>\n",
       "      <th>6</th>\n",
       "      <td>6</td>\n",
       "      <td>0.038901</td>\n",
       "    </tr>\n",
       "    <tr>\n",
       "      <th>7</th>\n",
       "      <td>7</td>\n",
       "      <td>0.040161</td>\n",
       "    </tr>\n",
       "    <tr>\n",
       "      <th>8</th>\n",
       "      <td>8</td>\n",
       "      <td>0.043018</td>\n",
       "    </tr>\n",
       "    <tr>\n",
       "      <th>9</th>\n",
       "      <td>9</td>\n",
       "      <td>0.044864</td>\n",
       "    </tr>\n",
       "    <tr>\n",
       "      <th>10</th>\n",
       "      <td>10</td>\n",
       "      <td>0.039580</td>\n",
       "    </tr>\n",
       "    <tr>\n",
       "      <th>11</th>\n",
       "      <td>11</td>\n",
       "      <td>0.034161</td>\n",
       "    </tr>\n",
       "    <tr>\n",
       "      <th>12</th>\n",
       "      <td>12</td>\n",
       "      <td>0.044147</td>\n",
       "    </tr>\n",
       "    <tr>\n",
       "      <th>13</th>\n",
       "      <td>13</td>\n",
       "      <td>0.227363</td>\n",
       "    </tr>\n",
       "    <tr>\n",
       "      <th>14</th>\n",
       "      <td>14</td>\n",
       "      <td>0.038116</td>\n",
       "    </tr>\n",
       "    <tr>\n",
       "      <th>15</th>\n",
       "      <td>15</td>\n",
       "      <td>0.038033</td>\n",
       "    </tr>\n",
       "    <tr>\n",
       "      <th>16</th>\n",
       "      <td>16</td>\n",
       "      <td>0.041519</td>\n",
       "    </tr>\n",
       "    <tr>\n",
       "      <th>17</th>\n",
       "      <td>17</td>\n",
       "      <td>0.042537</td>\n",
       "    </tr>\n",
       "    <tr>\n",
       "      <th>18</th>\n",
       "      <td>18</td>\n",
       "      <td>0.042538</td>\n",
       "    </tr>\n",
       "    <tr>\n",
       "      <th>19</th>\n",
       "      <td>19</td>\n",
       "      <td>0.040385</td>\n",
       "    </tr>\n",
       "  </tbody>\n",
       "</table>\n",
       "</div>"
      ],
      "text/plain": [
       "    Topic  Confidence\n",
       "0       0    0.043943\n",
       "1       1    0.033241\n",
       "2       2    0.041997\n",
       "3       3    0.041366\n",
       "4       4    0.043546\n",
       "5       5    0.040585\n",
       "6       6    0.038901\n",
       "7       7    0.040161\n",
       "8       8    0.043018\n",
       "9       9    0.044864\n",
       "10     10    0.039580\n",
       "11     11    0.034161\n",
       "12     12    0.044147\n",
       "13     13    0.227363\n",
       "14     14    0.038116\n",
       "15     15    0.038033\n",
       "16     16    0.041519\n",
       "17     17    0.042537\n",
       "18     18    0.042538\n",
       "19     19    0.040385"
      ]
     },
     "execution_count": 113,
     "metadata": {},
     "output_type": "execute_result"
    }
   ],
   "source": [
    "topic_list = ['Rock Music', 'Software', 'Music', 'Books', 'Kitchen/Bathroom', 'Maintenance', 'Wut', 'Music']\n",
    "\n",
    "review = \"My battery died.\"\n",
    "\n",
    "make_prediction(review)"
   ]
  },
  {
   "cell_type": "code",
   "execution_count": null,
   "metadata": {},
   "outputs": [],
   "source": []
  }
 ],
 "metadata": {
  "kernelspec": {
   "display_name": "conda_python3",
   "language": "python",
   "name": "conda_python3"
  },
  "language_info": {
   "codemirror_mode": {
    "name": "ipython",
    "version": 3
   },
   "file_extension": ".py",
   "mimetype": "text/x-python",
   "name": "python",
   "nbconvert_exporter": "python",
   "pygments_lexer": "ipython3",
   "version": "3.6.5"
  }
 },
 "nbformat": 4,
 "nbformat_minor": 2
}
